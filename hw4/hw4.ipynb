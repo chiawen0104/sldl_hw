{
 "cells": [
  {
   "cell_type": "markdown",
   "metadata": {},
   "source": [
    "### 統計學習與深度學習\n",
    "### Homework 4\n",
    "\n",
    "請將IPYNB檔與IPYNB Export之HTML檔上傳至COOL作業區。回答作業時建議使用 \"三明治\" 答題法。也就是說，先說明要做什麼，然後列出程式碼與結果，最後說明這些結果的意義。作業自己做。嚴禁抄襲。不接受紙本繳交，不接受遲交。請以英文或中文作答。\n",
    "\n",
    "#### Multilayer Perceptrons for Regression\n",
    "本次作業的主角是 Multilayer perceptrons (MLP)。我們將以MLP建構迴歸模型，探討各項相關議題。\n",
    "\n",
    "\n",
    "#### Dataset: Million Songs Dataset\n",
    "本次作業將使用\"Million Songs Dataset\"作為訓練與測試資料。請使用`pickle.load()`載入*msd_full.pickle*。這個資料集已經切割好了訓練與測試資料，並存放在一個Dictionary的結構。這個Dictionary有四個元素，x_train, y_train, x_test, y_test，分別對應到訓練特徵、訓練標記(Label)、測試特徵、測試標記。 標記變數 (label variable; i.e., $y$) 是歌曲發行年度。特徵為歌曲的聲音特性。迴歸任務為預測歌曲年分。\n",
    "\n",
    "#### Prediction Performance and Loss Function\n",
    "模型訓練應主要使用Sum of Squared Error (SSE)建構Loss Function，另外我們也會練習使用其他種類的Loss Function。為了讓圖表易於理解，不論Loss Function為何，報告預測能力應使用Root Mean Squared Error (RMSE)。使用SSE或RMSE建構Loss Function在本質上沒有差別。但SSE計算成本稍低，而RMSE較有直觀意義。\n",
    "\n",
    "\n",
    "#### Subtraining, Validation, and Test Datasets\n",
    "*msd_full.pickle* 檔案中的訓練資料已經隨機排序過。你應該使用訓練資料最後10%的資料做為Validation Set。其餘的前90%做為Subtraining Set。使用Subtraining Set來訓練資料，並以Validation Set作為參數調教與Early Stopping的依據。Test RMSE應使用測試資料計算得之。\n",
    "\n",
    "所有特徵應該標準化(均數為零，變異數為一)。標準化應該以訓練資料(注意不是Test Set or Subtraining Set)的統計量為之。標記變數(i.e., $y$)應將均數平移至0 (依照訓練資料的統計量)。標記變數的變異數不要調整。\n",
    "\n",
    "\n",
    "#### Minibatch, Epoch, and Early Stopping\n",
    "如果沒有特別說明，模型訓練時應以大小為1,000個資料點的Minibatch為之。模型使用一個Minibatch的資料更新參數之後稱為經歷了一個Batch。當所有Subtraining資料已經用來更新過模型參數，稱為經過了一個Epoch。\n",
    "\n",
    "模型訓練應使用Early Stopping決定最佳的模型。模型訓練時每100個Batch計算一次Training and Validation RMSE。如果Validation為歷史最低，則記下當下的模型參數與當時已進行的Batch數量，稱為best_step_count。如由best_step_count起算已經經過了5,000個Batch而沒有更好的Validation RMSE，則停止模型訓練，並以best_step_count時的模型參數做為最後的模型訓練結果。如果模型訓練最多執行100個epoch。如果模型已經執行了100個epoch而沒有Early Stop，則應使用歷史最佳的Validation RMSE所對應到的模型參數計算Test RMSE。\n",
    "\n",
    "\n",
    "#### Implementation Restriction\n",
    "使用Pytorch建構MLP模型。Ordinary Least Square (OLS)模型訓練沒有限制使用何種套件。\n",
    "\n",
    "#### 資料載入\n",
    "使用下面的程式碼載入資料:"
   ]
  },
  {
   "cell_type": "code",
   "execution_count": 2,
   "metadata": {},
   "outputs": [
    {
     "name": "stdout",
     "output_type": "stream",
     "text": [
      "X_train shape =  (463715, 90)\n",
      "X_subtrain shape =  (417344, 90)\n",
      "X_valid shape =  (46371, 90)\n",
      "Y_subtrain shape =  (417344,)\n",
      "Y_valid shape =  (46371,)\n",
      "X_test shape =  (51630, 90)\n"
     ]
    }
   ],
   "source": [
    "# load packages\n",
    "%matplotlib inline\n",
    "import pickle\n",
    "from sklearn import preprocessing\n",
    "\n",
    "# Load data\n",
    "with open('./msd_full.pickle', 'rb') as fh1:\n",
    "    msd_data = pickle.load(fh1)\n",
    "\n",
    "doscaling = 1\n",
    "if (doscaling == 1):\n",
    "    xscaler = preprocessing.StandardScaler().fit(msd_data['X_train'])\n",
    "    # standardize feature values\n",
    "    X_train = xscaler.transform(msd_data['X_train'])\n",
    "    X_test = xscaler.transform(msd_data['X_test'])\n",
    "else:\n",
    "    X_train = msd_data['X_train']\n",
    "    X_test = msd_data['X_test']\n",
    "\n",
    "Y_train = msd_data['Y_train']\n",
    "Y_test = msd_data['Y_test'].astype('float32')\n",
    "X_test = X_test.astype('float32')\n",
    "\n",
    "y_mean = Y_train.mean()\n",
    "Y_train_keep = Y_train.copy()\n",
    "Y_test_keep = Y_test.copy()\n",
    "Y_train = Y_train - y_mean\n",
    "Y_test = Y_test - y_mean\n",
    "\n",
    "\n",
    "# validation is the last 10% of training, subtraining is the first 90% of training\n",
    "nvalid = int(X_train.shape[0] * 0.1)\n",
    "nsubtrain = X_train.shape[0] - nvalid\n",
    "\n",
    "X_subtrain = X_train[0:nsubtrain, :].astype('float32')\n",
    "X_valid = X_train[nsubtrain:, :].astype('float32')\n",
    "Y_subtrain = Y_train[0:nsubtrain].astype('float32')\n",
    "Y_valid = Y_train[nsubtrain:].astype('float32')\n",
    "\n",
    "Y_subtrain_keep = Y_train_keep[0:nsubtrain].astype('float32')\n",
    "Y_valid_keep = Y_train_keep[nsubtrain:].astype('float32')\n",
    "\n",
    "print(\"X_train shape = \", X_train.shape)\n",
    "print(\"X_subtrain shape = \", X_subtrain.shape)\n",
    "print(\"X_valid shape = \", X_valid.shape)\n",
    "print(\"Y_subtrain shape = \", Y_subtrain.shape)\n",
    "print(\"Y_valid shape = \", Y_valid.shape)\n",
    "print(\"X_test shape = \", X_test.shape)"
   ]
  },
  {
   "cell_type": "markdown",
   "metadata": {},
   "source": [
    "### 回答下面問題"
   ]
  },
  {
   "cell_type": "markdown",
   "metadata": {},
   "source": [
    "#### Q1 (5%)\n",
    "使用Training資料訓練一個Ordinary Least Square模型，並進行預測。列出此模型的RMSE與前五個特徵的參數。OLS模型應包含常數項，且不應有任何Regularization。\n",
    "\n",
    "#### Q2 MLP with Four Hidden Layers (15%)\n",
    "建構一個有四層Hidden Layer的MLP。此模型由輸入層開始，90個Input Features通過線性層轉換為H個Hidden Nodes，並通過ReLu Activation Function，此為第一層Hidden Layer。\n",
    "接著通過下一個線性層與ReLu Activation Function，此為第二層。接著下一個線性層與ReLu Activation Function，此為第三層。\n",
    "然後下一個線性層與ReLu Activation Function，此為第四層。最後通過一個線性層輸出。\n",
    "所有Hidden Layer的寬度都為H。\n",
    "\n",
    "令H= 45, 使用Stochastic Gradient Descent更新參數，設Learning Rate = 0.00001，無Weight Decay與Momentum。畫出模型訓練過程中的Training與Validation RMSE，列出Test RMSE。 並討論訓練過程中Training與Validation RMSE的圖形意義。\n",
    "\n",
    "#### Q3 (10%)\n",
    "重複上題步驟，使用H = 90與180。無須畫訓練過程的RMSE。列出這兩個Test RMSE。討論H = 45, 90, 180的Test RMSE。\n",
    "\n",
    "#### Q4 (15%)\n",
    "使用Q2的模型設定，考慮 H = 45, 90, 180與Weight Decay = 0.1, 0.2, 0.4的所有組合。模型估計後做表整理Test RMSE。討論H的選擇應為多少較合理?\n",
    "\n",
    "#### Q5 MLP with Dropout (15%)\n",
    "建構一個有Dropout的四層Hidden Layer的MLP。此模型由輸入層開始，第一層由90個Input Features通過線性層轉換為H個Hidden Nodes，通過ReLu Activation Function，之後對Hidden Unit Dropout，機率為0.5。後面各Hidden Lyaer均在ReLu後有Dropout，機率皆為0.5。最後通過一個線性層輸出。所有Hidden Layer的寬度都為H。\n",
    "\n",
    "令H= 90, 使用Adaptive Moment Estimation (Adam)更新參數，設Learning Rate = 0.001，無Weight Decay與Momentum，其他參數使用預設值。畫出模型訓練過程中的Training與Validation RMSE，列出Test RMSE。 並討論訓練過程中Training與Validation RMSE的圖形意義。\n",
    "\n",
    "#### Q6 Explore Number of Hidden Units (10%)\n",
    "使用上題的模型，考慮H = 20, 180, 360。 討論H = 20, 45, 180, 360的Test RMSE。\n",
    "\n",
    "#### Q7 L2 + L1 Loss (15%)\n",
    "我們前面的小題皆是使用SSE，也就是L2 Loss。一個改善模型訓練的方式是使用多種類似的Loss，以線性組合的方式建構Loss Function。請使用Q5中的MLP with Dropout模型 (H = 90)，並以L2 + L1 Loss訓練模型。這個Loss的定義如下:\n",
    "\n",
    "$$\n",
    "loss(\\mathbf{y}, \\hat{\\mathbf{y}}) = z \\sum_{i=1}^n (y_i - \\hat{y}_i)^2 + (1 - z) \\sum_{i = 1}^n | y_i - \\hat{y}_i |,\n",
    "$$\n",
    "其中z為實數且$0 <=z <= 1$。\n",
    "\n",
    "使用z = 0.5。並以Adam訓練模型。畫出Training and Validation RMSE，並報告Test RMSE。注意這裡繪圖時應使用RMSE而不是這個特殊的Loss。\n",
    "\n",
    "另外，使用z = 0.0, 0.1, 0.9, 1.0訓練模型(不須提供訓練過程的Loss圖形)，統整各個z值下的Test RMSE並討論。\n",
    "\n",
    "#### Q8 L2 + Customerized Loss (15%)\n",
    "考慮另一個比較特別的Loss Function\n",
    "\n",
    "$$\n",
    "qloss(\\mathbf{y}, \\hat{\\mathbf{y}}) = \\sum_{i=1}^n \\{ q (y_i - \\hat{y}_i)_+ + (1 - q) (\\hat{y}_i - y_i)_+ \\},\n",
    "$$\n",
    "其中q為參數且$0<=q<=1$，而$(y_i - \\hat{y}_i)_+$是取正值的意思。也就是說如果$(y_i - \\hat{y}_i) > 0$，則$(y_i - \\hat{y}_i)_+ = y_i - \\hat{y}_i$，否則$(y_i - \\hat{y}_i)_+ = 0$。\n",
    "\n",
    "令模型的Loss為$z \\sum_{i=1}^n (y_i - \\hat{y}_i)^2 + (1 - z) \\sum_{i=1}^n \\{ 0.5 (y_i - \\hat{y}_i)_+ + 0.5 (\\hat{y}_i - y_i)_+ \\} $。請使用Q5中的MLP with Dropout模型(H = 90)，令z = 0。並以Adam訓練模型。畫出Training and Validation RMSE，並報告Test RMSE。注意這裡繪圖時應使用RMSE而不是這個特殊的Loss。\n",
    "\n",
    "另外，使用z = 0.1, 0.5, 0.9, 1.0訓練模型(不須提供訓練過程的Loss圖形)，統整各個z值下的Test RMSE並討論。\n"
   ]
  },
  {
   "cell_type": "markdown",
   "metadata": {},
   "source": [
    "## Q1\n",
    "使用Training資料訓練一個Ordinary Least Square模型，並進行預測。列出此模型的RMSE與前五個特徵的參數。OLS模型應包含常數項，且不應有任何Regularization。"
   ]
  },
  {
   "cell_type": "code",
   "execution_count": 3,
   "metadata": {},
   "outputs": [],
   "source": [
    "from sklearn.linear_model import LinearRegression\n",
    "ols = LinearRegression()\n",
    "ols.fit(X_train, Y_train)\n",
    "Y_pred1 = ols.predict(X_test)"
   ]
  },
  {
   "cell_type": "code",
   "execution_count": 4,
   "metadata": {},
   "outputs": [
    {
     "name": "stdout",
     "output_type": "stream",
     "text": [
      "RMSE: 9.510160684544399\n",
      "coef of first 5 features: [ 5.30975265 -2.88088114 -1.53234348  0.05737583 -0.33952889]\n"
     ]
    }
   ],
   "source": [
    "from sklearn.metrics import mean_squared_error\n",
    "from math import sqrt\n",
    "rmse1 = sqrt(mean_squared_error(Y_test, Y_pred1))\n",
    "\n",
    "print(f'RMSE: {rmse1}')\n",
    "print(f'coef of first 5 features: {ols.coef_[:5]}')"
   ]
  },
  {
   "cell_type": "markdown",
   "metadata": {},
   "source": [
    "## Q2\n",
    "建構一個有四層Hidden Layer的MLP。此模型由輸入層開始，90個Input Features通過線性層轉換為H個Hidden Nodes，並通過ReLu Activation Function，此為第一層Hidden Layer。\n",
    "接著通過下一個線性層與ReLu Activation Function，此為第二層。接著下一個線性層與ReLu Activation Function，此為第三層。\n",
    "然後下一個線性層與ReLu Activation Function，此為第四層。最後通過一個線性層輸出。\n",
    "所有Hidden Layer的寬度都為H。\n",
    "\n",
    "令H= 45, 使用Stochastic Gradient Descent更新參數，設Learning Rate = 0.00001，無Weight Decay與Momentum。畫出模型訓練過程中的Training與Validation RMSE，列出Test RMSE。 並討論訓練過程中Training與Validation RMSE的圖形意義。"
   ]
  },
  {
   "cell_type": "code",
   "execution_count": 5,
   "metadata": {},
   "outputs": [],
   "source": [
    "import torch\n",
    "import torch.nn as nn\n",
    "import torch.nn.functional as F\n",
    "\n",
    "class MLP(nn.Module):\n",
    "    def __init__(self, in_dim = 90, num_hidden = 45, out_dim = 1):\n",
    "        '''\n",
    "        num_layers: number of layers in the neural networks (EXCLUDING the input layer)\n",
    "        input_dim: dimensionality of input features\n",
    "        num_hidden: number of hidden nodes in each layer\n",
    "        output_dim: number of classes for prediction\n",
    "        '''\n",
    "        super().__init__()\n",
    "        self.layer = nn.Sequential(\n",
    "            nn.Linear(in_dim, num_hidden), # layer 1\n",
    "            nn.ReLU(inplace=True),\n",
    "            nn.Linear(num_hidden, num_hidden), # layer 2\n",
    "            nn.ReLU(inplace=True),\n",
    "            nn.Linear(num_hidden, num_hidden), # layer 3\n",
    "            nn.ReLU(inplace=True),\n",
    "            nn.Linear(num_hidden, out_dim) # layer 4\n",
    "        )\n",
    "\n",
    "    def forward(self, x):\n",
    "        x = self.layer(x)\n",
    "        return x"
   ]
  },
  {
   "cell_type": "code",
   "execution_count": 6,
   "metadata": {},
   "outputs": [],
   "source": [
    "import torch\n",
    "import numpy as np\n",
    "from torch.utils.data import TensorDataset, DataLoader\n",
    "\n",
    "# transform to torch tensor\n",
    "tensor_x_train = torch.Tensor(X_subtrain) \n",
    "tensor_y_train = torch.Tensor(Y_subtrain)\n",
    "\n",
    "tensor_x_valid = torch.Tensor(X_valid)\n",
    "tensor_y_valid = torch.Tensor(Y_valid)\n",
    "\n",
    "tensor_x_test = torch.Tensor(X_test)\n",
    "tensor_y_test = torch.Tensor(Y_test)\n",
    "\n",
    "# create 2 datasets\n",
    "dataset_train = TensorDataset(tensor_x_train, tensor_y_train) \n",
    "dataset_valid = TensorDataset(tensor_x_valid, tensor_y_valid)\n",
    "dataset_test = TensorDataset(tensor_x_test, tensor_y_test)"
   ]
  },
  {
   "cell_type": "code",
   "execution_count": 7,
   "metadata": {},
   "outputs": [],
   "source": [
    "def validation(model, device, valid_loader, loss_function):\n",
    "    # Settings\n",
    "    model.eval()\n",
    "    loss_total = 0\n",
    "\n",
    "    # Test validation data\n",
    "    with torch.no_grad():\n",
    "        for data in valid_loader:\n",
    "            inputs = data[0].to(device)\n",
    "            labels = data[1].to(device)\n",
    "            outputs = model(inputs.view(inputs.shape[0], -1))\n",
    "            outputs = outputs.squeeze(-1) # let outputs and labels have same size\n",
    "            loss = loss_function(outputs, labels)\n",
    "            loss_total += loss.item()\n",
    "\n",
    "    return loss_total / len(valid_loader)"
   ]
  },
  {
   "cell_type": "code",
   "execution_count": 8,
   "metadata": {},
   "outputs": [],
   "source": [
    "import math\n",
    "import copy\n",
    "\n",
    "# Train\n",
    "def train(device, model, epochs, optimizer, loss_function, train_loader, valid_loader):\n",
    "    valid_rmse_list = []\n",
    "    train_rmse_list = []\n",
    "\n",
    "    min_valid_loss = 10000\n",
    "    best_step_count = 0\n",
    "    best_model = model\n",
    "    rmse_update_count = 0\n",
    "    \n",
    "    for epoch in range(1, epochs+1):\n",
    "        model.train()\n",
    "        valid_rmse_epoch = []\n",
    "        train_rmse_epoch = []\n",
    "\n",
    "        for batch, data in enumerate(train_loader, 1):\n",
    "            inputs = data[0].to(device)\n",
    "            labels = data[1].to(device)\n",
    "\n",
    "            # Zero the gradients\n",
    "            optimizer.zero_grad()\n",
    "\n",
    "            # Forward and backward propagation\n",
    "            outputs = model(inputs.view(inputs.shape[0], -1))\n",
    "            outputs = outputs.squeeze(-1) # let outputs and labels have same size\n",
    "            loss = loss_function(outputs, labels)\n",
    "            loss.backward()\n",
    "            optimizer.step()\n",
    "\n",
    "            # Show progress per 100 batch\n",
    "            if batch % 100 == 0:\n",
    "                current_valid_loss = validation(model, device, valid_loader, loss_function)\n",
    "                current_train_loss = loss.item()\n",
    "                # print('[epoch {}/{}, batch {}/{}] training RMSE: {:.8}, validation RMSE: {:.8}'.format(epoch, epochs, batch, len(train_loader), sqrt(current_train_loss), sqrt(current_valid_loss)))\n",
    "\n",
    "                valid_rmse_epoch.append(sqrt(current_valid_loss))\n",
    "                train_rmse_epoch.append(sqrt(current_train_loss))\n",
    "\n",
    "                if current_valid_loss < min_valid_loss:\n",
    "                    best_step_count = batch\n",
    "                    min_valid_loss = current_valid_loss\n",
    "                    best_model = copy.deepcopy(model) #deepcopy\n",
    "                    rmse_update_count = 0\n",
    "                else:\n",
    "                    rmse_update_count += 1\n",
    "                \n",
    "\n",
    "                if rmse_update_count > 5000:  # Early stopping\n",
    "                    return best_model, valid_rmse_list, train_rmse_list\n",
    "\n",
    "        train_rmse_list.append(sum(train_rmse_epoch) / len(train_rmse_epoch))\n",
    "        valid_rmse_list.append(sum(valid_rmse_epoch) / len(valid_rmse_epoch))\n",
    "\n",
    "    return best_model, valid_rmse_list, train_rmse_list"
   ]
  },
  {
   "cell_type": "code",
   "execution_count": 9,
   "metadata": {},
   "outputs": [],
   "source": [
    "from sklearn.metrics import mean_squared_error\n",
    "def test(model, tensor_x_test, y_true):\n",
    "    y_pred = model(tensor_x_test).detach().numpy()\n",
    "    test_rmse = mean_squared_error(y_true, y_pred, squared=False)\n",
    "    return y_pred, test_rmse"
   ]
  },
  {
   "cell_type": "code",
   "execution_count": 10,
   "metadata": {},
   "outputs": [
    {
     "name": "stdout",
     "output_type": "stream",
     "text": [
      "Device state: cpu\n"
     ]
    }
   ],
   "source": [
    "# GPU device\n",
    "device = 'cuda:0' if torch.cuda.is_available() else 'cpu'\n",
    "print('Device state:', device)\n",
    "\n",
    "# Settings\n",
    "torch.manual_seed(123) # set the seed\n",
    "epochs = 100\n",
    "batch_size = 1000\n",
    "learning_rate = 0.00001\n",
    "loss_function = nn.MSELoss()\n",
    "mlp_model = MLP(in_dim=X_train.shape[1], num_hidden=45, out_dim=1).to(device)\n",
    "optimizer = torch.optim.SGD(params=mlp_model.parameters(), lr=learning_rate, momentum=0, weight_decay=0) # Stochastic Gradient Descent\n",
    "\n",
    "# Data\n",
    "train_loader = DataLoader(dataset_train, batch_size=1000, shuffle=True)\n",
    "valid_loader = DataLoader(dataset_valid, batch_size=1000, shuffle=True)\n",
    "\n",
    "# Train\n",
    "model2, valid_rmse_list, train_rmse_list= train(device, mlp_model, epochs, optimizer, loss_function, train_loader, valid_loader)"
   ]
  },
  {
   "cell_type": "markdown",
   "metadata": {},
   "source": [
    "Answer:\n",
    "訓練過程中，每一百個batch計算一次training和validation RMSE，並在該epoch結束時計算此epoch的training和validation RMSE平均值，畫出RMSE與epoch的分布圖。"
   ]
  },
  {
   "cell_type": "code",
   "execution_count": 11,
   "metadata": {},
   "outputs": [
    {
     "name": "stdout",
     "output_type": "stream",
     "text": [
      "Test RMSE: 10.738432884216309\n"
     ]
    },
    {
     "data": {
      "image/png": "[encoded data removed]",
      "text/plain": [
       "<Figure size 432x288 with 1 Axes>"
      ]
     },
     "metadata": {
      "needs_background": "light"
     },
     "output_type": "display_data"
    }
   ],
   "source": [
    "# Test and show the result\n",
    "import matplotlib.pyplot as plt\n",
    "predicted, test_rmse = test(model2, torch.Tensor(X_test), Y_test)\n",
    "print(f'Test RMSE: {test_rmse}')\n",
    "\n",
    "plt.plot(train_rmse_list, color='red', label='Training')\n",
    "plt.plot(valid_rmse_list, color='green', label='Validation')\n",
    "plt.title('Average batch RMSE')\n",
    "plt.xlabel('epoch') # title of x-axis\n",
    "plt.ylabel('RMSE') # tile of y-axis\n",
    "plt.legend()\n",
    "plt.show()\n",
    "\n"
   ]
  },
  {
   "cell_type": "markdown",
   "metadata": {},
   "source": [
    "Training data的平均RMSE雖然沒有根據epoch遞減，但是Validation data的平均RMSE則隨著epoch遞減，可見模型訓練效果隨著epoch上升而更好。"
   ]
  },
  {
   "cell_type": "markdown",
   "metadata": {},
   "source": [
    "## Q3\n",
    "重複上題步驟，使用H = 90與180。無須畫訓練過程的RMSE。列出這兩個Test RMSE。討論H = 45, 90, 180的Test RMSE。"
   ]
  },
  {
   "cell_type": "markdown",
   "metadata": {},
   "source": [
    "H=90"
   ]
  },
  {
   "cell_type": "code",
   "execution_count": 12,
   "metadata": {},
   "outputs": [],
   "source": [
    "# Settings\n",
    "torch.manual_seed(123) # set the seed\n",
    "epochs = 100\n",
    "batch_size = 1000\n",
    "learning_rate = 0.00001\n",
    "loss_function = nn.MSELoss()\n",
    "mlp_model = MLP(in_dim=X_train.shape[1], num_hidden=90, out_dim=1).to(device)\n",
    "optimizer = torch.optim.SGD(params=mlp_model.parameters(), lr=learning_rate, momentum=0, weight_decay=0) # Stochastic Gradient Descent\n",
    "\n",
    "# Data\n",
    "train_loader = DataLoader(dataset_train, batch_size=1000, shuffle=True)\n",
    "valid_loader = DataLoader(dataset_valid, batch_size=1000, shuffle=True)\n",
    "\n",
    "# Train\n",
    "model3_1, valid_rmse_list3_1, train_rmse_list3_1 = train(device, mlp_model, epochs, optimizer, loss_function, train_loader, valid_loader)"
   ]
  },
  {
   "cell_type": "markdown",
   "metadata": {},
   "source": [
    "H=180"
   ]
  },
  {
   "cell_type": "code",
   "execution_count": 21,
   "metadata": {},
   "outputs": [],
   "source": [
    "mlp_model2 = MLP(in_dim=X_train.shape[1], num_hidden=180, out_dim=1).to(device)\n",
    "optimizer = torch.optim.SGD(params=mlp_model2.parameters(), lr=learning_rate, momentum=0, weight_decay=0)\n",
    "model3_2, valid_rmse_list3_2, train_rmse_list3_2 = train(device, mlp_model2, epochs, optimizer, loss_function, train_loader, valid_loader)"
   ]
  },
  {
   "cell_type": "markdown",
   "metadata": {},
   "source": [
    "Answer"
   ]
  },
  {
   "cell_type": "code",
   "execution_count": 22,
   "metadata": {},
   "outputs": [
    {
     "name": "stdout",
     "output_type": "stream",
     "text": [
      "Test RMSE (H=45): 10.738432884216309\n",
      "Test RMSE (H=90): 10.61322021484375\n",
      "Test RMSE (H=180): 9.94489860534668\n"
     ]
    }
   ],
   "source": [
    "predicted2, test_rmse2 = test(model2, torch.Tensor(X_test), Y_test)\n",
    "predicted3_1, test_rmse3_1 = test(model3_1, torch.Tensor(X_test), Y_test)\n",
    "predicted3_2, test_rmse3_2 = test(model3_2, torch.Tensor(X_test), Y_test)\n",
    "\n",
    "print(f'Test RMSE (H=45): {test_rmse2}')\n",
    "print(f'Test RMSE (H=90): {test_rmse3_1}')\n",
    "print(f'Test RMSE (H=180): {test_rmse3_2}')"
   ]
  },
  {
   "attachments": {},
   "cell_type": "markdown",
   "metadata": {},
   "source": [
    "由以上三個Test RMSE的結果可知H=180時效果最好，H=90次之，H=45則是墊底，所以H越大表現越好。"
   ]
  },
  {
   "cell_type": "markdown",
   "metadata": {},
   "source": [
    "## Q4\n",
    "使用Q2的模型設定，考慮 H = 45, 90, 180與Weight Decay = 0.1, 0.2, 0.4的所有組合。模型估計後做表整理Test RMSE。討論H的選擇應為多少較合理?"
   ]
  },
  {
   "cell_type": "markdown",
   "metadata": {},
   "source": [
    "H=45"
   ]
  },
  {
   "cell_type": "code",
   "execution_count": 19,
   "metadata": {},
   "outputs": [
    {
     "name": "stdout",
     "output_type": "stream",
     "text": [
      "H=45 | w=0.1 Finished.\n",
      "H=45 | w=0.2 Finished.\n",
      "H=45 | w=0.4 Finished.\n"
     ]
    }
   ],
   "source": [
    "rmse_45 = []\n",
    "\n",
    "for w in [0.1, 0.2, 0.4]:\n",
    "    mlp_model4_45 = MLP(in_dim=X_train.shape[1], num_hidden=45, out_dim=1).to(device)\n",
    "    optimizer = torch.optim.SGD(params=mlp_model4_45.parameters(), lr=learning_rate, momentum=0, weight_decay=w) # Stochastic Gradient Descent\n",
    "    model4_45, valid_rmse_list4_45, train_rmse_list4_45 = train(device, mlp_model4_45, epochs, optimizer, loss_function, train_loader, valid_loader)\n",
    "    predicted4_45, test_rmse4_45 = test(model4_45, torch.Tensor(X_test), Y_test)\n",
    "    rmse_45.append(test_rmse4_45)\n",
    "    print(f'H=45 | w={w} Finished.')"
   ]
  },
  {
   "cell_type": "code",
   "execution_count": 23,
   "metadata": {},
   "outputs": [
    {
     "data": {
      "text/plain": [
       "[10.832621, 10.83283, 10.843551]"
      ]
     },
     "execution_count": 23,
     "metadata": {},
     "output_type": "execute_result"
    }
   ],
   "source": [
    "rmse_45"
   ]
  },
  {
   "attachments": {},
   "cell_type": "markdown",
   "metadata": {},
   "source": [
    "H=90"
   ]
  },
  {
   "cell_type": "code",
   "execution_count": 24,
   "metadata": {},
   "outputs": [
    {
     "name": "stdout",
     "output_type": "stream",
     "text": [
      "H=90 | w=0.1 Finished.\n",
      "H=90 | w=0.2 Finished.\n",
      "H=90 | w=0.4 Finished.\n"
     ]
    }
   ],
   "source": [
    "rmse_90 = []\n",
    "\n",
    "for w in [0.1, 0.2, 0.4]:\n",
    "    mlp_model4_90 = MLP(in_dim=X_train.shape[1], num_hidden=90, out_dim=1).to(device)\n",
    "    optimizer = torch.optim.SGD(params=mlp_model4_90.parameters(), lr=learning_rate, momentum=0, weight_decay=w) # Stochastic Gradient Descent\n",
    "    model4_90, valid_rmse_list4_90, train_rmse_list4_90 = train(device, mlp_model4_90, epochs, optimizer, loss_function, train_loader, valid_loader)\n",
    "    predicted4_90, test_rmse4_90 = test(model4_90, torch.Tensor(X_test), Y_test)\n",
    "    rmse_90.append(test_rmse4_90)\n",
    "    print(f'H=90 | w={w} Finished.')"
   ]
  },
  {
   "cell_type": "code",
   "execution_count": 18,
   "metadata": {},
   "outputs": [
    {
     "data": {
      "text/plain": [
       "[10.851468, 10.85165, 10.853459]"
      ]
     },
     "execution_count": 18,
     "metadata": {},
     "output_type": "execute_result"
    }
   ],
   "source": [
    "rmse_90"
   ]
  },
  {
   "attachments": {},
   "cell_type": "markdown",
   "metadata": {},
   "source": [
    "H=180"
   ]
  },
  {
   "cell_type": "code",
   "execution_count": 25,
   "metadata": {},
   "outputs": [
    {
     "name": "stdout",
     "output_type": "stream",
     "text": [
      "H=180 | w=0.1 Finished.\n",
      "H=180 | w=0.2 Finished.\n",
      "H=180 | w=0.4 Finished.\n"
     ]
    }
   ],
   "source": [
    "rmse_180 = []\n",
    "\n",
    "for w in [0.1, 0.2, 0.4]:\n",
    "    mlp_model4_180 = MLP(in_dim=X_train.shape[1], num_hidden=180, out_dim=1).to(device)\n",
    "    optimizer = torch.optim.SGD(params=mlp_model4_180.parameters(), lr=learning_rate, momentum=0, weight_decay=w) # Stochastic Gradient Descent\n",
    "    model4_180, valid_rmse_list4_180, train_rmse_list4_180 = train(device, mlp_model4_180, epochs, optimizer, loss_function, train_loader, valid_loader)\n",
    "    predicted4_180, test_rmse4_180 = test(model4_180, torch.Tensor(X_test), Y_test)\n",
    "    rmse_180.append(test_rmse4_180)\n",
    "    print(f'H=180 | w={w} Finished.')"
   ]
  },
  {
   "cell_type": "code",
   "execution_count": 26,
   "metadata": {},
   "outputs": [
    {
     "data": {
      "text/plain": [
       "[10.143982, 10.427112, 10.74724]"
      ]
     },
     "execution_count": 26,
     "metadata": {},
     "output_type": "execute_result"
    }
   ],
   "source": [
    "rmse_180"
   ]
  },
  {
   "cell_type": "code",
   "execution_count": 27,
   "metadata": {},
   "outputs": [
    {
     "data": {
      "text/html": [
       "<div>\n",
       "<style scoped>\n",
       "    .dataframe tbody tr th:only-of-type {\n",
       "        vertical-align: middle;\n",
       "    }\n",
       "\n",
       "    .dataframe tbody tr th {\n",
       "        vertical-align: top;\n",
       "    }\n",
       "\n",
       "    .dataframe thead th {\n",
       "        text-align: right;\n",
       "    }\n",
       "</style>\n",
       "<table border=\"1\" class=\"dataframe\">\n",
       "  <thead>\n",
       "    <tr style=\"text-align: right;\">\n",
       "      <th></th>\n",
       "      <th>weight decay</th>\n",
       "      <th>H=45</th>\n",
       "      <th>H=90</th>\n",
       "      <th>H=180</th>\n",
       "    </tr>\n",
       "  </thead>\n",
       "  <tbody>\n",
       "    <tr>\n",
       "      <th>0</th>\n",
       "      <td>0.1</td>\n",
       "      <td>10.832621</td>\n",
       "      <td>10.758509</td>\n",
       "      <td>10.143982</td>\n",
       "    </tr>\n",
       "    <tr>\n",
       "      <th>1</th>\n",
       "      <td>0.2</td>\n",
       "      <td>10.832830</td>\n",
       "      <td>10.794532</td>\n",
       "      <td>10.427112</td>\n",
       "    </tr>\n",
       "    <tr>\n",
       "      <th>2</th>\n",
       "      <td>0.4</td>\n",
       "      <td>10.843551</td>\n",
       "      <td>10.793014</td>\n",
       "      <td>10.747240</td>\n",
       "    </tr>\n",
       "  </tbody>\n",
       "</table>\n",
       "</div>"
      ],
      "text/plain": [
       "   weight decay       H=45       H=90      H=180\n",
       "0           0.1  10.832621  10.758509  10.143982\n",
       "1           0.2  10.832830  10.794532  10.427112\n",
       "2           0.4  10.843551  10.793014  10.747240"
      ]
     },
     "execution_count": 27,
     "metadata": {},
     "output_type": "execute_result"
    }
   ],
   "source": [
    "import pandas as pd\n",
    "\n",
    "df = pd.DataFrame({'weight decay': [0.1, 0.2, 0.4], 'H=45': rmse_45, 'H=90': rmse_90, 'H=180': rmse_180})\n",
    "df"
   ]
  },
  {
   "attachments": {},
   "cell_type": "markdown",
   "metadata": {},
   "source": [
    "由上表得知最佳組合是(H=180, weight decay=0.1)，而H=180的三個Test RMSE皆比H=45、90還要好，所以選擇180最合適。"
   ]
  },
  {
   "attachments": {},
   "cell_type": "markdown",
   "metadata": {},
   "source": [
    "## Q5\n",
    "建構一個有Dropout的四層Hidden Layer的MLP。此模型由輸入層開始，第一層由90個Input Features通過線性層轉換為H個Hidden Nodes，通過ReLu Activation Function，之後對Hidden Unit Dropout，機率為0.5。後面各Hidden Lyaer均在ReLu後有Dropout，機率皆為0.5。最後通過一個線性層輸出。所有Hidden Layer的寬度都為H。\n",
    "\n",
    "令H= 90, 使用Adaptive Moment Estimation (Adam)更新參數，設Learning Rate = 0.001，無Weight Decay與Momentum，其他參數使用預設值。畫出模型訓練過程中的Training與Validation RMSE，列出Test RMSE。 並討論訓練過程中Training與Validation RMSE的圖形意義。"
   ]
  },
  {
   "cell_type": "code",
   "execution_count": 28,
   "metadata": {},
   "outputs": [],
   "source": [
    "class MLP_dropout(nn.Module):\n",
    "    def __init__(self, in_dim = 90, num_hidden = 45, out_dim = 1):\n",
    "        '''\n",
    "        num_layers: number of layers in the neural networks (EXCLUDING the input layer)\n",
    "        input_dim: dimensionality of input features\n",
    "        num_hidden: number of hidden nodes in each layer\n",
    "        output_dim: number of classes for prediction\n",
    "        '''\n",
    "        super().__init__()\n",
    "        self.layer = nn.Sequential(\n",
    "            nn.Linear(in_dim, num_hidden), # layer 1\n",
    "            nn.ReLU(inplace=True),\n",
    "            nn.Dropout(p=0.5),\n",
    "            nn.Linear(num_hidden, num_hidden), # layer 2\n",
    "            nn.ReLU(inplace=True),\n",
    "            nn.Dropout(p=0.5),\n",
    "            nn.Linear(num_hidden, num_hidden), # layer 3\n",
    "            nn.ReLU(inplace=True),\n",
    "            nn.Dropout(p=0.5),\n",
    "            nn.Linear(num_hidden, out_dim) # layer 4\n",
    "        )\n",
    "\n",
    "    def forward(self, x):\n",
    "        x = self.layer(x)\n",
    "        return x"
   ]
  },
  {
   "cell_type": "code",
   "execution_count": 29,
   "metadata": {},
   "outputs": [
    {
     "name": "stdout",
     "output_type": "stream",
     "text": [
      "Device state: cpu\n"
     ]
    }
   ],
   "source": [
    "# GPU device\n",
    "device = 'cuda:0' if torch.cuda.is_available() else 'cpu'\n",
    "print('Device state:', device)\n",
    "\n",
    "# Settings\n",
    "torch.manual_seed(123) # set the seed\n",
    "epochs = 100\n",
    "batch_size = 1000\n",
    "learning_rate = 0.001\n",
    "loss_function = nn.MSELoss()\n",
    "mlp_drop = MLP_dropout(in_dim=X_train.shape[1], num_hidden=90, out_dim=1).to(device)\n",
    "optimizer = torch.optim.SGD(params=mlp_drop.parameters(), lr=learning_rate, momentum=0, weight_decay=0) # Stochastic Gradient Descent\n",
    "\n",
    "# Data\n",
    "train_loader = DataLoader(dataset_train, batch_size=1000, shuffle=True)\n",
    "valid_loader = DataLoader(dataset_valid, batch_size=1000, shuffle=True)\n",
    "\n",
    "# Train\n",
    "model_drop, valid_rmse_list5, train_rmse_list5 = train(device, mlp_drop, epochs, optimizer, loss_function, train_loader, valid_loader)"
   ]
  },
  {
   "cell_type": "code",
   "execution_count": 30,
   "metadata": {},
   "outputs": [
    {
     "name": "stdout",
     "output_type": "stream",
     "text": [
      "Test RMSE: 8.820798873901367\n"
     ]
    },
    {
     "data": {
      "image/png": "[encoded data removed]",
      "text/plain": [
       "<Figure size 432x288 with 1 Axes>"
      ]
     },
     "metadata": {
      "needs_background": "light"
     },
     "output_type": "display_data"
    }
   ],
   "source": [
    "# Test and show the result\n",
    "import matplotlib.pyplot as plt\n",
    "predicted5, test_rmse5 = test(model_drop, torch.Tensor(X_test), Y_test)\n",
    "print(f'Test RMSE: {test_rmse5}')\n",
    "\n",
    "plt.plot(train_rmse_list5, color='red', label='Training')\n",
    "plt.plot(valid_rmse_list5, color='green', label='Validation')\n",
    "plt.title('Average batch RMSE')\n",
    "plt.xlabel('epoch') # title of x-axis\n",
    "plt.ylabel('RMSE') # tile of y-axis\n",
    "plt.legend()\n",
    "plt.show()"
   ]
  },
  {
   "attachments": {},
   "cell_type": "markdown",
   "metadata": {},
   "source": [
    "Training data的RMSE有隨著epoch降低的趨勢了，loss剛開始都很高，經過幾個epoch後就驟降。而Validation data的RMSE在epoch 20以後幾乎沒有再下降了。另外，Test RMSE也比Q2的無dropout還要更低。"
   ]
  },
  {
   "attachments": {},
   "cell_type": "markdown",
   "metadata": {},
   "source": [
    "## Q6\n",
    "使用上題的模型，考慮H = 20, 180, 360。 討論H = 20, 45, 180, 360的Test RMSE。"
   ]
  },
  {
   "cell_type": "code",
   "execution_count": null,
   "metadata": {},
   "outputs": [],
   "source": [
    "test_rmse_list6 = []\n",
    "\n",
    "for h in [20, 45, 180, 360]:\n",
    "    # Setting\n",
    "    torch.manual_seed(123) # set the seed\n",
    "    epochs = 100\n",
    "    batch_size = 1000\n",
    "    learning_rate = 0.001\n",
    "    loss_function = nn.MSELoss()\n",
    "    mlp_drop = MLP_dropout(in_dim=X_train.shape[1], num_hidden=h, out_dim=1).to(device)\n",
    "    optimizer = torch.optim.SGD(params=mlp_drop.parameters(), lr=learning_rate, momentum=0, weight_decay=0) # Stochastic Gradient Descent\n",
    "    \n",
    "    # Train\n",
    "    model_drop, valid_rmse_list6, train_rmse_list6 = train(device, mlp_drop, epochs, optimizer, loss_function, train_loader, valid_loader)\n",
    "    \n",
    "    # Test\n",
    "    predicted6, test_rmse6 = test(model_drop, torch.Tensor(X_test), Y_test)\n",
    "    test_rmse_list6.append(test_rmse6)"
   ]
  }
 ],
 "metadata": {
  "kernelspec": {
   "display_name": "Python 3.9.12 ('base')",
   "language": "python",
   "name": "python3"
  },
  "language_info": {
   "codemirror_mode": {
    "name": "ipython",
    "version": 3
   },
   "file_extension": ".py",
   "mimetype": "text/x-python",
   "name": "python",
   "nbconvert_exporter": "python",
   "pygments_lexer": "ipython3",
   "version": "3.9.12"
  },
  "vscode": {
   "interpreter": {
    "hash": "5cfa4b7dcd7864583d72e5eda12e513f8c53c522d90114d3c5fb0ab3f428a316"
   }
  }
 },
 "nbformat": 4,
 "nbformat_minor": 4
}
