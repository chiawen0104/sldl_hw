{
 "cells": [
  {
   "cell_type": "markdown",
   "metadata": {},
   "source": [
    "# Homework 1"
   ]
  },
  {
   "cell_type": "markdown",
   "metadata": {},
   "source": [
    "### Q1\n",
    "\n",
    "step1: 先讀取資料，再標準化所有feature values，觀察訓練與測試資料的大小。  \n",
    "step2: 完成myknn_regressor的class：暴力法的演算法是先算出每筆測試資料與各個訓練資料的距離，然後找出距離最近的k個鄰居，再依照不同類型算出Y_train的平均值。  \n",
    "step3: 計算實際值與預測值的RMSE。"
   ]
  },
  {
   "cell_type": "code",
   "execution_count": 15,
   "metadata": {},
   "outputs": [],
   "source": [
    "import pickle\n",
    "from sklearn import preprocessing\n",
    "import numpy as np"
   ]
  },
  {
   "cell_type": "code",
   "execution_count": 16,
   "metadata": {},
   "outputs": [],
   "source": [
    "# Load data\n",
    "with open('msd_data1.pickle', 'rb') as fh1:\n",
    "    msd_data = pickle.load(fh1)\n",
    "\n",
    "doscaling = 1\n",
    "\n",
    "if (doscaling == 1):\n",
    "    xscaler = preprocessing.StandardScaler().fit(msd_data['X_train'])\n",
    "    #standardize feature values\n",
    "    X_train = xscaler.transform(msd_data['X_train'])\n",
    "    X_test = xscaler.transform(msd_data['X_test'])\n",
    "else:\n",
    "    X_train = msd_data['X_train']\n",
    "    X_test = msd_data['X_test']\n",
    "\n",
    "Y_train = msd_data['Y_train']\n",
    "Y_test = msd_data['Y_test']"
   ]
  },
  {
   "cell_type": "code",
   "execution_count": 17,
   "metadata": {},
   "outputs": [
    {
     "name": "stdout",
     "output_type": "stream",
     "text": [
      "train_size: 5000\n",
      "test_size: 3000\n"
     ]
    }
   ],
   "source": [
    "# size of data\n",
    "print(f'train_size: {X_train.shape[0]}')\n",
    "print(f'test_size: {X_test.shape[0]}')"
   ]
  },
  {
   "cell_type": "code",
   "execution_count": 18,
   "metadata": {},
   "outputs": [
    {
     "data": {
      "text/plain": [
       "array([[  38.51784,   55.38723,   10.31652, ...,    6.66624,  -73.75585,\n",
       "           9.47857],\n",
       "       [  44.7309 ,   46.25776,    8.55636, ...,    4.5564 ,   53.49956,\n",
       "           5.39116],\n",
       "       [  43.08912,   45.70197,   17.18467, ...,  -13.64909,   -7.42137,\n",
       "          -4.97266],\n",
       "       ...,\n",
       "       [  39.81814,   62.12221,    6.60567, ...,   28.27807,  -60.00203,\n",
       "         -11.19226],\n",
       "       [  50.25968,   43.10325,   24.72866, ...,    2.71602,  -44.27226,\n",
       "          -2.54583],\n",
       "       [  41.39744,   -8.88692,  -20.15887, ...,    8.63798, -120.34024,\n",
       "           3.65709]])"
      ]
     },
     "execution_count": 18,
     "metadata": {},
     "output_type": "execute_result"
    }
   ],
   "source": [
    "msd_data['X_test']"
   ]
  },
  {
   "cell_type": "markdown",
   "metadata": {},
   "source": [
    "### Q1.1"
   ]
  },
  {
   "cell_type": "code",
   "execution_count": 63,
   "metadata": {},
   "outputs": [],
   "source": [
    "class myknn_regressor():\n",
    "    def __init__(self, n_neighbors = 10, mean_type = \"equal_weight\"):\n",
    "        \"\"\"mean_type can be equal_weight or remove_outliers.\n",
    "                              equal_weight use the same weight for all neighbors.\n",
    "                              remove_outliers remove neighbors out in [Q1 - 1.5 IQR, Q3 + 1.5IQR].\"\"\"\n",
    "        ### Add your code here ###  \n",
    "        '''save parameters'''   \n",
    "        self.n_neighbors = n_neighbors \n",
    "        self.mean_type = mean_type\n",
    "\n",
    "    def fit(self, x_train, y_train):\n",
    "        ### Add your code here ###\n",
    "        '''save training data'''\n",
    "        self.x_train = x_train\n",
    "        self.y_train = y_train\n",
    "         \n",
    "\n",
    "    def predict(self, x_test):\n",
    "        \"\"\"use remove_outliers only if k>=10\"\"\"\n",
    "         ### Add your code here ###\n",
    "        if self.n_neighbors < 10:\n",
    "            self.mean_type = \"equal_weight\"\n",
    "        \n",
    "        \n",
    "        self.x_test = x_test\n",
    "        n_train = self.x_train.shape[0]\n",
    "        n_test = self.x_test.shape[0]\n",
    "        y_pred = []\n",
    "        \n",
    "        for i in range(n_test): # for every x_test\n",
    "            dist = []\n",
    "            for j in range(n_train): # for every x_train\n",
    "                # Euclidean distance between x_test's ith row and x_train's jth row\n",
    "                d = np.linalg.norm(self.x_test[i,:] - self.x_train[j,:])\n",
    "                dist.append([d, self.y_train[j]])\n",
    "            \n",
    "            sort_dist = sorted(dist, key = lambda l: l[0]) # sort y_train by distance in ascending order\n",
    "\n",
    "\n",
    "            # k nearest neighbors' y_train\n",
    "            k_neighbors = []\n",
    "            for k in range(self.n_neighbors):\n",
    "                k_neighbors.append(sort_dist[k][1]) \n",
    "\n",
    "            \n",
    "            if self.mean_type == \"equal_weight\":\n",
    "                y_pred.append(np.mean(k_neighbors))\n",
    "            else: # remove_outliers\n",
    "                q1 = np.quantile(k_neighbors,0.25) \n",
    "                q3 = np.quantile(k_neighbors,0.75)\n",
    "                iqr = q3 - q1\n",
    "                \n",
    "                new_neighbors = []\n",
    "                for k in range(len(k_neighbors)):\n",
    "                    y = k_neighbors[k]\n",
    "                    if y >= (q1 - (1.5 * iqr)) and y <= (q3 + (1.5 * iqr)):\n",
    "                        new_neighbors.append(y)\n",
    "\n",
    "                y_pred.append(np.mean(new_neighbors))\n",
    "\n",
    "        return np.array(y_pred)"
   ]
  },
  {
   "cell_type": "markdown",
   "metadata": {},
   "source": [
    "### Q1.2"
   ]
  },
  {
   "cell_type": "code",
   "execution_count": 64,
   "metadata": {},
   "outputs": [],
   "source": [
    "# use myknn_regressor\n",
    "myknn = myknn_regressor(20, \"equal_weight\")\n",
    "myknn.fit(X_train, Y_train)\n",
    "ypred = myknn.predict(X_test)"
   ]
  },
  {
   "cell_type": "code",
   "execution_count": 65,
   "metadata": {},
   "outputs": [
    {
     "name": "stdout",
     "output_type": "stream",
     "text": [
      "RMSE: 10.25126451549596\n"
     ]
    }
   ],
   "source": [
    "# count RMSE\n",
    "actual = Y_test\n",
    "predicted = ypred\n",
    "square = np.square(np.subtract(actual, predicted))\n",
    "MSE = square.mean()\n",
    "RMSE = np.sqrt(MSE)\n",
    "\n",
    "print(f'RMSE: {RMSE}')"
   ]
  },
  {
   "cell_type": "code",
   "execution_count": 68,
   "metadata": {},
   "outputs": [
    {
     "name": "stdout",
     "output_type": "stream",
     "text": [
      "Q1.2 | first 20 predictions:\n",
      "[1993.35 1993.8  2000.65 1991.5  1992.8  1998.5  1988.1  1991.65 2002.25\n",
      " 2003.   2000.5  1998.65 1995.55 1997.2  1995.05 1997.4  1992.15 2000.45\n",
      " 2003.2  1995.75]\n"
     ]
    }
   ],
   "source": [
    "# print first 20 predictions\n",
    "print(\"Q1.2 | first 20 predictions:\")\n",
    "print(ypred[:20])"
   ]
  },
  {
   "cell_type": "markdown",
   "metadata": {},
   "source": [
    "### Q1.3"
   ]
  },
  {
   "cell_type": "code",
   "execution_count": 69,
   "metadata": {},
   "outputs": [],
   "source": [
    "# use myknn_regressor\n",
    "myknn = myknn_regressor(20, \"remove_outliers\")\n",
    "myknn.fit(X_train, Y_train)\n",
    "ypred = myknn.predict(X_test)"
   ]
  },
  {
   "cell_type": "code",
   "execution_count": 71,
   "metadata": {},
   "outputs": [
    {
     "name": "stdout",
     "output_type": "stream",
     "text": [
      "RMSE: 10.212572466080376\n"
     ]
    }
   ],
   "source": [
    "# count RMSE\n",
    "actual = Y_test\n",
    "predicted = ypred\n",
    "square = np.square(np.subtract(actual, predicted))\n",
    "MSE = square.mean()\n",
    "RMSE = np.sqrt(MSE)\n",
    "\n",
    "print(f'RMSE: {RMSE}')"
   ]
  },
  {
   "cell_type": "code",
   "execution_count": 73,
   "metadata": {},
   "outputs": [
    {
     "name": "stdout",
     "output_type": "stream",
     "text": [
      "Q1.3 | first 20 predictions:\n",
      "1993.35\n",
      "1993.8\n",
      "2000.65\n",
      "1992.7368421052631\n",
      "1992.8\n",
      "2000.0\n",
      "1988.1\n",
      "1991.65\n",
      "2002.25\n",
      "2003.9473684210527\n",
      "2000.5\n",
      "2000.9444444444443\n",
      "1995.55\n",
      "1997.2\n",
      "1998.611111111111\n",
      "1997.4\n",
      "1992.15\n",
      "2003.8333333333333\n",
      "2003.2\n",
      "1995.75\n"
     ]
    }
   ],
   "source": [
    "# print first 20 predictions\n",
    "print(\"Q1.3 | first 20 predictions:\")\n",
    "for i in ypred[:20]:\n",
    "    print(i)"
   ]
  },
  {
   "cell_type": "markdown",
   "metadata": {},
   "source": [
    "### Q2"
   ]
  },
  {
   "cell_type": "code",
   "execution_count": 49,
   "metadata": {},
   "outputs": [],
   "source": [
    "import matplotlib.pyplot as plt\n",
    "from sklearn.neighbors import KNeighborsClassifier\n",
    "klist = [1 , 2 , 3 , 4 , 5 , 10 , 15 , 20 , 25 , 30 , 35 , 40 , 45 , 50 , 55 , 60 , 80 , 100 , 120 , 140 , 160 , 180 , 200]"
   ]
  },
  {
   "cell_type": "markdown",
   "metadata": {},
   "source": [
    "##### setting1"
   ]
  },
  {
   "cell_type": "code",
   "execution_count": 52,
   "metadata": {},
   "outputs": [],
   "source": [
    "rmse_list1 = []\n",
    "\n",
    "for k in klist:\n",
    "    knn1 = KNeighborsClassifier(n_neighbors = k)\n",
    "    knn1.fit(X_train, Y_train)\n",
    "    ypred1 = knn1.predict(X_test)\n",
    "    \n",
    "    square1 = np.square(np.subtract(Y_test, ypred1))\n",
    "    mse1 = square1.mean()\n",
    "    rmse1 = np.sqrt(mse1)\n",
    "    rmse_list1.append(rmse1)"
   ]
  },
  {
   "cell_type": "code",
   "execution_count": 53,
   "metadata": {},
   "outputs": [
    {
     "data": {
      "text/plain": [
       "[13.911074724837043,\n",
       " 15.532793266720144,\n",
       " 16.940552922892845,\n",
       " 18.002388730387977,\n",
       " 18.343036826000212,\n",
       " 15.021429137513293,\n",
       " 13.296503299740124,\n",
       " 12.806235460378927,\n",
       " 12.530762147610975,\n",
       " 12.397271205121445,\n",
       " 12.46698306193871,\n",
       " 12.258833549730578,\n",
       " 12.234514021134364,\n",
       " 12.29800796877283,\n",
       " 12.29592073277421,\n",
       " 12.308465921199657,\n",
       " 12.539125434681107,\n",
       " 12.77006917235246,\n",
       " 12.875273459879082,\n",
       " 13.00256384974389,\n",
       " 13.039734148619237,\n",
       " 13.12649991429551,\n",
       " 13.190248923605145]"
      ]
     },
     "execution_count": 53,
     "metadata": {},
     "output_type": "execute_result"
    }
   ],
   "source": [
    "rmse_list1"
   ]
  },
  {
   "cell_type": "markdown",
   "metadata": {},
   "source": [
    "##### setting2"
   ]
  },
  {
   "cell_type": "code",
   "execution_count": 57,
   "metadata": {},
   "outputs": [],
   "source": [
    "# No feature scaling\n",
    "doscaling = 0\n",
    "\n",
    "if (doscaling == 1):\n",
    "    xscaler = preprocessing.StandardScaler().fit(msd_data['X_train'])\n",
    "    #standardize feature values\n",
    "    X_train = xscaler.transform(msd_data['X_train'])\n",
    "    X_test = xscaler.transform(msd_data['X_test'])\n",
    "else:\n",
    "    X_train = msd_data['X_train']\n",
    "    X_test = msd_data['X_test']\n",
    "\n",
    "Y_train = msd_data['Y_train']\n",
    "Y_test = msd_data['Y_test']"
   ]
  },
  {
   "cell_type": "code",
   "execution_count": 58,
   "metadata": {},
   "outputs": [],
   "source": [
    "rmse_list2 = []\n",
    "\n",
    "for k in klist:\n",
    "    knn2 = KNeighborsClassifier(n_neighbors = k)\n",
    "    knn2.fit(X_train, Y_train)\n",
    "    ypred2 = knn2.predict(X_test)\n",
    "    \n",
    "    square2 = np.square(np.subtract(Y_test, ypred2))\n",
    "    mse2 = square2.mean()\n",
    "    rmse2 = np.sqrt(mse2)\n",
    "    rmse_list2.append(rmse2)"
   ]
  },
  {
   "cell_type": "code",
   "execution_count": 59,
   "metadata": {},
   "outputs": [
    {
     "data": {
      "text/plain": [
       "[14.923638966418345,\n",
       " 16.527219971913002,\n",
       " 17.958025132699493,\n",
       " 18.922209173349714,\n",
       " 19.2830149786455,\n",
       " 15.532492824184189,\n",
       " 13.574596372145534,\n",
       " 13.365228517811932,\n",
       " 13.05419472813241,\n",
       " 12.818775292515271,\n",
       " 12.52252636917434,\n",
       " 12.618953997855765,\n",
       " 12.639356523705363,\n",
       " 12.519278466961797,\n",
       " 12.599576712466707,\n",
       " 12.60072749222573,\n",
       " 12.871764965743173,\n",
       " 13.047745654582123,\n",
       " 13.095648132108622,\n",
       " 13.170143000995344,\n",
       " 13.196754651554803,\n",
       " 13.26514229098203,\n",
       " 13.213793298418638]"
      ]
     },
     "execution_count": 59,
     "metadata": {},
     "output_type": "execute_result"
    }
   ],
   "source": [
    "rmse_list2"
   ]
  },
  {
   "cell_type": "markdown",
   "metadata": {},
   "source": [
    "##### setting3"
   ]
  },
  {
   "cell_type": "code",
   "execution_count": 61,
   "metadata": {},
   "outputs": [],
   "source": [
    "# No feature scaling\n",
    "doscaling = 1\n",
    "\n",
    "if (doscaling == 1):\n",
    "    xscaler = preprocessing.StandardScaler().fit(msd_data['X_train'])\n",
    "    #standardize feature values\n",
    "    X_train = xscaler.transform(msd_data['X_train'])\n",
    "    X_test = xscaler.transform(msd_data['X_test'])\n",
    "else:\n",
    "    X_train = msd_data['X_train']\n",
    "    X_test = msd_data['X_test']\n",
    "\n",
    "Y_train = msd_data['Y_train']\n",
    "Y_test = msd_data['Y_test']"
   ]
  },
  {
   "cell_type": "code",
   "execution_count": 62,
   "metadata": {},
   "outputs": [
    {
     "ename": "KeyboardInterrupt",
     "evalue": "",
     "output_type": "error",
     "traceback": [
      "\u001b[0;31m---------------------------------------------------------------------------\u001b[0m",
      "\u001b[0;31mKeyboardInterrupt\u001b[0m                         Traceback (most recent call last)",
      "\u001b[1;32m/Users/chiawen/Desktop/sldl/sldl_2022fall/hw1/hw1.ipynb Cell 28\u001b[0m in \u001b[0;36m<cell line: 3>\u001b[0;34m()\u001b[0m\n\u001b[1;32m      <a href='vscode-notebook-cell:/Users/chiawen/Desktop/sldl/sldl_2022fall/hw1/hw1.ipynb#X42sZmlsZQ%3D%3D?line=3'>4</a>\u001b[0m knn3 \u001b[39m=\u001b[39m myknn_regressor(k, \u001b[39m\"\u001b[39m\u001b[39mremove_outliers\u001b[39m\u001b[39m\"\u001b[39m)\n\u001b[1;32m      <a href='vscode-notebook-cell:/Users/chiawen/Desktop/sldl/sldl_2022fall/hw1/hw1.ipynb#X42sZmlsZQ%3D%3D?line=4'>5</a>\u001b[0m knn3\u001b[39m.\u001b[39mfit(X_train, Y_train)\n\u001b[0;32m----> <a href='vscode-notebook-cell:/Users/chiawen/Desktop/sldl/sldl_2022fall/hw1/hw1.ipynb#X42sZmlsZQ%3D%3D?line=5'>6</a>\u001b[0m ypred3 \u001b[39m=\u001b[39m np\u001b[39m.\u001b[39marray(knn3\u001b[39m.\u001b[39;49mpredict(X_test))\n\u001b[1;32m      <a href='vscode-notebook-cell:/Users/chiawen/Desktop/sldl/sldl_2022fall/hw1/hw1.ipynb#X42sZmlsZQ%3D%3D?line=7'>8</a>\u001b[0m square3 \u001b[39m=\u001b[39m np\u001b[39m.\u001b[39msquare(np\u001b[39m.\u001b[39msubtract(Y_test, ypred3))\n\u001b[1;32m      <a href='vscode-notebook-cell:/Users/chiawen/Desktop/sldl/sldl_2022fall/hw1/hw1.ipynb#X42sZmlsZQ%3D%3D?line=8'>9</a>\u001b[0m mse3 \u001b[39m=\u001b[39m square3\u001b[39m.\u001b[39mmean()\n",
      "\u001b[1;32m/Users/chiawen/Desktop/sldl/sldl_2022fall/hw1/hw1.ipynb Cell 28\u001b[0m in \u001b[0;36mmyknn_regressor.predict\u001b[0;34m(self, x_test)\u001b[0m\n\u001b[1;32m     <a href='vscode-notebook-cell:/Users/chiawen/Desktop/sldl/sldl_2022fall/hw1/hw1.ipynb#X42sZmlsZQ%3D%3D?line=33'>34</a>\u001b[0m     d \u001b[39m=\u001b[39m np\u001b[39m.\u001b[39mlinalg\u001b[39m.\u001b[39mnorm(\u001b[39mself\u001b[39m\u001b[39m.\u001b[39mx_test[i,:] \u001b[39m-\u001b[39m \u001b[39mself\u001b[39m\u001b[39m.\u001b[39mx_train[j,:])\n\u001b[1;32m     <a href='vscode-notebook-cell:/Users/chiawen/Desktop/sldl/sldl_2022fall/hw1/hw1.ipynb#X42sZmlsZQ%3D%3D?line=34'>35</a>\u001b[0m     dist\u001b[39m.\u001b[39mappend([d, \u001b[39mself\u001b[39m\u001b[39m.\u001b[39my_train[j]])\n\u001b[0;32m---> <a href='vscode-notebook-cell:/Users/chiawen/Desktop/sldl/sldl_2022fall/hw1/hw1.ipynb#X42sZmlsZQ%3D%3D?line=36'>37</a>\u001b[0m sort_dist \u001b[39m=\u001b[39m \u001b[39msorted\u001b[39;49m(dist, key \u001b[39m=\u001b[39;49m \u001b[39mlambda\u001b[39;49;00m l: l[\u001b[39m0\u001b[39;49m]) \u001b[39m# sort y_train by distance in ascending order\u001b[39;00m\n\u001b[1;32m     <a href='vscode-notebook-cell:/Users/chiawen/Desktop/sldl/sldl_2022fall/hw1/hw1.ipynb#X42sZmlsZQ%3D%3D?line=39'>40</a>\u001b[0m \u001b[39m# k nearest neighbors' y_train\u001b[39;00m\n\u001b[1;32m     <a href='vscode-notebook-cell:/Users/chiawen/Desktop/sldl/sldl_2022fall/hw1/hw1.ipynb#X42sZmlsZQ%3D%3D?line=40'>41</a>\u001b[0m k_neighbors \u001b[39m=\u001b[39m []\n",
      "\u001b[0;31mKeyboardInterrupt\u001b[0m: "
     ]
    }
   ],
   "source": [
    "rmse_list3 = []\n",
    "\n",
    "for k in klist:\n",
    "    knn3 = myknn_regressor(k, \"remove_outliers\")\n",
    "    knn3.fit(X_train, Y_train)\n",
    "    ypred3 = np.array(knn3.predict(X_test))\n",
    "    \n",
    "    square3 = np.square(np.subtract(Y_test, ypred3))\n",
    "    mse3 = square3.mean()\n",
    "    rmse3 = np.sqrt(mse3)\n",
    "    rmse_list3.append(rmse3)"
   ]
  },
  {
   "cell_type": "code",
   "execution_count": null,
   "metadata": {},
   "outputs": [],
   "source": []
  },
  {
   "cell_type": "code",
   "execution_count": 55,
   "metadata": {},
   "outputs": [
    {
     "data": {
      "image/png": "[encoded data removed]",
      "text/plain": [
       "<Figure size 432x288 with 1 Axes>"
      ]
     },
     "metadata": {
      "needs_background": "light"
     },
     "output_type": "display_data"
    }
   ],
   "source": [
    "# draw the error curve\n",
    "\n",
    "plt.plot(klist, rmse_list1, color='red')\n",
    "plt.title('Setting 1')\n",
    "plt.xlabel('k') # title of x-axis\n",
    "plt.ylabel('RMSE') # tile of y-axis\n",
    "plt.show()"
   ]
  },
  {
   "cell_type": "code",
   "execution_count": null,
   "metadata": {},
   "outputs": [],
   "source": []
  }
 ],
 "metadata": {
  "kernelspec": {
   "display_name": "Python 3.9.12 ('base')",
   "language": "python",
   "name": "python3"
  },
  "language_info": {
   "codemirror_mode": {
    "name": "ipython",
    "version": 3
   },
   "file_extension": ".py",
   "mimetype": "text/x-python",
   "name": "python",
   "nbconvert_exporter": "python",
   "pygments_lexer": "ipython3",
   "version": "3.9.12"
  },
  "orig_nbformat": 4,
  "vscode": {
   "interpreter": {
    "hash": "5cfa4b7dcd7864583d72e5eda12e513f8c53c522d90114d3c5fb0ab3f428a316"
   }
  }
 },
 "nbformat": 4,
 "nbformat_minor": 2
}
