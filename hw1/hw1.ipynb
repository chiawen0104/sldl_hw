{
 "cells": [
  {
   "cell_type": "markdown",
   "metadata": {},
   "source": [
    "# Homework 1"
   ]
  },
  {
   "cell_type": "markdown",
   "metadata": {},
   "source": [
    "### Q1\n",
    "\n",
    "step1: 先讀取資料，再標準化所有feature values，觀察訓練與測試資料的大小。  \n",
    "step2: 完成myknn_regressor的class：暴力法的演算法是先算出每筆測試資料與各個訓練資料的距離，然後找出距離最近的k個鄰居，再依照不同類型算出Y_train的平均值。  \n",
    "step3: 計算實際值與預測值的RMSE。"
   ]
  },
  {
   "cell_type": "code",
   "execution_count": 110,
   "metadata": {},
   "outputs": [],
   "source": [
    "import pickle\n",
    "from sklearn import preprocessing\n",
    "import numpy as np"
   ]
  },
  {
   "cell_type": "code",
   "execution_count": 111,
   "metadata": {},
   "outputs": [],
   "source": [
    "# Load data\n",
    "with open('msd_data1.pickle', 'rb') as fh1:\n",
    "    msd_data = pickle.load(fh1)\n",
    "\n",
    "doscaling = 1\n",
    "\n",
    "if (doscaling == 1):\n",
    "    xscaler = preprocessing.StandardScaler().fit(msd_data['X_train'])\n",
    "    #standardize feature values\n",
    "    X_train = xscaler.transform(msd_data['X_train'])\n",
    "    X_test = xscaler.transform(msd_data['X_test'])\n",
    "else:\n",
    "    X_train = msd_data['X_train']\n",
    "    X_test = msd_data['X_test']\n",
    "\n",
    "Y_train = msd_data['Y_train']\n",
    "Y_test = msd_data['Y_test']"
   ]
  },
  {
   "cell_type": "code",
   "execution_count": 112,
   "metadata": {},
   "outputs": [
    {
     "name": "stdout",
     "output_type": "stream",
     "text": [
      "train_size: 5000\n",
      "test_size: 3000\n"
     ]
    }
   ],
   "source": [
    "# size of data\n",
    "print(f'train_size: {X_train.shape[0]}')\n",
    "print(f'test_size: {X_test.shape[0]}')"
   ]
  },
  {
   "cell_type": "code",
   "execution_count": 113,
   "metadata": {},
   "outputs": [
    {
     "data": {
      "text/plain": [
       "array([[  38.51784,   55.38723,   10.31652, ...,    6.66624,  -73.75585,\n",
       "           9.47857],\n",
       "       [  44.7309 ,   46.25776,    8.55636, ...,    4.5564 ,   53.49956,\n",
       "           5.39116],\n",
       "       [  43.08912,   45.70197,   17.18467, ...,  -13.64909,   -7.42137,\n",
       "          -4.97266],\n",
       "       ...,\n",
       "       [  39.81814,   62.12221,    6.60567, ...,   28.27807,  -60.00203,\n",
       "         -11.19226],\n",
       "       [  50.25968,   43.10325,   24.72866, ...,    2.71602,  -44.27226,\n",
       "          -2.54583],\n",
       "       [  41.39744,   -8.88692,  -20.15887, ...,    8.63798, -120.34024,\n",
       "           3.65709]])"
      ]
     },
     "execution_count": 113,
     "metadata": {},
     "output_type": "execute_result"
    }
   ],
   "source": [
    "msd_data['X_test']"
   ]
  },
  {
   "cell_type": "markdown",
   "metadata": {},
   "source": [
    "### Q1.1"
   ]
  },
  {
   "cell_type": "code",
   "execution_count": 114,
   "metadata": {},
   "outputs": [],
   "source": [
    "class myknn_regressor():\n",
    "    def __init__(self, n_neighbors = 10, mean_type = \"equal_weight\"):\n",
    "        \"\"\"mean_type can be equal_weight or remove_outliers.\n",
    "                              equal_weight use the same weight for all neighbors.\n",
    "                              remove_outliers remove neighbors out in [Q1 - 1.5 IQR, Q3 + 1.5IQR].\"\"\"\n",
    "        ### Add your code here ###  \n",
    "        '''save parameters'''   \n",
    "        self.n_neighbors = n_neighbors \n",
    "        self.mean_type = mean_type\n",
    "\n",
    "    def fit(self, x_train, y_train):\n",
    "        ### Add your code here ###\n",
    "        '''save training data'''\n",
    "        self.x_train = x_train\n",
    "        self.y_train = y_train\n",
    "         \n",
    "\n",
    "    def predict(self, x_test):\n",
    "        \"\"\"use remove_outliers only if k>=10\"\"\"\n",
    "         ### Add your code here ###\n",
    "        if self.n_neighbors < 10:\n",
    "            self.mean_type = \"equal_weight\"\n",
    "        \n",
    "        \n",
    "        self.x_test = x_test\n",
    "        n_train = self.x_train.shape[0]\n",
    "        n_test = self.x_test.shape[0]\n",
    "        y_pred = []\n",
    "        \n",
    "        for i in range(n_test): # for every x_test\n",
    "            dist = []\n",
    "            for j in range(n_train): # for every x_train\n",
    "                # Euclidean distance between x_test's ith row and x_train's jth row\n",
    "                d = np.linalg.norm(self.x_test[i,:] - self.x_train[j,:])\n",
    "                dist.append([d, self.y_train[j]])\n",
    "            \n",
    "            sort_dist = sorted(dist, key = lambda l: l[0]) # sort y_train by distance in ascending order\n",
    "\n",
    "\n",
    "            # k nearest neighbors' y_train\n",
    "            k_neighbors = []\n",
    "            for k in range(self.n_neighbors):\n",
    "                k_neighbors.append(sort_dist[k][1]) \n",
    "\n",
    "            \n",
    "            if self.mean_type == \"equal_weight\":\n",
    "                y_pred.append(np.mean(k_neighbors))\n",
    "            else: # remove_outliers\n",
    "                q1 = np.quantile(k_neighbors,0.25) \n",
    "                q3 = np.quantile(k_neighbors,0.75)\n",
    "                iqr = q3 - q1\n",
    "                \n",
    "                new_neighbors = []\n",
    "                for k in range(len(k_neighbors)):\n",
    "                    y = k_neighbors[k]\n",
    "                    if y >= (q1 - (1.5 * iqr)) and y <= (q3 + (1.5 * iqr)):\n",
    "                        new_neighbors.append(y)\n",
    "\n",
    "                y_pred.append(np.mean(new_neighbors))\n",
    "\n",
    "        return np.array(y_pred)"
   ]
  },
  {
   "cell_type": "markdown",
   "metadata": {},
   "source": [
    "### Q1.2"
   ]
  },
  {
   "cell_type": "code",
   "execution_count": 115,
   "metadata": {},
   "outputs": [],
   "source": [
    "# use myknn_regressor\n",
    "myknn = myknn_regressor(20, \"equal_weight\")\n",
    "myknn.fit(X_train, Y_train)\n",
    "ypred = myknn.predict(X_test)"
   ]
  },
  {
   "cell_type": "code",
   "execution_count": 116,
   "metadata": {},
   "outputs": [
    {
     "name": "stdout",
     "output_type": "stream",
     "text": [
      "RMSE: 10.25126451549596\n"
     ]
    }
   ],
   "source": [
    "# count RMSE\n",
    "actual = Y_test\n",
    "predicted = ypred\n",
    "square = np.square(np.subtract(actual, predicted))\n",
    "MSE = square.mean()\n",
    "RMSE = np.sqrt(MSE)\n",
    "\n",
    "print(f'RMSE: {RMSE}')"
   ]
  },
  {
   "cell_type": "code",
   "execution_count": 117,
   "metadata": {},
   "outputs": [
    {
     "name": "stdout",
     "output_type": "stream",
     "text": [
      "Q1.2 | first 20 predictions:\n",
      "1993.35\n",
      "1993.8\n",
      "2000.65\n",
      "1991.5\n",
      "1992.8\n",
      "1998.5\n",
      "1988.1\n",
      "1991.65\n",
      "2002.25\n",
      "2003.0\n",
      "2000.5\n",
      "1998.65\n",
      "1995.55\n",
      "1997.2\n",
      "1995.05\n",
      "1997.4\n",
      "1992.15\n",
      "2000.45\n",
      "2003.2\n",
      "1995.75\n"
     ]
    }
   ],
   "source": [
    "# print first 20 predictions\n",
    "print(\"Q1.2 | first 20 predictions:\")\n",
    "for i in ypred[:20]:\n",
    "    print(i)"
   ]
  },
  {
   "cell_type": "markdown",
   "metadata": {},
   "source": [
    "### Q1.3"
   ]
  },
  {
   "cell_type": "code",
   "execution_count": 118,
   "metadata": {},
   "outputs": [],
   "source": [
    "# use myknn_regressor\n",
    "myknn = myknn_regressor(20, \"remove_outliers\")\n",
    "myknn.fit(X_train, Y_train)\n",
    "ypred = myknn.predict(X_test)"
   ]
  },
  {
   "cell_type": "code",
   "execution_count": 119,
   "metadata": {},
   "outputs": [
    {
     "name": "stdout",
     "output_type": "stream",
     "text": [
      "RMSE: 10.212572466080376\n"
     ]
    }
   ],
   "source": [
    "# count RMSE\n",
    "actual = Y_test\n",
    "predicted = ypred\n",
    "square = np.square(np.subtract(actual, predicted))\n",
    "MSE = square.mean()\n",
    "RMSE = np.sqrt(MSE)\n",
    "\n",
    "print(f'RMSE: {RMSE}')"
   ]
  },
  {
   "cell_type": "code",
   "execution_count": 120,
   "metadata": {},
   "outputs": [
    {
     "name": "stdout",
     "output_type": "stream",
     "text": [
      "Q1.3 | first 20 predictions:\n",
      "1993.35\n",
      "1993.8\n",
      "2000.65\n",
      "1992.7368421052631\n",
      "1992.8\n",
      "2000.0\n",
      "1988.1\n",
      "1991.65\n",
      "2002.25\n",
      "2003.9473684210527\n",
      "2000.5\n",
      "2000.9444444444443\n",
      "1995.55\n",
      "1997.2\n",
      "1998.611111111111\n",
      "1997.4\n",
      "1992.15\n",
      "2003.8333333333333\n",
      "2003.2\n",
      "1995.75\n"
     ]
    }
   ],
   "source": [
    "# print first 20 predictions\n",
    "print(\"Q1.3 | first 20 predictions:\")\n",
    "for i in ypred[:20]:\n",
    "    print(i)"
   ]
  },
  {
   "cell_type": "markdown",
   "metadata": {},
   "source": [
    "### Q2"
   ]
  },
  {
   "cell_type": "code",
   "execution_count": 121,
   "metadata": {},
   "outputs": [],
   "source": [
    "import matplotlib.pyplot as plt\n",
    "from sklearn.neighbors import KNeighborsClassifier\n",
    "klist = [1 , 2 , 3 , 4 , 5 , 10 , 15 , 20 , 25 , 30 , 35 , 40 , 45 , 50 , 55 , 60 , 80 , 100 , 120 , 140 , 160 , 180 , 200]"
   ]
  },
  {
   "cell_type": "markdown",
   "metadata": {},
   "source": [
    "##### setting1"
   ]
  },
  {
   "cell_type": "code",
   "execution_count": 122,
   "metadata": {},
   "outputs": [],
   "source": [
    "rmse_list1 = []\n",
    "\n",
    "for k in klist:\n",
    "    knn1 = KNeighborsClassifier(n_neighbors = k)\n",
    "    knn1.fit(X_train, Y_train)\n",
    "    ypred1 = knn1.predict(X_test)\n",
    "    \n",
    "    square1 = np.square(np.subtract(Y_test, ypred1))\n",
    "    mse1 = square1.mean()\n",
    "    rmse1 = np.sqrt(mse1)\n",
    "    rmse_list1.append(rmse1)"
   ]
  },
  {
   "cell_type": "code",
   "execution_count": 123,
   "metadata": {},
   "outputs": [
    {
     "data": {
      "text/plain": [
       "[13.911074724837043,\n",
       " 15.532793266720144,\n",
       " 16.940552922892845,\n",
       " 18.002388730387977,\n",
       " 18.343036826000212,\n",
       " 15.021429137513293,\n",
       " 13.296503299740124,\n",
       " 12.806235460378927,\n",
       " 12.530762147610975,\n",
       " 12.397271205121445,\n",
       " 12.46698306193871,\n",
       " 12.258833549730578,\n",
       " 12.234514021134364,\n",
       " 12.29800796877283,\n",
       " 12.29592073277421,\n",
       " 12.308465921199657,\n",
       " 12.539125434681107,\n",
       " 12.77006917235246,\n",
       " 12.875273459879082,\n",
       " 13.00256384974389,\n",
       " 13.039734148619237,\n",
       " 13.12649991429551,\n",
       " 13.190248923605145]"
      ]
     },
     "execution_count": 123,
     "metadata": {},
     "output_type": "execute_result"
    }
   ],
   "source": [
    "rmse_list1"
   ]
  },
  {
   "cell_type": "markdown",
   "metadata": {},
   "source": [
    "##### setting2"
   ]
  },
  {
   "cell_type": "code",
   "execution_count": 124,
   "metadata": {},
   "outputs": [],
   "source": [
    "# No feature scaling\n",
    "doscaling = 0\n",
    "\n",
    "if (doscaling == 1):\n",
    "    xscaler = preprocessing.StandardScaler().fit(msd_data['X_train'])\n",
    "    #standardize feature values\n",
    "    X_train = xscaler.transform(msd_data['X_train'])\n",
    "    X_test = xscaler.transform(msd_data['X_test'])\n",
    "else:\n",
    "    X_train = msd_data['X_train']\n",
    "    X_test = msd_data['X_test']\n",
    "\n",
    "Y_train = msd_data['Y_train']\n",
    "Y_test = msd_data['Y_test']"
   ]
  },
  {
   "cell_type": "code",
   "execution_count": 125,
   "metadata": {},
   "outputs": [],
   "source": [
    "rmse_list2 = []\n",
    "\n",
    "for k in klist:\n",
    "    knn2 = KNeighborsClassifier(n_neighbors = k)\n",
    "    knn2.fit(X_train, Y_train)\n",
    "    ypred2 = knn2.predict(X_test)\n",
    "    \n",
    "    square2 = np.square(np.subtract(Y_test, ypred2))\n",
    "    mse2 = square2.mean()\n",
    "    rmse2 = np.sqrt(mse2)\n",
    "    rmse_list2.append(rmse2)"
   ]
  },
  {
   "cell_type": "code",
   "execution_count": 126,
   "metadata": {},
   "outputs": [
    {
     "data": {
      "text/plain": [
       "[14.923638966418345,\n",
       " 16.527219971913002,\n",
       " 17.958025132699493,\n",
       " 18.922209173349714,\n",
       " 19.2830149786455,\n",
       " 15.532492824184189,\n",
       " 13.574596372145534,\n",
       " 13.365228517811932,\n",
       " 13.05419472813241,\n",
       " 12.818775292515271,\n",
       " 12.52252636917434,\n",
       " 12.618953997855765,\n",
       " 12.639356523705363,\n",
       " 12.519278466961797,\n",
       " 12.599576712466707,\n",
       " 12.60072749222573,\n",
       " 12.871764965743173,\n",
       " 13.047745654582123,\n",
       " 13.095648132108622,\n",
       " 13.170143000995344,\n",
       " 13.196754651554803,\n",
       " 13.26514229098203,\n",
       " 13.213793298418638]"
      ]
     },
     "execution_count": 126,
     "metadata": {},
     "output_type": "execute_result"
    }
   ],
   "source": [
    "rmse_list2"
   ]
  },
  {
   "cell_type": "markdown",
   "metadata": {},
   "source": [
    "##### setting3"
   ]
  },
  {
   "cell_type": "code",
   "execution_count": 127,
   "metadata": {},
   "outputs": [],
   "source": [
    "# No feature scaling\n",
    "doscaling = 1\n",
    "\n",
    "if (doscaling == 1):\n",
    "    xscaler = preprocessing.StandardScaler().fit(msd_data['X_train'])\n",
    "    #standardize feature values\n",
    "    X_train = xscaler.transform(msd_data['X_train'])\n",
    "    X_test = xscaler.transform(msd_data['X_test'])\n",
    "else:\n",
    "    X_train = msd_data['X_train']\n",
    "    X_test = msd_data['X_test']\n",
    "\n",
    "Y_train = msd_data['Y_train']\n",
    "Y_test = msd_data['Y_test']"
   ]
  },
  {
   "cell_type": "code",
   "execution_count": 128,
   "metadata": {},
   "outputs": [],
   "source": [
    "rmse_list3 = []\n",
    "\n",
    "for k in klist:\n",
    "    knn3 = myknn_regressor(k, \"remove_outliers\")\n",
    "    knn3.fit(X_train, Y_train)\n",
    "    ypred3 = np.array(knn3.predict(X_test))\n",
    "    \n",
    "    square3 = np.square(np.subtract(Y_test, ypred3))\n",
    "    mse3 = square3.mean()\n",
    "    rmse3 = np.sqrt(mse3)\n",
    "    rmse_list3.append(rmse3)"
   ]
  },
  {
   "cell_type": "code",
   "execution_count": 129,
   "metadata": {},
   "outputs": [
    {
     "data": {
      "text/plain": [
       "[13.911074724837043,\n",
       " 12.068170946750795,\n",
       " 11.389120864846157,\n",
       " 11.1123354880961,\n",
       " 10.894692897614565,\n",
       " 10.468549209697088,\n",
       " 10.293424167991525,\n",
       " 10.212572466080376,\n",
       " 10.19147537897133,\n",
       " 10.132105705172414,\n",
       " 10.109608004792985,\n",
       " 10.093231539122922,\n",
       " 10.080018891479627,\n",
       " 10.08078333324933,\n",
       " 10.059767600751963,\n",
       " 10.073857809066583,\n",
       " 10.063683549276588,\n",
       " 10.064917276737452,\n",
       " 10.067237203620246,\n",
       " 10.090646192390137,\n",
       " 10.115316675702928,\n",
       " 10.124987056716318,\n",
       " 10.146220720227745]"
      ]
     },
     "execution_count": 129,
     "metadata": {},
     "output_type": "execute_result"
    }
   ],
   "source": [
    "rmse_list3"
   ]
  },
  {
   "cell_type": "code",
   "execution_count": 130,
   "metadata": {},
   "outputs": [
    {
     "data": {
      "image/png": "[encoded data removed]",
      "text/plain": [
       "<Figure size 432x288 with 1 Axes>"
      ]
     },
     "metadata": {
      "needs_background": "light"
     },
     "output_type": "display_data"
    }
   ],
   "source": [
    "# draw the error curve\n",
    "\n",
    "plt.plot(klist, rmse_list1, color='red', label='setting1')\n",
    "plt.plot(klist, rmse_list2, color='green', label='setting2')\n",
    "plt.plot(klist, rmse_list3, color='blue', label='setting3')\n",
    "plt.xlabel('k nearest neighbors') # title of x-axis\n",
    "plt.ylabel('RMSE') # tile of y-axis\n",
    "plt.legend()\n",
    "plt.show()"
   ]
  },
  {
   "cell_type": "markdown",
   "metadata": {},
   "source": [
    "##### Observations\n",
    "\n",
    "1. setting1 vs setting2:  \n",
    "同樣是使用sklearn套件訓練出的模型，setting1不論k為多少，表現都比setting1還好。應該是因為特徵標準化的處理所致，k落在[25,50]時，RMSE的差距最大；若k小於25，RMSE的差距非常小，整體而言可發現特徵標準化對模型表現的改善。  \n",
    "2. setting1 vs setting3:\n",
    "這兩組設定的共同點都是有經過特徵標準化，很明顯地，暴力法的myknn表現遠比sklearn套件預設的方法更好。但暴力法的缺點就是時間複雜度較大，訓練、測試模型需要不少時間。若資料大小更大，模型ㄧ定會跑非常慢，暴力法可能就不太適合。\n",
    "3. setting3:\n",
    "從藍線可觀察出RMSE會隨k遞減，k=25之後就是趨近水平的曲線。直接觀察setting3得到的所有RMSE值就能得知55是最適k值。\n"
   ]
  },
  {
   "cell_type": "markdown",
   "metadata": {},
   "source": [
    "### Q3"
   ]
  },
  {
   "cell_type": "code",
   "execution_count": 154,
   "metadata": {},
   "outputs": [],
   "source": [
    "import pickle\n",
    "from sklearn import preprocessing\n",
    "import numpy as np\n",
    "np.set_printoptions(suppress=True)\n",
    "\n",
    "#Load data\n",
    "with open('msd_data1.pickle', 'rb') as fh1:\n",
    "    msd_data = pickle.load(fh1)\n",
    "\n",
    "xscaler = preprocessing.StandardScaler().fit(msd_data['X_train'])\n",
    "#standardize feature values\n",
    "X_train_sd = xscaler.transform(msd_data['X_train'])\n",
    "X_test_sd = xscaler.transform(msd_data['X_test'])\n",
    "\n",
    "#outcome values\n",
    "Y_train = msd_data['Y_train']\n",
    "Y_test = msd_data['Y_test']"
   ]
  },
  {
   "cell_type": "markdown",
   "metadata": {},
   "source": [
    "### Q3.1"
   ]
  },
  {
   "cell_type": "markdown",
   "metadata": {},
   "source": [
    "![Image](./q3-1.png)"
   ]
  },
  {
   "cell_type": "markdown",
   "metadata": {},
   "source": [
    "### Q3.2"
   ]
  },
  {
   "cell_type": "code",
   "execution_count": 261,
   "metadata": {},
   "outputs": [],
   "source": [
    "from copy import deepcopy\n",
    "from tkinter import X\n",
    "import numpy as np\n",
    "\n",
    "class mylasso():\n",
    "    def __init__(self, lamcoef = 0.1, max_iter=1000, tol=1e-6, const_regu = False):\n",
    "        \"\"\"lamcoef: the regularization coefficient\n",
    "           max_iter: maximum number of iteration for model training\n",
    "           tol: tolerance for the stopping criteria for model training\n",
    "           const_regu: whether the constant term should be regularized, default to False\n",
    "           \"\"\"\n",
    "        ### Add your code here ###\n",
    "        self.lamcoef = lamcoef\n",
    "        self.max_iter = max_iter\n",
    "        self.tol = tol\n",
    "        self.const_regu = const_regu\n",
    "\n",
    "    def fit(self, x_train, y_train, winit = \"ridge\", keep_traindata = True, verbose = False):\n",
    "        \"\"\"Fit a Lasso model\n",
    "           x_train: a numpy matrix that contains training features\n",
    "           y_train: a numpy matrix that contains the label\n",
    "           winit: how weights are initialized, default to \"ridge\", ridge regression\n",
    "           keep_traindata: whether the object is going to keep training data after the training process completed\n",
    "           verbose: output a lot of message\"\"\"\n",
    "        ### Add your code here ###\n",
    "        if keep_traindata: # save training data\n",
    "            self.x_train = deepcopy(x_train)\n",
    "            self.y_train = deepcopy(y_train)\n",
    "\n",
    "        def soft_threshold(w, lam):\n",
    "            if w > 0.0 and lam < abs(w):\n",
    "                return w - lam\n",
    "            elif w < 0.0 and lam < abs(w):\n",
    "                return w + lam\n",
    "            else:\n",
    "                return 0\n",
    "        \n",
    "        \n",
    "        x_train = np.column_stack((np.ones(len(x_train)), x_train)) # add one column\n",
    "        W = np.zeros(x_train.shape[1]) # row vector\n",
    "        \n",
    "        # Initialize W: L2 regularization\n",
    "        # W = ((X^T)X)+ lambda*I)^(-1)(X^T)Y\n",
    "        identity = np.identity(x_train.shape[1])\n",
    "        X_T = np.transpose(x_train)\n",
    "        a = np.linalg.inv(np.dot(X_T, x_train) + self.lamcoef * identity)\n",
    "        b = np.dot(a, X_T)\n",
    "        W = np.dot(b, y_train)\n",
    "        # W[0] = np.sum(y_train - np.dot(x_train[:, 1:], W[1:])) / (x_train.shape[0]) # initial W\n",
    "        \n",
    "\n",
    "        L = 0.0\n",
    "        min_L = 1e+21\n",
    "        min_W = deepcopy(W)\n",
    "        for i in range(self.max_iter): \n",
    "            lastL = L\n",
    "            for j in range(1, len(W)):\n",
    "                tmp_W = deepcopy(W)\n",
    "                tmp_W[j] = 0.0\n",
    "                r_j = y_train - np.dot(x_train, tmp_W) #residual\n",
    "                arg1 = np.dot(x_train[:, j], r_j)\n",
    "                arg2 = self.lamcoef * (x_train.shape[0]) # lambda * n\n",
    "                W[j] = soft_threshold(arg1, arg2) / (x_train[:, j]**2).sum() # coordinate descent with soft thresholding\n",
    "                W[0] = np.sum(y_train - np.dot(x_train[:, 1:], W[1:])) / (x_train.shape[0])\n",
    "\n",
    "            W_T = np.transpose(W)\n",
    "            if self.const_regu: # L'\n",
    "                L = ((1 / 2 * x_train.shape[0]) * (((y_train - np.dot(x_train, W_T) - W[0])**2).sum())) + (self.lamcoef * ((abs(W).sum()) + abs(W[0])))\n",
    "            else: # L\n",
    "                L = ((1 / 2 * x_train.shape[0]) * (((y_train - np.dot(x_train, W_T) - W[0])**2).sum())) + (self.lamcoef * ((abs(W).sum())))\n",
    "\n",
    "            if L < min_L:\n",
    "                min_L = L\n",
    "                min_W = deepcopy(W)\n",
    "\n",
    "            if abs(L - lastL) < self.tol:\n",
    "                break\n",
    "\n",
    "        self.loss = min_L\n",
    "        self.intercept = min_W[0]\n",
    "        self.coef = min_W[1:]\n",
    "\n",
    "        return self\n",
    "\n",
    "        \n",
    "    def predict(self, x_test):\n",
    "        \"\"\"Make prediction using trained model\"\"\"\n",
    "        ### Add your code here ###\n",
    "        y_pred = np.dot(x_test, self.coef)\n",
    "        y_pred += self.intercept * np.ones(len(y_pred))\n",
    "        return y_pred"
   ]
  },
  {
   "cell_type": "markdown",
   "metadata": {},
   "source": [
    "### Q3.4"
   ]
  },
  {
   "cell_type": "code",
   "execution_count": 262,
   "metadata": {},
   "outputs": [],
   "source": [
    "x_train = X_train_sd\n",
    "y_train = Y_train\n",
    "x_test = X_test_sd"
   ]
  },
  {
   "cell_type": "code",
   "execution_count": 263,
   "metadata": {},
   "outputs": [],
   "source": [
    "mlo = mylasso(lamcoef = 0.1)\n",
    "mlo.fit(x_train, y_train)\n",
    "ypred = mlo.predict(x_test)"
   ]
  },
  {
   "cell_type": "code",
   "execution_count": 264,
   "metadata": {},
   "outputs": [
    {
     "data": {
      "text/plain": [
       "array([ 4.97706565, -2.71806405, -1.33697989,  0.34523198, -0.57712266,\n",
       "       -3.47877585,  0.        , -0.81707317, -0.40657806, -0.13621188,\n",
       "       -0.23391106, -0.3398293 ,  0.66632894,  0.        , -0.81557783,\n",
       "        0.62299946,  0.11253532,  0.96093136,  0.64542974,  0.69820802,\n",
       "        0.57481274,  0.43349445,  1.73978577,  0.20444774, -0.23991916,\n",
       "        0.07307756,  1.03034545,  0.04033037,  0.16071539,  0.        ,\n",
       "       -0.21937433, -0.25625984, -0.09803677, -0.03659762, -0.17931948,\n",
       "       -0.163607  ,  0.        ,  0.27274745,  0.41995879, -0.10427623,\n",
       "       -0.13900962, -0.2107629 , -0.02181362,  0.14584649, -0.20469432,\n",
       "        0.0759112 ,  0.03665381, -0.23554824,  0.        ,  0.12441931,\n",
       "        0.36848026,  0.        ,  0.07515772,  0.09085724,  0.        ,\n",
       "        0.02826299, -0.62450032,  0.48641559, -0.25204276,  0.08318992,\n",
       "       -0.1942295 ,  0.00052723, -0.17188622,  0.12940936, -0.554148  ,\n",
       "        0.        ,  0.11328508, -0.13782944, -0.10989864, -0.11030511,\n",
       "       -0.50475924,  0.0840557 ,  0.14543529,  0.19920287,  0.11874715,\n",
       "        0.15562786, -0.11485952, -0.63856932, -0.06328576,  0.        ,\n",
       "        0.09112546,  0.16583329,  0.26289277,  0.16699739,  0.41940858,\n",
       "        0.00252455,  0.        , -0.48688178, -0.00495036,  0.        ])"
      ]
     },
     "execution_count": 264,
     "metadata": {},
     "output_type": "execute_result"
    }
   ],
   "source": [
    "mlo.coef"
   ]
  },
  {
   "cell_type": "code",
   "execution_count": 265,
   "metadata": {},
   "outputs": [
    {
     "name": "stdout",
     "output_type": "stream",
     "text": [
      "1991.461722574251\n",
      "1998.3925469459427\n",
      "2003.3472824343007\n",
      "1990.4578107993975\n",
      "1994.3353046334\n"
     ]
    }
   ],
   "source": [
    "for i in ypred[:5]:\n",
    "    print(i)"
   ]
  },
  {
   "cell_type": "code",
   "execution_count": 266,
   "metadata": {},
   "outputs": [
    {
     "name": "stdout",
     "output_type": "stream",
     "text": [
      "RMSE: 9.653764842732576\n",
      "MAE: 6.934215776303553\n"
     ]
    }
   ],
   "source": [
    "# count RMSE and MAE\n",
    "square = np.square(np.subtract(Y_test, ypred))\n",
    "MSE = square.mean()\n",
    "RMSE = np.sqrt(MSE)\n",
    "\n",
    "subtr = abs(np.subtract(Y_test, ypred))\n",
    "MAE = subtr.mean()\n",
    "\n",
    "print(f'RMSE: {RMSE}')\n",
    "print(f'MAE: {MAE}')"
   ]
  },
  {
   "cell_type": "code",
   "execution_count": null,
   "metadata": {},
   "outputs": [],
   "source": []
  }
 ],
 "metadata": {
  "kernelspec": {
   "display_name": "Python 3.9.12 ('base')",
   "language": "python",
   "name": "python3"
  },
  "language_info": {
   "codemirror_mode": {
    "name": "ipython",
    "version": 3
   },
   "file_extension": ".py",
   "mimetype": "text/x-python",
   "name": "python",
   "nbconvert_exporter": "python",
   "pygments_lexer": "ipython3",
   "version": "3.9.12"
  },
  "orig_nbformat": 4,
  "vscode": {
   "interpreter": {
    "hash": "5cfa4b7dcd7864583d72e5eda12e513f8c53c522d90114d3c5fb0ab3f428a316"
   }
  }
 },
 "nbformat": 4,
 "nbformat_minor": 2
}
