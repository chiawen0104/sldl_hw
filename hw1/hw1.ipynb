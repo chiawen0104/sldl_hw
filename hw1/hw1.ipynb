{
 "cells": [
  {
   "cell_type": "code",
   "execution_count": 1,
   "metadata": {},
   "outputs": [],
   "source": [
    "import pickle\n",
    "from sklearn import preprocessing\n",
    "import numpy as np"
   ]
  },
  {
   "cell_type": "code",
   "execution_count": 2,
   "metadata": {},
   "outputs": [],
   "source": [
    "# Load data\n",
    "with open('msd_data1.pickle', 'rb') as fh1:\n",
    "    msd_data = pickle.load(fh1)\n",
    "\n",
    "doscaling = 1\n",
    "\n",
    "if (doscaling == 1):\n",
    "    xscaler = preprocessing.StandardScaler().fit(msd_data['X_train'])\n",
    "    #standardize feature values\n",
    "    X_train = xscaler.transform(msd_data['X_train'])\n",
    "    X_test = xscaler.transform(msd_data['X_test'])\n",
    "else:\n",
    "    X_train = msd_data['X_train']\n",
    "    X_test = msd_data['X_test']\n",
    "\n",
    "Y_train = msd_data['Y_train']\n",
    "Y_test = msd_data['Y_test']"
   ]
  },
  {
   "cell_type": "code",
   "execution_count": 3,
   "metadata": {},
   "outputs": [
    {
     "data": {
      "text/plain": [
       "{'X_train': array([[  53.39967,   56.67781,   55.63508, ...,    1.3159 ,    2.37448,\n",
       "            1.85999],\n",
       "        [  42.83464,  -33.90478,   38.97704, ...,    9.72827, -175.51446,\n",
       "          -15.8389 ],\n",
       "        [  49.88591,   23.30563,   54.79012, ...,    1.94152,  101.27241,\n",
       "            8.99355],\n",
       "        ...,\n",
       "        [  41.04397,  -96.30727,   56.8073 , ...,    3.60251,  -97.24809,\n",
       "           -5.80797],\n",
       "        [  42.8676 ,   43.36365,   29.17957, ...,   18.71014,  208.9029 ,\n",
       "          -11.08426],\n",
       "        [  36.57558,   29.8733 ,   -3.08101, ...,   21.0417 ,  106.60317,\n",
       "            3.44396]]),\n",
       " 'Y_train': array([1996., 2001., 2003., ..., 2009., 1982., 1981.]),\n",
       " 'X_test': array([[  38.51784,   55.38723,   10.31652, ...,    6.66624,  -73.75585,\n",
       "            9.47857],\n",
       "        [  44.7309 ,   46.25776,    8.55636, ...,    4.5564 ,   53.49956,\n",
       "            5.39116],\n",
       "        [  43.08912,   45.70197,   17.18467, ...,  -13.64909,   -7.42137,\n",
       "           -4.97266],\n",
       "        ...,\n",
       "        [  39.81814,   62.12221,    6.60567, ...,   28.27807,  -60.00203,\n",
       "          -11.19226],\n",
       "        [  50.25968,   43.10325,   24.72866, ...,    2.71602,  -44.27226,\n",
       "           -2.54583],\n",
       "        [  41.39744,   -8.88692,  -20.15887, ...,    8.63798, -120.34024,\n",
       "            3.65709]]),\n",
       " 'Y_test': array([1998., 1988., 2005., ..., 1990., 2005., 1989.])}"
      ]
     },
     "execution_count": 3,
     "metadata": {},
     "output_type": "execute_result"
    }
   ],
   "source": [
    "msd_data"
   ]
  },
  {
   "cell_type": "code",
   "execution_count": null,
   "metadata": {},
   "outputs": [],
   "source": []
  }
 ],
 "metadata": {
  "kernelspec": {
   "display_name": "Python 3.9.12 ('base')",
   "language": "python",
   "name": "python3"
  },
  "language_info": {
   "codemirror_mode": {
    "name": "ipython",
    "version": 3
   },
   "file_extension": ".py",
   "mimetype": "text/x-python",
   "name": "python",
   "nbconvert_exporter": "python",
   "pygments_lexer": "ipython3",
   "version": "3.9.12"
  },
  "orig_nbformat": 4,
  "vscode": {
   "interpreter": {
    "hash": "5cfa4b7dcd7864583d72e5eda12e513f8c53c522d90114d3c5fb0ab3f428a316"
   }
  }
 },
 "nbformat": 4,
 "nbformat_minor": 2
}
