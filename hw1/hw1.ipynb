{
 "cells": [
  {
   "cell_type": "markdown",
   "metadata": {},
   "source": [
    "# Homework 1"
   ]
  },
  {
   "cell_type": "markdown",
   "metadata": {},
   "source": [
    "### Q1\n",
    "\n",
    "step1: 先讀取資料，再標準化所有feature values，觀察訓練與測試資料的大小。  \n",
    "step2: 完成myknn_regressor的class：暴力法的演算法是先算出每筆測試資料與各個訓練資料的距離，然後找出距離最近的k個鄰居，再依照不同類型算出Y_train的平均值。  \n",
    "step3: 計算實際值與預測值的RMSE。"
   ]
  },
  {
   "cell_type": "code",
   "execution_count": 110,
   "metadata": {},
   "outputs": [],
   "source": [
    "import pickle\n",
    "from sklearn import preprocessing\n",
    "import numpy as np"
   ]
  },
  {
   "cell_type": "code",
   "execution_count": 363,
   "metadata": {},
   "outputs": [],
   "source": [
    "# Load data\n",
    "with open('msd_data1.pickle', 'rb') as fh1:\n",
    "    msd_data = pickle.load(fh1)\n",
    "\n",
    "doscaling = 1\n",
    "\n",
    "if (doscaling == 1):\n",
    "    xscaler = preprocessing.StandardScaler().fit(msd_data['X_train'])\n",
    "    #standardize feature values\n",
    "    X_train = xscaler.transform(msd_data['X_train'])\n",
    "    X_test = xscaler.transform(msd_data['X_test'])\n",
    "else:\n",
    "    X_train = msd_data['X_train']\n",
    "    X_test = msd_data['X_test']\n",
    "\n",
    "Y_train = msd_data['Y_train']\n",
    "Y_test = msd_data['Y_test']"
   ]
  },
  {
   "cell_type": "code",
   "execution_count": 112,
   "metadata": {},
   "outputs": [
    {
     "name": "stdout",
     "output_type": "stream",
     "text": [
      "train_size: 5000\n",
      "test_size: 3000\n"
     ]
    }
   ],
   "source": [
    "# size of data\n",
    "print(f'train_size: {X_train.shape[0]}')\n",
    "print(f'test_size: {X_test.shape[0]}')"
   ]
  },
  {
   "cell_type": "code",
   "execution_count": 113,
   "metadata": {},
   "outputs": [
    {
     "data": {
      "text/plain": [
       "array([[  38.51784,   55.38723,   10.31652, ...,    6.66624,  -73.75585,\n",
       "           9.47857],\n",
       "       [  44.7309 ,   46.25776,    8.55636, ...,    4.5564 ,   53.49956,\n",
       "           5.39116],\n",
       "       [  43.08912,   45.70197,   17.18467, ...,  -13.64909,   -7.42137,\n",
       "          -4.97266],\n",
       "       ...,\n",
       "       [  39.81814,   62.12221,    6.60567, ...,   28.27807,  -60.00203,\n",
       "         -11.19226],\n",
       "       [  50.25968,   43.10325,   24.72866, ...,    2.71602,  -44.27226,\n",
       "          -2.54583],\n",
       "       [  41.39744,   -8.88692,  -20.15887, ...,    8.63798, -120.34024,\n",
       "           3.65709]])"
      ]
     },
     "execution_count": 113,
     "metadata": {},
     "output_type": "execute_result"
    }
   ],
   "source": [
    "msd_data['X_test']"
   ]
  },
  {
   "cell_type": "markdown",
   "metadata": {},
   "source": [
    "### Q1.1"
   ]
  },
  {
   "cell_type": "code",
   "execution_count": 372,
   "metadata": {},
   "outputs": [],
   "source": [
    "class myknn_regressor():\n",
    "    def __init__(self, n_neighbors = 10, mean_type = \"equal_weight\"):\n",
    "        \"\"\"mean_type can be equal_weight or remove_outliers.\n",
    "                              equal_weight use the same weight for all neighbors.\n",
    "                              remove_outliers remove neighbors out in [Q1 - 1.5 IQR, Q3 + 1.5IQR].\"\"\"\n",
    "        ### Add your code here ###  \n",
    "        '''save parameters'''   \n",
    "        self.n_neighbors = n_neighbors \n",
    "        self.mean_type = mean_type\n",
    "\n",
    "    def fit(self, x_train, y_train):\n",
    "        ### Add your code here ###\n",
    "        '''save training data'''\n",
    "        self.x_train = x_train\n",
    "        self.y_train = y_train\n",
    "         \n",
    "\n",
    "    def predict(self, x_test):\n",
    "        \"\"\"use remove_outliers only if k>=10\"\"\"\n",
    "         ### Add your code here ###\n",
    "        if self.n_neighbors < 10:\n",
    "            self.mean_type = \"equal_weight\"\n",
    "        \n",
    "        self.x_test = x_test\n",
    "        n_train = self.x_train.shape[0]\n",
    "        n_test = self.x_test.shape[0]\n",
    "        y_pred = []\n",
    "        \n",
    "        for i in range(n_test): # for every x_test\n",
    "            dist = []\n",
    "            for j in range(n_train): # for every x_train\n",
    "                # Euclidean distance between x_test's ith row and x_train's jth row\n",
    "                d = np.linalg.norm(self.x_test[i,:] - self.x_train[j,:])\n",
    "                dist.append([d, self.y_train[j]])\n",
    "            \n",
    "            sort_dist = sorted(dist, key = lambda l: l[0]) # sort y_train by distance in ascending order\n",
    "\n",
    "\n",
    "            # k nearest neighbors' y_train\n",
    "            k_neighbors = []\n",
    "            for k in range(self.n_neighbors):\n",
    "                k_neighbors.append(sort_dist[k][1]) \n",
    "\n",
    "            \n",
    "            if self.mean_type == \"equal_weight\":\n",
    "                y_pred.append(np.mean(k_neighbors))\n",
    "            else: # remove_outliers\n",
    "                q1 = np.quantile(k_neighbors,0.25) \n",
    "                q3 = np.quantile(k_neighbors,0.75)\n",
    "                iqr = q3 - q1\n",
    "                \n",
    "                new_neighbors = []\n",
    "                for k in range(len(k_neighbors)):\n",
    "                    y = k_neighbors[k]\n",
    "                    if y >= (q1 - (1.5 * iqr)) and y <= (q3 + (1.5 * iqr)):\n",
    "                        new_neighbors.append(y)\n",
    "\n",
    "                y_pred.append(np.mean(new_neighbors))\n",
    "\n",
    "        return np.array(y_pred)"
   ]
  },
  {
   "cell_type": "markdown",
   "metadata": {},
   "source": [
    "### Q1.2"
   ]
  },
  {
   "cell_type": "code",
   "execution_count": 373,
   "metadata": {},
   "outputs": [],
   "source": [
    "# use myknn_regressor\n",
    "myknn = myknn_regressor(20, \"equal_weight\")\n",
    "myknn.fit(X_train, Y_train)\n",
    "ypred = myknn.predict(X_test)"
   ]
  },
  {
   "cell_type": "code",
   "execution_count": 374,
   "metadata": {},
   "outputs": [
    {
     "name": "stdout",
     "output_type": "stream",
     "text": [
      "RMSE: 10.25126451549596\n"
     ]
    }
   ],
   "source": [
    "# count RMSE\n",
    "actual = Y_test\n",
    "predicted = ypred\n",
    "square = np.square(np.subtract(actual, predicted))\n",
    "MSE = square.mean()\n",
    "RMSE = np.sqrt(MSE)\n",
    "\n",
    "print(f'RMSE: {RMSE}')"
   ]
  },
  {
   "cell_type": "code",
   "execution_count": 375,
   "metadata": {},
   "outputs": [
    {
     "name": "stdout",
     "output_type": "stream",
     "text": [
      "Q1.2 | first 20 predictions:\n",
      "1993.35\n",
      "1993.8\n",
      "2000.65\n",
      "1991.5\n",
      "1992.8\n",
      "1998.5\n",
      "1988.1\n",
      "1991.65\n",
      "2002.25\n",
      "2003.0\n",
      "2000.5\n",
      "1998.65\n",
      "1995.55\n",
      "1997.2\n",
      "1995.05\n",
      "1997.4\n",
      "1992.15\n",
      "2000.45\n",
      "2003.2\n",
      "1995.75\n"
     ]
    }
   ],
   "source": [
    "# print first 20 predictions\n",
    "print(\"Q1.2 | first 20 predictions:\")\n",
    "for i in ypred[:20]:\n",
    "    print(i)"
   ]
  },
  {
   "cell_type": "markdown",
   "metadata": {},
   "source": [
    "### Q1.3"
   ]
  },
  {
   "cell_type": "code",
   "execution_count": 376,
   "metadata": {},
   "outputs": [],
   "source": [
    "# use myknn_regressor\n",
    "myknn = myknn_regressor(20, \"remove_outliers\")\n",
    "myknn.fit(X_train, Y_train)\n",
    "ypred = myknn.predict(X_test)"
   ]
  },
  {
   "cell_type": "code",
   "execution_count": 377,
   "metadata": {},
   "outputs": [
    {
     "name": "stdout",
     "output_type": "stream",
     "text": [
      "RMSE: 10.212572466080376\n"
     ]
    }
   ],
   "source": [
    "# count RMSE\n",
    "actual = Y_test\n",
    "predicted = ypred\n",
    "square = np.square(np.subtract(actual, predicted))\n",
    "MSE = square.mean()\n",
    "RMSE = np.sqrt(MSE)\n",
    "\n",
    "print(f'RMSE: {RMSE}')"
   ]
  },
  {
   "cell_type": "code",
   "execution_count": 378,
   "metadata": {},
   "outputs": [
    {
     "name": "stdout",
     "output_type": "stream",
     "text": [
      "Q1.3 | first 20 predictions:\n",
      "1993.35\n",
      "1993.8\n",
      "2000.65\n",
      "1992.7368421052631\n",
      "1992.8\n",
      "2000.0\n",
      "1988.1\n",
      "1991.65\n",
      "2002.25\n",
      "2003.9473684210527\n",
      "2000.5\n",
      "2000.9444444444443\n",
      "1995.55\n",
      "1997.2\n",
      "1998.611111111111\n",
      "1997.4\n",
      "1992.15\n",
      "2003.8333333333333\n",
      "2003.2\n",
      "1995.75\n"
     ]
    }
   ],
   "source": [
    "# print first 20 predictions\n",
    "print(\"Q1.3 | first 20 predictions:\")\n",
    "for i in ypred[:20]:\n",
    "    print(i)"
   ]
  },
  {
   "cell_type": "markdown",
   "metadata": {},
   "source": [
    "### Q2"
   ]
  },
  {
   "cell_type": "code",
   "execution_count": 346,
   "metadata": {},
   "outputs": [],
   "source": [
    "import matplotlib.pyplot as plt\n",
    "from sklearn.neighbors import KNeighborsRegressor\n",
    "klist = [1 , 2 , 3 , 4 , 5 , 10 , 15 , 20 , 25 , 30 , 35 , 40 , 45 , 50 , 55 , 60 , 80 , 100 , 120 , 140 , 160 , 180 , 200]"
   ]
  },
  {
   "cell_type": "markdown",
   "metadata": {},
   "source": [
    "##### setting1"
   ]
  },
  {
   "cell_type": "code",
   "execution_count": 379,
   "metadata": {},
   "outputs": [],
   "source": [
    "# feature scaling\n",
    "doscaling = 1\n",
    "\n",
    "if (doscaling == 1):\n",
    "    xscaler = preprocessing.StandardScaler().fit(msd_data['X_train'])\n",
    "    #standardize feature values\n",
    "    X_train = xscaler.transform(msd_data['X_train'])\n",
    "    X_test = xscaler.transform(msd_data['X_test'])\n",
    "else:\n",
    "    X_train = msd_data['X_train']\n",
    "    X_test = msd_data['X_test']\n",
    "\n",
    "Y_train = msd_data['Y_train']\n",
    "Y_test = msd_data['Y_test']"
   ]
  },
  {
   "cell_type": "code",
   "execution_count": 380,
   "metadata": {},
   "outputs": [],
   "source": [
    "rmse_list1 = []\n",
    "\n",
    "for k in klist:\n",
    "    knn1 = KNeighborsRegressor(n_neighbors = k)\n",
    "    knn1.fit(X_train, Y_train)\n",
    "    ypred1 = knn1.predict(X_test)\n",
    "    \n",
    "    square1 = np.square(np.subtract(Y_test, ypred1))\n",
    "    mse1 = square1.mean()\n",
    "    rmse1 = np.sqrt(mse1)\n",
    "    rmse_list1.append(rmse1)"
   ]
  },
  {
   "cell_type": "markdown",
   "metadata": {},
   "source": [
    "##### setting2"
   ]
  },
  {
   "cell_type": "code",
   "execution_count": 381,
   "metadata": {},
   "outputs": [],
   "source": [
    "# No feature scaling\n",
    "doscaling = 0\n",
    "\n",
    "if (doscaling == 1):\n",
    "    xscaler = preprocessing.StandardScaler().fit(msd_data['X_train'])\n",
    "    #standardize feature values\n",
    "    X_train = xscaler.transform(msd_data['X_train'])\n",
    "    X_test = xscaler.transform(msd_data['X_test'])\n",
    "else:\n",
    "    X_train = msd_data['X_train']\n",
    "    X_test = msd_data['X_test']\n",
    "\n",
    "Y_train = msd_data['Y_train']\n",
    "Y_test = msd_data['Y_test']"
   ]
  },
  {
   "cell_type": "code",
   "execution_count": 382,
   "metadata": {},
   "outputs": [],
   "source": [
    "rmse_list2 = []\n",
    "\n",
    "for k in klist:\n",
    "    knn2 = KNeighborsRegressor(n_neighbors = k)\n",
    "    knn2.fit(X_train, Y_train)\n",
    "    ypred2 = knn2.predict(X_test)\n",
    "    \n",
    "    square2 = np.square(np.subtract(Y_test, ypred2))\n",
    "    mse2 = square2.mean()\n",
    "    rmse2 = np.sqrt(mse2)\n",
    "    rmse_list2.append(rmse2)"
   ]
  },
  {
   "cell_type": "markdown",
   "metadata": {},
   "source": [
    "##### setting3"
   ]
  },
  {
   "cell_type": "code",
   "execution_count": 369,
   "metadata": {},
   "outputs": [],
   "source": [
    "# feature scaling\n",
    "doscaling = 1\n",
    "\n",
    "if (doscaling == 1):\n",
    "    xscaler = preprocessing.StandardScaler().fit(msd_data['X_train'])\n",
    "    #standardize feature values\n",
    "    X_train = xscaler.transform(msd_data['X_train'])\n",
    "    X_test = xscaler.transform(msd_data['X_test'])\n",
    "else:\n",
    "    X_train = msd_data['X_train']\n",
    "    X_test = msd_data['X_test']\n",
    "\n",
    "Y_train = msd_data['Y_train']\n",
    "Y_test = msd_data['Y_test']"
   ]
  },
  {
   "cell_type": "code",
   "execution_count": 128,
   "metadata": {},
   "outputs": [],
   "source": [
    "rmse_list3 = []\n",
    "\n",
    "for k in klist:\n",
    "    knn3 = myknn_regressor(k, \"remove_outliers\")\n",
    "    knn3.fit(X_train, Y_train)\n",
    "    ypred3 = np.array(knn3.predict(X_test))\n",
    "    \n",
    "    square3 = np.square(np.subtract(Y_test, ypred3))\n",
    "    mse3 = square3.mean()\n",
    "    rmse3 = np.sqrt(mse3)\n",
    "    rmse_list3.append(rmse3)"
   ]
  },
  {
   "cell_type": "code",
   "execution_count": 370,
   "metadata": {},
   "outputs": [
    {
     "data": {
      "text/plain": [
       "[13.911074724837043,\n",
       " 12.068170946750795,\n",
       " 11.389120864846157,\n",
       " 11.1123354880961,\n",
       " 10.894692897614565,\n",
       " 10.468549209697088,\n",
       " 10.293424167991525,\n",
       " 10.212572466080376,\n",
       " 10.19147537897133,\n",
       " 10.132105705172414,\n",
       " 10.109608004792985,\n",
       " 10.093231539122922,\n",
       " 10.080018891479627,\n",
       " 10.08078333324933,\n",
       " 10.059767600751963,\n",
       " 10.073857809066583,\n",
       " 10.063683549276588,\n",
       " 10.064917276737452,\n",
       " 10.067237203620246,\n",
       " 10.090646192390137,\n",
       " 10.115316675702928,\n",
       " 10.124987056716318,\n",
       " 10.146220720227745]"
      ]
     },
     "execution_count": 370,
     "metadata": {},
     "output_type": "execute_result"
    }
   ],
   "source": [
    "rmse_list3"
   ]
  },
  {
   "cell_type": "code",
   "execution_count": 383,
   "metadata": {},
   "outputs": [
    {
     "data": {
      "image/png": "[encoded data removed]",
      "text/plain": [
       "<Figure size 432x288 with 1 Axes>"
      ]
     },
     "metadata": {
      "needs_background": "light"
     },
     "output_type": "display_data"
    }
   ],
   "source": [
    "# draw the error curve\n",
    "plt.plot(klist, rmse_list1, color='red', label='setting1')\n",
    "plt.plot(klist, rmse_list2, color='green', label='setting2')\n",
    "plt.plot(klist, rmse_list3, color='blue', label='setting3')\n",
    "plt.xlabel('k nearest neighbors') # title of x-axis\n",
    "plt.ylabel('RMSE') # tile of y-axis\n",
    "plt.legend()\n",
    "plt.show()"
   ]
  },
  {
   "cell_type": "markdown",
   "metadata": {},
   "source": [
    "##### Observations\n",
    "\n",
    "1. setting1 vs setting2:  \n",
    "同樣是使用sklearn套件訓練出的模型，setting1不論k為多少，表現都比setting1還好，整體而言可發現特徵標準化對模型表現的改善。  \n",
    "2. setting1 vs setting3:\n",
    "這兩組設定的共同點都是有經過特徵標準化，很明顯地，暴力法的myknn表現遠比sklearn套件預設的方法更好。但暴力法的缺點就是時間複雜度較大，訓練、測試模型需要不少時間。若資料更多，模型ㄧ定會跑非常慢，暴力法可能就不太適合。\n",
    "3. setting3:\n",
    "從藍線可觀察出RMSE會隨k遞減，k=25之後就是趨近水平的曲線。直接觀察setting3得到的所有RMSE值就能得知55是最適k值。\n"
   ]
  },
  {
   "cell_type": "markdown",
   "metadata": {},
   "source": [
    "### Q3"
   ]
  },
  {
   "cell_type": "code",
   "execution_count": 384,
   "metadata": {},
   "outputs": [],
   "source": [
    "import pickle\n",
    "from sklearn import preprocessing\n",
    "import numpy as np\n",
    "np.set_printoptions(suppress=True)\n",
    "\n",
    "#Load data\n",
    "with open('msd_data1.pickle', 'rb') as fh1:\n",
    "    msd_data = pickle.load(fh1)\n",
    "\n",
    "xscaler = preprocessing.StandardScaler().fit(msd_data['X_train'])\n",
    "#standardize feature values\n",
    "X_train_sd = xscaler.transform(msd_data['X_train'])\n",
    "X_test_sd = xscaler.transform(msd_data['X_test'])\n",
    "\n",
    "#outcome values\n",
    "Y_train = msd_data['Y_train']\n",
    "Y_test = msd_data['Y_test']"
   ]
  },
  {
   "cell_type": "markdown",
   "metadata": {},
   "source": [
    "### Q3.1"
   ]
  },
  {
   "cell_type": "markdown",
   "metadata": {},
   "source": [
    "![Image](./Q3-1.png)"
   ]
  },
  {
   "cell_type": "markdown",
   "metadata": {},
   "source": [
    "### Q3.2"
   ]
  },
  {
   "cell_type": "code",
   "execution_count": 424,
   "metadata": {},
   "outputs": [],
   "source": [
    "from copy import deepcopy\n",
    "import numpy as np\n",
    "\n",
    "class mylasso():\n",
    "    def __init__(self, lamcoef = 0.1, max_iter=1000, tol=1e-6, const_regu = False):\n",
    "        \"\"\"lamcoef: the regularization coefficient\n",
    "           max_iter: maximum number of iteration for model training\n",
    "           tol: tolerance for the stopping criteria for model training\n",
    "           const_regu: whether the constant term should be regularized, default to False\n",
    "           \"\"\"\n",
    "        ### Add your code here ###\n",
    "        self.lamcoef = lamcoef\n",
    "        self.max_iter = max_iter\n",
    "        self.tol = tol\n",
    "        self.const_regu = const_regu\n",
    "\n",
    "    def fit(self, x_train, y_train, winit = \"ridge\", keep_traindata = True, verbose = False):\n",
    "        \"\"\"Fit a Lasso model\n",
    "           x_train: a numpy matrix that contains training features\n",
    "           y_train: a numpy matrix that contains the label\n",
    "           winit: how weights are initialized, default to \"ridge\", ridge regression\n",
    "           keep_traindata: whether the object is going to keep training data after the training process completed\n",
    "           verbose: output a lot of message\"\"\"\n",
    "        ### Add your code here ###\n",
    "        if keep_traindata: # save training data\n",
    "            self.x_train = deepcopy(x_train)\n",
    "            self.y_train = deepcopy(y_train)\n",
    "\n",
    "        def soft_threshold(a1, a2):\n",
    "            if a1 - a2 > 0:\n",
    "                return a1 - a2\n",
    "            elif a1 + a2 < 0:\n",
    "                return a1 + a2\n",
    "            else:\n",
    "                return 0\n",
    "        \n",
    "        \n",
    "        x_train = np.column_stack((np.ones(len(x_train)), x_train)) # add one column (x[:,0])\n",
    "        \n",
    "        # Initialize W: L2 regularization\n",
    "        '''W = ((X^T)X)+lambda*I)^(-1)(X^T)Y'''\n",
    "        if winit == \"ridge\":\n",
    "            identity = np.identity(x_train.shape[1])\n",
    "            X_T = np.transpose(x_train)\n",
    "            a = np.linalg.inv(np.dot(X_T, x_train) + self.lamcoef * identity)\n",
    "            b = np.dot(a, X_T)\n",
    "            W = np.dot(b, y_train)\n",
    "        else:\n",
    "            W = np.zeros(x_train.shape[1]) # row vector\n",
    "            # W[0] = np.sum(y_train - np.dot(x_train[:, 1:], W[1:])) / (x_train.shape[0])\n",
    "        \n",
    "        L = 0.0\n",
    "        min_L = 1e+20\n",
    "        min_W = deepcopy(W)\n",
    "        for t in range(self.max_iter): \n",
    "            lastL = L\n",
    "            for j in range(1, len(W)):\n",
    "                tmp_W = deepcopy(W)\n",
    "                tmp_W[j] = 0.0\n",
    "                r_j = y_train - np.dot(x_train, tmp_W) #residual\n",
    "                arg1 = np.dot(x_train[:, j], r_j) / (x_train[:, j]**2).sum()\n",
    "                arg2 = (self.lamcoef * (x_train.shape[0])) / (x_train[:, j]**2).sum()\n",
    "                W[j] = soft_threshold(arg1, arg2) # coordinate descent with soft thresholding\n",
    "                W[0] = np.sum(y_train - np.dot(x_train[:, 1:], W[1:])) / (x_train.shape[0])\n",
    "\n",
    "            L = 0.0\n",
    "            for i in range(x_train.shape[0]):\n",
    "                L += (y_train[i] - np.dot(x_train[i, 1:], W[1:]) - W[0])**2\n",
    "            L = L / (2 * x_train.shape[0]) \n",
    "            # L = (((y_train - np.dot(x_train[:, 1:], W[1:]) - W[0])**2).sum()) / (2 * x_train.shape[0]) \n",
    "            if self.const_regu: # L'\n",
    "                L += self.lamcoef * ((abs(W[1:]).sum()) + abs(W[0]))\n",
    "            else: # L\n",
    "                L += self.lamcoef * ((abs(W[1:]).sum()))\n",
    "\n",
    "            if L < min_L:\n",
    "                min_L = L\n",
    "                min_W = deepcopy(W)\n",
    "\n",
    "            if abs(L - lastL) < self.tol:\n",
    "                break\n",
    "\n",
    "        self.loss = min_L\n",
    "        self.intercept = min_W[0]\n",
    "        self.coef = min_W[1:]\n",
    "\n",
    "        return self\n",
    "\n",
    "        \n",
    "    def predict(self, x_test):\n",
    "        \"\"\"Make prediction using trained model\"\"\"\n",
    "        ### Add your code here ###\n",
    "        y_pred = np.dot(x_test, self.coef)\n",
    "        y_pred += self.intercept * np.ones(len(y_pred))\n",
    "        return y_pred"
   ]
  },
  {
   "cell_type": "markdown",
   "metadata": {},
   "source": [
    "### Q3.3"
   ]
  },
  {
   "cell_type": "code",
   "execution_count": 425,
   "metadata": {},
   "outputs": [],
   "source": [
    "x_train = X_train_sd\n",
    "y_train = Y_train\n",
    "x_test = X_test_sd\n",
    "y_test = Y_test"
   ]
  },
  {
   "cell_type": "code",
   "execution_count": 426,
   "metadata": {},
   "outputs": [],
   "source": [
    "mlo = mylasso(lamcoef = 0.1)\n",
    "mlo.fit(x_train, y_train)\n",
    "ypred = mlo.predict(x_test)"
   ]
  },
  {
   "cell_type": "code",
   "execution_count": 427,
   "metadata": {},
   "outputs": [
    {
     "name": "stdout",
     "output_type": "stream",
     "text": [
      "Traing loss: 49.88840410995357\n",
      "Training RMSE: 9.719499089084623\n",
      "Training MAE: 6.980898009625429\n",
      "Intercept: 1998.266\n",
      "Feature Weights:\n",
      "[ 4.6518551  -2.45673153 -1.06195885  0.         -0.34275054 -2.94854329\n",
      "  0.         -0.39970268 -0.42653866  0.         -0.23498651 -0.39491058\n",
      "  0.50307719  0.         -0.34207893  0.61674589  0.15722753  0.43489925\n",
      "  0.43595375  1.12941661  0.40663481  0.          1.77743607  0.\n",
      " -0.16842728  0.07833529  0.66391172  0.01297938  0.15350723  0.\n",
      " -0.21762074 -0.22189107  0.         -0.0027548  -0.01707674 -0.2599464\n",
      "  0.          0.28969362  0.34893387  0.         -0.26112569 -0.14488702\n",
      " -0.00995271  0.03497723 -0.03984338  0.          0.00299383 -0.17804306\n",
      "  0.          0.06494382  0.27076506  0.          0.          0.\n",
      "  0.          0.         -0.63813223  0.23761428 -0.19016387  0.\n",
      " -0.18875525  0.         -0.13590668  0.0612754  -0.26619017  0.\n",
      "  0.          0.         -0.03099184  0.         -0.19276517  0.01221358\n",
      "  0.20735199  0.25118247  0.12313494  0.          0.         -0.52945662\n",
      "  0.          0.          0.17859187  0.02408561  0.25291058  0.19360205\n",
      "  0.37064854  0.          0.         -0.29169753  0.          0.        ]\n",
      "number of nonzero weights: 59\n"
     ]
    }
   ],
   "source": [
    "# count training RMSE and MAE\n",
    "yhead = np.dot(x_train, np.transpose(mlo.coef)) + mlo.intercept\n",
    "train_square = np.square(np.subtract(y_train, yhead))\n",
    "train_MSE = train_square.mean()\n",
    "train_RMSE = np.sqrt(train_MSE)\n",
    "\n",
    "train_subtr = abs(np.subtract(y_train, yhead))\n",
    "train_MAE = train_subtr.mean()\n",
    "\n",
    "# count number of nonzero weights\n",
    "num = 0\n",
    "for i in mlo.coef:\n",
    "    if i != 0.0:\n",
    "        num += 1\n",
    "\n",
    "print(f'Traing loss: {mlo.loss}')\n",
    "print(f'Training RMSE: {train_RMSE}')\n",
    "print(f'Training MAE: {train_MAE}')\n",
    "print(f'Intercept: {mlo.intercept}')\n",
    "print(f'Feature Weights:\\n{mlo.coef}')\n",
    "print(f'number of nonzero weights: {num}')"
   ]
  },
  {
   "cell_type": "markdown",
   "metadata": {},
   "source": [
    "### Q3.4"
   ]
  },
  {
   "cell_type": "code",
   "execution_count": 428,
   "metadata": {},
   "outputs": [
    {
     "name": "stdout",
     "output_type": "stream",
     "text": [
      "Q3,4 | First 5 predictions:\n",
      "1991.9319114535242\n",
      "1999.07198636559\n",
      "2001.7629360219687\n",
      "1991.3031702908415\n",
      "1994.4265793347954\n"
     ]
    }
   ],
   "source": [
    "# first 5 predictions\n",
    "print(\"Q3,4 | First 5 predictions:\")\n",
    "for i in ypred[:5]:\n",
    "    print(i)"
   ]
  },
  {
   "cell_type": "code",
   "execution_count": 429,
   "metadata": {},
   "outputs": [
    {
     "name": "stdout",
     "output_type": "stream",
     "text": [
      "Test RMSE: 9.648414790970719\n",
      "Test MAE: 6.921385961496761\n"
     ]
    }
   ],
   "source": [
    "# count testing RMSE and MAE\n",
    "test_square = np.square(np.subtract(y_test, ypred))\n",
    "test_MSE = test_square.mean()\n",
    "test_RMSE = np.sqrt(test_MSE)\n",
    "\n",
    "test_subtr = abs(np.subtract(y_test, ypred))\n",
    "test_MAE = test_subtr.mean()\n",
    "\n",
    "print(f'Test RMSE: {test_RMSE}')\n",
    "print(f'Test MAE: {test_MAE}')"
   ]
  },
  {
   "cell_type": "markdown",
   "metadata": {},
   "source": [
    "### Q3.5"
   ]
  },
  {
   "cell_type": "code",
   "execution_count": 430,
   "metadata": {},
   "outputs": [],
   "source": [
    "lam_list = [0.0001, 0.0005, 0.001, 0.005, 0.01, 0.05, 0.1, 0.5, 1, 2]\n",
    "loss_list, nonzero_list, avgweight_list, trainRMSE_list,  testRMSE_list = [], [], [], [], []\n",
    "\n",
    "for l in lam_list:\n",
    "    # train and test model\n",
    "    mlo2 = mylasso(lamcoef = l)\n",
    "    mlo2.fit(x_train, y_train)\n",
    "    ypred2 = mlo2.predict(x_test)\n",
    "\n",
    "    loss_list.append(mlo2.loss)\n",
    "    # count number of nonzero weights\n",
    "    num2 = 0\n",
    "    for i in mlo2.coef:\n",
    "        if i != 0.0:\n",
    "            num2 += 1\n",
    "\n",
    "    nonzero_list.append(num2)\n",
    "    \n",
    "    avgw = abs(mlo2.coef).mean()\n",
    "    avgweight_list.append(avgw)\n",
    "\n",
    "    # count training RMSE\n",
    "    yhead2 = np.dot(x_train, np.transpose(mlo2.coef)) + mlo2.intercept\n",
    "    train_square = np.square(np.subtract(y_train, yhead2))\n",
    "    train_MSE = train_square.mean()\n",
    "    train_RMSE = np.sqrt(train_MSE)\n",
    "    trainRMSE_list.append(train_RMSE)\n",
    "\n",
    "    # count testing RMSE\n",
    "    test_square = np.square(np.subtract(y_test, ypred2))\n",
    "    test_MSE = test_square.mean()\n",
    "    test_RMSE = np.sqrt(test_MSE)\n",
    "    testRMSE_list.append(test_RMSE)"
   ]
  },
  {
   "cell_type": "code",
   "execution_count": 431,
   "metadata": {},
   "outputs": [
    {
     "name": "stdout",
     "output_type": "stream",
     "text": [
      "Training loss:\n",
      "[46.570460820946074, 46.58737881672582, 46.60846049996794, 46.774656529614944, 46.976825680404076, 48.417389889743816, 49.88840410995357, 56.37568820327452, 59.88932371917652, 61.492131277099055]\n"
     ]
    }
   ],
   "source": [
    "# Training loss\n",
    "print('Training loss:')\n",
    "print(loss_list)"
   ]
  },
  {
   "cell_type": "code",
   "execution_count": 432,
   "metadata": {},
   "outputs": [
    {
     "data": {
      "image/png": "[encoded data removed]",
      "text/plain": [
       "<Figure size 432x288 with 1 Axes>"
      ]
     },
     "metadata": {
      "needs_background": "light"
     },
     "output_type": "display_data"
    }
   ],
   "source": [
    "plt.plot(lam_list, loss_list, color='red')\n",
    "plt.xlabel('lambda') # title of x-axis\n",
    "plt.ylabel('Training loss') # tile of y-axis\n",
    "plt.show()"
   ]
  },
  {
   "cell_type": "code",
   "execution_count": 433,
   "metadata": {},
   "outputs": [
    {
     "name": "stdout",
     "output_type": "stream",
     "text": [
      "Number of nonzero weights:\n",
      "[90, 90, 90, 89, 87, 76, 59, 16, 4, 1]\n"
     ]
    }
   ],
   "source": [
    "# number of nonzero weights\n",
    "print('Number of nonzero weights:')\n",
    "print(nonzero_list)"
   ]
  },
  {
   "cell_type": "code",
   "execution_count": 434,
   "metadata": {},
   "outputs": [
    {
     "data": {
      "image/png": "[encoded data removed]",
      "text/plain": [
       "<Figure size 432x288 with 1 Axes>"
      ]
     },
     "metadata": {
      "needs_background": "light"
     },
     "output_type": "display_data"
    }
   ],
   "source": [
    "plt.plot(lam_list, nonzero_list, color='blue')\n",
    "plt.xlabel('lambda') # title of x-axis\n",
    "plt.ylabel('Number of nonzero weights') # tile of y-axis\n",
    "plt.show()"
   ]
  },
  {
   "cell_type": "code",
   "execution_count": 435,
   "metadata": {},
   "outputs": [
    {
     "name": "stdout",
     "output_type": "stream",
     "text": [
      "Average Weight Size (Mean of Absolute Weight):\n",
      "[0.47060619871421905, 0.4695070155670859, 0.46790556806954486, 0.45575371989789715, 0.44290332292655366, 0.363977110302075, 0.2948969820661327, 0.12003118917964041, 0.04217496765973302, 0.004265587910527306]\n"
     ]
    }
   ],
   "source": [
    "print('Average Weight Size (Mean of Absolute Weight):')\n",
    "print(avgweight_list)"
   ]
  },
  {
   "cell_type": "code",
   "execution_count": 436,
   "metadata": {},
   "outputs": [
    {
     "data": {
      "image/png": "[encoded data removed]",
      "text/plain": [
       "<Figure size 432x288 with 1 Axes>"
      ]
     },
     "metadata": {
      "needs_background": "light"
     },
     "output_type": "display_data"
    }
   ],
   "source": [
    "plt.plot(lam_list, avgweight_list, color='green')\n",
    "plt.xlabel('lambda') # title of x-axis\n",
    "plt.ylabel('Mean of Absolute Weight') # tile of y-axis\n",
    "plt.show()"
   ]
  },
  {
   "cell_type": "code",
   "execution_count": 437,
   "metadata": {},
   "outputs": [
    {
     "name": "stdout",
     "output_type": "stream",
     "text": [
      "Taining RMSE:\n",
      "[9.650515568109066, 9.65051822453337, 9.650528379196828, 9.650861863653516, 9.651757631620281, 9.67258940443401, 9.719499089084623, 10.096958422236945, 10.591843713896127, 11.02037435418636]\n",
      "\n",
      "Test RMSE:\n",
      "[9.644362816150892, 9.644091526385356, 9.643538551386593, 9.64006352759448, 9.636407817376979, 9.62643356884905, 9.648414790970719, 9.999130618162077, 10.474620633931151, 10.902614277773955]\n"
     ]
    }
   ],
   "source": [
    "# RMSE\n",
    "print('Taining RMSE:')\n",
    "print(trainRMSE_list)\n",
    "print('\\nTest RMSE:')\n",
    "print(testRMSE_list)"
   ]
  },
  {
   "cell_type": "code",
   "execution_count": 438,
   "metadata": {},
   "outputs": [
    {
     "data": {
      "image/png": "[encoded data removed]",
      "text/plain": [
       "<Figure size 432x288 with 1 Axes>"
      ]
     },
     "metadata": {
      "needs_background": "light"
     },
     "output_type": "display_data"
    }
   ],
   "source": [
    "plt.plot(lam_list, trainRMSE_list, color='red', label='Training RMSE')\n",
    "plt.plot(lam_list, testRMSE_list, color='blue', label='Test RMSE')\n",
    "plt.xlabel('lambda') # title of x-axis\n",
    "plt.ylabel('RMSE') # tile of y-axis\n",
    "plt.legend()\n",
    "plt.show()"
   ]
  },
  {
   "cell_type": "markdown",
   "metadata": {},
   "source": [
    "##### Observations\n",
    "1. Traing loss跟RMSE都會隨係數lambda遞增，而Number of Nonzero Weights、Average Weight Size (Mean of Absolute Weight)則會隨lambda遞減。\n",
    "2. Test RMSE不論lambda為何都比Trainng RMSE還要小，所以模型應該沒有出現overfitting的狀況。"
   ]
  }
 ],
 "metadata": {
  "kernelspec": {
   "display_name": "Python 3.9.12 ('base')",
   "language": "python",
   "name": "python3"
  },
  "language_info": {
   "codemirror_mode": {
    "name": "ipython",
    "version": 3
   },
   "file_extension": ".py",
   "mimetype": "text/x-python",
   "name": "python",
   "nbconvert_exporter": "python",
   "pygments_lexer": "ipython3",
   "version": "3.9.12"
  },
  "orig_nbformat": 4,
  "vscode": {
   "interpreter": {
    "hash": "5cfa4b7dcd7864583d72e5eda12e513f8c53c522d90114d3c5fb0ab3f428a316"
   }
  }
 },
 "nbformat": 4,
 "nbformat_minor": 2
}
