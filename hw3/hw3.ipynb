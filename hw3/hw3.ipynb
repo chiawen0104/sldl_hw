{
 "cells": [
  {
   "cell_type": "markdown",
   "metadata": {},
   "source": [
    "### 統計學習與深度學習\n",
    "### Homework 3\n",
    "\n",
    "\n",
    "請將IPYNB檔與IPYNB Export之HTML檔上傳至COOL作業區。回答作業時建議使用 \"三明治\" 答題法。也就是說，先說明要做什麼，然後列出程式碼與結果，最後說明這些結果的意義。作業自己做。嚴禁抄襲。不接受紙本繳交，不接受遲交。請以英文或中文作答。\n"
   ]
  },
  {
   "cell_type": "markdown",
   "metadata": {},
   "source": [
    "### 第一題 [分類器、特徵建構、與Stacking]\n",
    "\n",
    "(50%) 建構分類器時常會透過特徵選擇與Ensemble增強預測能力。本題的目的是讓大家練習這些技巧。本題使用一個中文姓名分類的資料集。這個資料集收集了10730個中文名(不含姓)，以及這些名子對應到的性別。本資料集的資料檔是**namesex_data_v2.csv**，共有三個欄位，gname, sex, fold:\n",
    "* gname: 不含姓的中文名。\n",
    "* sex: 1為男性，0為女性。\n",
    "* fold: 為0 - 9的整數，做為後續切割資料集使用。\n",
    "\n",
    "我們先將這個資料集讀入Numpy Array，並列印前十筆資料。"
   ]
  },
  {
   "cell_type": "code",
   "execution_count": 1,
   "metadata": {},
   "outputs": [
    {
     "name": "stdout",
     "output_type": "stream",
     "text": [
      "{'gname': '承憲', 'sex': '1', 'fold': '9'}\n",
      "{'gname': '均平', 'sex': '1', 'fold': '7'}\n",
      "{'gname': '思安', 'sex': '0', 'fold': '6'}\n",
      "{'gname': '佑誠', 'sex': '1', 'fold': '3'}\n",
      "{'gname': '乃馨', 'sex': '0', 'fold': '0'}\n",
      "{'gname': '婕', 'sex': '0', 'fold': '0'}\n",
      "{'gname': '冠瑜', 'sex': '0', 'fold': '1'}\n",
      "{'gname': '冠學', 'sex': '1', 'fold': '0'}\n",
      "{'gname': '立翰', 'sex': '1', 'fold': '2'}\n",
      "{'gname': '以柔', 'sex': '0', 'fold': '6'}\n"
     ]
    }
   ],
   "source": [
    "%matplotlib inline\n",
    "import matplotlib.pyplot as plt\n",
    "import csv\n",
    "import numpy as np\n",
    "\n",
    "f = open('ds/namesex_data_v2.csv', 'r', encoding='utf8')\n",
    "mydata = csv.DictReader(f)\n",
    "sexlist = []\n",
    "namelist = []\n",
    "foldlist = []\n",
    "for i, arow in enumerate(mydata):\n",
    "    if i < 10:\n",
    "        print(arow)\n",
    "    sexlist.append(int(arow['sex'].strip()))\n",
    "    gname = arow['gname'].strip()\n",
    "    namelist.append(gname)\n",
    "    foldlist.append(int(arow['fold'].strip()))\n",
    "\n",
    "sexlist = np.asarray(sexlist)\n",
    "namelist = np.asarray(namelist)\n",
    "foldlist = np.asarray(foldlist)\n",
    "f.close()"
   ]
  },
  {
   "cell_type": "markdown",
   "metadata": {},
   "source": [
    "接下來看一些統計數字:"
   ]
  },
  {
   "cell_type": "code",
   "execution_count": 2,
   "metadata": {},
   "outputs": [
    {
     "name": "stdout",
     "output_type": "stream",
     "text": [
      "資料筆數 =  10730\n"
     ]
    }
   ],
   "source": [
    "nobs = namelist.shape[0]\n",
    "print(\"資料筆數 = \", nobs)"
   ]
  },
  {
   "cell_type": "code",
   "execution_count": 3,
   "metadata": {},
   "outputs": [
    {
     "name": "stdout",
     "output_type": "stream",
     "text": [
      "男性比率 0.47940354147250697\n"
     ]
    }
   ],
   "source": [
    "avg_sex = np.mean(sexlist)\n",
    "print(\"男性比率\", avg_sex)"
   ]
  },
  {
   "cell_type": "markdown",
   "metadata": {},
   "source": [
    "這個資料集的男女比率還算是平均，男性佔了47.94%。\n",
    "\n",
    "我們用了比較迂迴的方式讀檔案，Pandas其實可以直接讀csv檔。接下來做一些基本的資料分析。我們關心幾件事:\n",
    "* 最常見的名子\n",
    "* 共有多少個不重複的名子\n",
    "* 有多少難判斷男女的名子\n",
    "\n",
    "要回答這些問題，首先對名子加總，計算數量與男性比率，排序之後列出前20個名子:"
   ]
  },
  {
   "cell_type": "code",
   "execution_count": 4,
   "metadata": {},
   "outputs": [
    {
     "name": "stdout",
     "output_type": "stream",
     "text": [
      "最常見的20個名子:\n"
     ]
    },
    {
     "data": {
      "text/html": [
       "<div>\n",
       "<style scoped>\n",
       "    .dataframe tbody tr th:only-of-type {\n",
       "        vertical-align: middle;\n",
       "    }\n",
       "\n",
       "    .dataframe tbody tr th {\n",
       "        vertical-align: top;\n",
       "    }\n",
       "\n",
       "    .dataframe thead th {\n",
       "        text-align: right;\n",
       "    }\n",
       "</style>\n",
       "<table border=\"1\" class=\"dataframe\">\n",
       "  <thead>\n",
       "    <tr style=\"text-align: right;\">\n",
       "      <th></th>\n",
       "      <th>name-</th>\n",
       "      <th>sex-mean</th>\n",
       "      <th>sex-count</th>\n",
       "    </tr>\n",
       "  </thead>\n",
       "  <tbody>\n",
       "    <tr>\n",
       "      <th>3738</th>\n",
       "      <td>承恩</td>\n",
       "      <td>1.000000</td>\n",
       "      <td>20</td>\n",
       "    </tr>\n",
       "    <tr>\n",
       "      <th>918</th>\n",
       "      <td>冠廷</td>\n",
       "      <td>1.000000</td>\n",
       "      <td>20</td>\n",
       "    </tr>\n",
       "    <tr>\n",
       "      <th>2506</th>\n",
       "      <td>宜蓁</td>\n",
       "      <td>0.000000</td>\n",
       "      <td>18</td>\n",
       "    </tr>\n",
       "    <tr>\n",
       "      <th>545</th>\n",
       "      <td>佳穎</td>\n",
       "      <td>0.000000</td>\n",
       "      <td>16</td>\n",
       "    </tr>\n",
       "    <tr>\n",
       "      <th>3196</th>\n",
       "      <td>彥廷</td>\n",
       "      <td>0.923077</td>\n",
       "      <td>13</td>\n",
       "    </tr>\n",
       "    <tr>\n",
       "      <th>913</th>\n",
       "      <td>冠宇</td>\n",
       "      <td>1.000000</td>\n",
       "      <td>13</td>\n",
       "    </tr>\n",
       "    <tr>\n",
       "      <th>3390</th>\n",
       "      <td>思妤</td>\n",
       "      <td>0.000000</td>\n",
       "      <td>13</td>\n",
       "    </tr>\n",
       "    <tr>\n",
       "      <th>1019</th>\n",
       "      <td>凱翔</td>\n",
       "      <td>1.000000</td>\n",
       "      <td>13</td>\n",
       "    </tr>\n",
       "    <tr>\n",
       "      <th>3769</th>\n",
       "      <td>承翰</td>\n",
       "      <td>1.000000</td>\n",
       "      <td>13</td>\n",
       "    </tr>\n",
       "    <tr>\n",
       "      <th>3477</th>\n",
       "      <td>怡萱</td>\n",
       "      <td>0.000000</td>\n",
       "      <td>13</td>\n",
       "    </tr>\n",
       "    <tr>\n",
       "      <th>497</th>\n",
       "      <td>佳妤</td>\n",
       "      <td>0.000000</td>\n",
       "      <td>12</td>\n",
       "    </tr>\n",
       "    <tr>\n",
       "      <th>4683</th>\n",
       "      <td>柏翰</td>\n",
       "      <td>1.000000</td>\n",
       "      <td>12</td>\n",
       "    </tr>\n",
       "    <tr>\n",
       "      <th>2114</th>\n",
       "      <td>子瑜</td>\n",
       "      <td>0.090909</td>\n",
       "      <td>11</td>\n",
       "    </tr>\n",
       "    <tr>\n",
       "      <th>4907</th>\n",
       "      <td>欣妤</td>\n",
       "      <td>0.000000</td>\n",
       "      <td>11</td>\n",
       "    </tr>\n",
       "    <tr>\n",
       "      <th>1351</th>\n",
       "      <td>品妤</td>\n",
       "      <td>0.000000</td>\n",
       "      <td>10</td>\n",
       "    </tr>\n",
       "    <tr>\n",
       "      <th>7889</th>\n",
       "      <td>鈺婷</td>\n",
       "      <td>0.000000</td>\n",
       "      <td>10</td>\n",
       "    </tr>\n",
       "    <tr>\n",
       "      <th>2499</th>\n",
       "      <td>宜臻</td>\n",
       "      <td>0.000000</td>\n",
       "      <td>9</td>\n",
       "    </tr>\n",
       "    <tr>\n",
       "      <th>1441</th>\n",
       "      <td>哲瑋</td>\n",
       "      <td>1.000000</td>\n",
       "      <td>9</td>\n",
       "    </tr>\n",
       "    <tr>\n",
       "      <th>7024</th>\n",
       "      <td>芳瑜</td>\n",
       "      <td>0.000000</td>\n",
       "      <td>9</td>\n",
       "    </tr>\n",
       "    <tr>\n",
       "      <th>2140</th>\n",
       "      <td>子芸</td>\n",
       "      <td>0.000000</td>\n",
       "      <td>9</td>\n",
       "    </tr>\n",
       "  </tbody>\n",
       "</table>\n",
       "</div>"
      ],
      "text/plain": [
       "     name-  sex-mean  sex-count\n",
       "3738    承恩  1.000000         20\n",
       "918     冠廷  1.000000         20\n",
       "2506    宜蓁  0.000000         18\n",
       "545     佳穎  0.000000         16\n",
       "3196    彥廷  0.923077         13\n",
       "913     冠宇  1.000000         13\n",
       "3390    思妤  0.000000         13\n",
       "1019    凱翔  1.000000         13\n",
       "3769    承翰  1.000000         13\n",
       "3477    怡萱  0.000000         13\n",
       "497     佳妤  0.000000         12\n",
       "4683    柏翰  1.000000         12\n",
       "2114    子瑜  0.090909         11\n",
       "4907    欣妤  0.000000         11\n",
       "1351    品妤  0.000000         10\n",
       "7889    鈺婷  0.000000         10\n",
       "2499    宜臻  0.000000          9\n",
       "1441    哲瑋  1.000000          9\n",
       "7024    芳瑜  0.000000          9\n",
       "2140    子芸  0.000000          9"
      ]
     },
     "execution_count": 4,
     "metadata": {},
     "output_type": "execute_result"
    }
   ],
   "source": [
    "import pandas as pd\n",
    "name_df = pd.DataFrame({'sex': sexlist, 'name': namelist, 'fold': foldlist})\n",
    "sex_tend = name_df[['name', 'sex']].groupby([\"name\"]).agg(['mean', 'count']).reset_index()\n",
    "sex_tend.columns = ['-'.join(col).strip() for col in sex_tend.columns.values]\n",
    "sex_tend = sex_tend.sort_values(['sex-count'], ascending=False)\n",
    "\n",
    "print(\"最常見的20個名子:\")\n",
    "sex_tend.head(20)"
   ]
  },
  {
   "cell_type": "markdown",
   "metadata": {},
   "source": [
    "由上面的列表看來，最常見的男性名子是承恩與冠廷，最常見的女性名子是宜蓁與佳穎。而這些常見的名子男性比率都非常接近0或1，表示這些名子沒有性別混淆的問題。\n",
    "\n",
    "另外一個問題是有多少名子只出現一次:"
   ]
  },
  {
   "cell_type": "code",
   "execution_count": 5,
   "metadata": {},
   "outputs": [
    {
     "name": "stdout",
     "output_type": "stream",
     "text": [
      "出現一次名子個數:  7067 比率: 0.6586206896551724\n"
     ]
    }
   ],
   "source": [
    "single_name = np.sum(sex_tend['sex-count'] <= 1)\n",
    "print(\"出現一次名子個數: \", single_name, \"比率:\", single_name / nobs)"
   ]
  },
  {
   "cell_type": "markdown",
   "metadata": {},
   "source": [
    "由結果看來，名子在資料集中只出現一次的比率很高，有65%。也就是說，如果單純的使用訓練資料中出現的名子做為特徵，模型應該會有很差的預測能力。\n",
    "\n",
    "#### <font color=#800000>為了處理這個問題，我們在接下來的任務中，會使用\"Unigram + Full Name\"的特徵表示，比如說，\"芳瑜\"的特徵表示為\"芳\"、\"瑜\"，以及原始的名子\"芳瑜\"。</font>\n",
    "\n",
    "最後我們來看看性別混淆的名子:"
   ]
  },
  {
   "cell_type": "code",
   "execution_count": 6,
   "metadata": {},
   "outputs": [
    {
     "name": "stdout",
     "output_type": "stream",
     "text": [
      "難區分性別姓名數量:  136 比率: 0.012674743709226468\n"
     ]
    }
   ],
   "source": [
    "ind1 = (sex_tend['sex-mean'] > 0.4) & (sex_tend['sex-mean'] < 0.6)\n",
    "sex_amb = sex_tend[ind1]\n",
    "amb_count = sex_amb['sex-count'].sum()\n",
    "print(\"難區分性別姓名數量: \", amb_count, \"比率:\", amb_count/ nobs)"
   ]
  },
  {
   "cell_type": "markdown",
   "metadata": {},
   "source": [
    "難以區分性別的名子總數並不高，所占總體資料的比率也很低，只有1.26%，因此不用擔心這個因素會影響預測準確率。\n",
    "\n",
    "下面來看看幾個容易混淆性別的名子:"
   ]
  },
  {
   "cell_type": "code",
   "execution_count": 7,
   "metadata": {},
   "outputs": [
    {
     "data": {
      "text/html": [
       "<div>\n",
       "<style scoped>\n",
       "    .dataframe tbody tr th:only-of-type {\n",
       "        vertical-align: middle;\n",
       "    }\n",
       "\n",
       "    .dataframe tbody tr th {\n",
       "        vertical-align: top;\n",
       "    }\n",
       "\n",
       "    .dataframe thead th {\n",
       "        text-align: right;\n",
       "    }\n",
       "</style>\n",
       "<table border=\"1\" class=\"dataframe\">\n",
       "  <thead>\n",
       "    <tr style=\"text-align: right;\">\n",
       "      <th></th>\n",
       "      <th>name-</th>\n",
       "      <th>sex-mean</th>\n",
       "      <th>sex-count</th>\n",
       "    </tr>\n",
       "  </thead>\n",
       "  <tbody>\n",
       "    <tr>\n",
       "      <th>6777</th>\n",
       "      <td>育瑋</td>\n",
       "      <td>0.5</td>\n",
       "      <td>4</td>\n",
       "    </tr>\n",
       "    <tr>\n",
       "      <th>338</th>\n",
       "      <td>以恩</td>\n",
       "      <td>0.5</td>\n",
       "      <td>4</td>\n",
       "    </tr>\n",
       "    <tr>\n",
       "      <th>7783</th>\n",
       "      <td>郁軒</td>\n",
       "      <td>0.5</td>\n",
       "      <td>4</td>\n",
       "    </tr>\n",
       "    <tr>\n",
       "      <th>2513</th>\n",
       "      <td>宜謙</td>\n",
       "      <td>0.5</td>\n",
       "      <td>4</td>\n",
       "    </tr>\n",
       "    <tr>\n",
       "      <th>5920</th>\n",
       "      <td>祐嘉</td>\n",
       "      <td>0.5</td>\n",
       "      <td>4</td>\n",
       "    </tr>\n",
       "  </tbody>\n",
       "</table>\n",
       "</div>"
      ],
      "text/plain": [
       "     name-  sex-mean  sex-count\n",
       "6777    育瑋       0.5          4\n",
       "338     以恩       0.5          4\n",
       "7783    郁軒       0.5          4\n",
       "2513    宜謙       0.5          4\n",
       "5920    祐嘉       0.5          4"
      ]
     },
     "execution_count": 7,
     "metadata": {},
     "output_type": "execute_result"
    }
   ],
   "source": [
    "sex_amb.head()"
   ]
  },
  {
   "cell_type": "markdown",
   "metadata": {},
   "source": [
    "#### 實做限制\n",
    "為了確保可以確實練習到重要技巧，禁用Pycaret (<https://pycaret.org/>) 這類可以自動化調教參數與Ensemble模型的工具。另外也禁止使用`sklearn.ensemble.Stacking.*`。你可以使用sklearn中Pre-processing工具函數與現成的分類器，但參數調教請自行處理。\n",
    "\n",
    "\n",
    "\n",
    "#### 回答下面問題\n",
    "#### Q1.1 (10%): \n",
    "使用One-hot Encoding建構資料變數。所有資料變數都要是Numpy Array。依照每筆資料其fold值切割為Training (fold <=6)、Validation (fold == 7)、Stacking (fold == 8)、Test (fold == 9)。每個資料集應有特徵Array(二維)以及Label Array(一維)。如前面提到的，每個名子應該要對應到全名以及單字的One-hot Encoding。比如說，\"芳瑜\"的特徵表示為\"芳\"、\"瑜\"，以及原始的名子\"芳瑜\"。建構特徵表示時應依照個特徵出現的頻率篩選。特徵在訓練資料出現兩次或以上才納入。如果一個特徵被排除，這個特徵出現時應被歸為\"\\_Other_Feature_\"。任何名子只要有出現未被納入的特徵，則其\"\\_Other_Feature_\"的欄位值為1。\n",
    "\n",
    "舉例而言，假設訓練資料集中有下面三個名子: 承恩、承德、恩賜。在經過特徵頻率篩選之後，只剩下以下特徵: 承、恩。其他特徵，如承恩、承德、恩賜、德、賜皆被排除。因此最後的特徵表示為:\n",
    "\n",
    "Input | 承 | 恩 | \\_Other_Feature_ |\n",
    "------|----|----|-----------------|\n",
    "承恩  | 1  | 1   |  1    |\n",
    "承德  | 1  | 0   |  1  |\n",
    "恩賜  | 0  | 1   |  1 |\n",
    "\n",
    "最後應產生以下Numpy Array:\n",
    "* x_train: Training Features\n",
    "* y_train: Training Labels\n",
    "* x_valid: Validation Features\n",
    "* y_valid: Validation Labels\n",
    "* x_stack: Stack Features\n",
    "* y_stack: Stack Labels\n",
    "* x_test: Test Features\n",
    "* y_test: Test Labels\n",
    "\n",
    "請列出每個Numpy Array的Shape以資查驗。"
   ]
  },
  {
   "cell_type": "code",
   "execution_count": 89,
   "metadata": {},
   "outputs": [],
   "source": [
    "x_train, y_train = [], []\n",
    "x_valid, y_valid = [], []\n",
    "x_stack, y_stack = [], []\n",
    "x_test, y_test = [], []\n",
    "\n",
    "for raw in range(len(list(foldlist))):\n",
    "    if foldlist[raw] <= 6:\n",
    "        x_train.append(list(namelist)[raw])\n",
    "        y_train.append(list(sexlist)[raw])\n",
    "    elif foldlist[raw] == 7:\n",
    "        x_valid.append(list(namelist)[raw])\n",
    "        y_valid.append(list(sexlist)[raw])\n",
    "    elif foldlist[raw] == 8:\n",
    "        x_stack.append(list(namelist)[raw])\n",
    "        y_stack.append(list(sexlist)[raw])\n",
    "    elif foldlist[raw] == 9:\n",
    "        x_test.append(list(namelist)[raw])\n",
    "        y_test.append(list(sexlist)[raw])"
   ]
  },
  {
   "cell_type": "code",
   "execution_count": 90,
   "metadata": {},
   "outputs": [],
   "source": [
    "# length of name is either 1 or 2\n",
    "for i in list(namelist):\n",
    "    if len(i) > 2:\n",
    "        print(i)"
   ]
  },
  {
   "cell_type": "code",
   "execution_count": 91,
   "metadata": {},
   "outputs": [],
   "source": [
    "# build column list\n",
    "d = {}\n",
    "for name in list(namelist):\n",
    "    if name not in d:\n",
    "        d[name] = 1\n",
    "    else:\n",
    "        d[name] += 1\n",
    "\n",
    "    if name[0] not in d:\n",
    "        d[name[0]] = 1\n",
    "    else:\n",
    "        d[name[0]] += 1\n",
    "\n",
    "    if len(name) == 2:\n",
    "        if name[1] not in d:\n",
    "            d[name[1]] = 1\n",
    "        else:\n",
    "            d[name[1]] += 1\n",
    "\n",
    "col_list = []\n",
    "for k,v in d.items():\n",
    "    if v >= 2:\n",
    "        col_list.append(k)"
   ]
  },
  {
   "cell_type": "code",
   "execution_count": 92,
   "metadata": {},
   "outputs": [],
   "source": [
    "x_train2 = x_train\n",
    "x_valid2 = x_valid\n",
    "x_stack2 = x_stack\n",
    "x_test2 = x_test\n",
    "\n",
    "for data in [x_train2, x_valid2, x_stack2, x_test2]:\n",
    "    xlist = []\n",
    "    for name in data:\n",
    "        raw = []\n",
    "        for col in col_list:\n",
    "            if len(col) == 1:\n",
    "                if len(name) == 2:\n",
    "                    if name[0] == col or name[1] == col: raw.append(1)\n",
    "                    else: raw.append(0)\n",
    "                else:\n",
    "                    if name[0] == col: raw.append(1)\n",
    "                    else: raw.append(0)\n",
    "            else: # len(col) == 2\n",
    "                if name == col: raw.append(1)\n",
    "                else: raw.append(0)\n",
    "        xlist.append(raw)\n",
    "\n",
    "    if data is x_train2:\n",
    "        x_train = np.array(xlist)\n",
    "    elif data is x_valid2:\n",
    "        x_valid = np.array(xlist)\n",
    "    elif data is x_stack2:\n",
    "        x_stack = np.array(xlist)\n",
    "    elif data is x_test2:\n",
    "        x_test = np.array(xlist)"
   ]
  },
  {
   "cell_type": "code",
   "execution_count": 106,
   "metadata": {},
   "outputs": [
    {
     "data": {
      "text/plain": [
       "2399"
      ]
     },
     "execution_count": 106,
     "metadata": {},
     "output_type": "execute_result"
    }
   ],
   "source": [
    "x_test.sum()"
   ]
  },
  {
   "cell_type": "code",
   "execution_count": 96,
   "metadata": {},
   "outputs": [],
   "source": [
    "y_train = np.array(y_train)\n",
    "y_valid = np.array(y_valid)\n",
    "y_stack = np.array(y_stack)\n",
    "y_test = np.array(y_test)"
   ]
  },
  {
   "cell_type": "code",
   "execution_count": 97,
   "metadata": {},
   "outputs": [
    {
     "name": "stdout",
     "output_type": "stream",
     "text": [
      "x_train.shape = (7483, 2247)\n",
      "y_train.shape = (7483,)\n",
      "x_valid.shape = (1110, 2247)\n",
      "y_valid.shape = (1110,)\n",
      "x_stack.shape = (1073, 2247)\n",
      "y_stack.shape = (1073,)\n",
      "x_test.shape = (1064, 2247)\n",
      "y_test.shape = (1064,)\n"
     ]
    }
   ],
   "source": [
    "# print shape of numpy array\n",
    "print(f'x_train.shape = {x_train.shape}')\n",
    "print(f'y_train.shape = {y_train.shape}')\n",
    "print(f'x_valid.shape = {x_valid.shape}')\n",
    "print(f'y_valid.shape = {y_valid.shape}')\n",
    "print(f'x_stack.shape = {x_stack.shape}')\n",
    "print(f'y_stack.shape = {y_stack.shape}')\n",
    "print(f'x_test.shape = {x_test.shape}')\n",
    "print(f'y_test.shape = {y_test.shape}')"
   ]
  },
  {
   "cell_type": "markdown",
   "metadata": {},
   "source": [
    "#### Q1.2 (10%):\n",
    "使用`sklearn.linear_model.LogisticRegression()`建構Logistic Regression分類模型。利用Training與Validation調教Regularization Coefficient $c$。Grid Search的小值為$10^{-4}$，最大值是$1,000$，總共取20個點，使用等比級數間隔。取F-1 Score最大之Regularization Coefficient，印出此數值(以下稱bestc)。將Training與Validation合併後，令Regularizaiton Coefficient為bestc，訓練最終模型，並報告Test Data的Accuracy, Precision, Recall, 與F-1 Score。另外列出係數絕對值最大的20個特徵。注意應列出未取絕對值的係數數值，方知特徵的性別傾向。討論Prediction Performance與重要特徵的合理性。\n"
   ]
  },
  {
   "cell_type": "code",
   "execution_count": 123,
   "metadata": {},
   "outputs": [],
   "source": [
    "# build list of grids\n",
    "# r^19 = 10^7 -> r ~= 2.33\n",
    "grid_list = []\n",
    "a = 0.0001\n",
    "\n",
    "for i in range(20):\n",
    "    grid_list.append(a)\n",
    "    a = a*2.33\n"
   ]
  },
  {
   "cell_type": "markdown",
   "metadata": {},
   "source": [
    "將Regularization Coefficient C 設為grid值，max_iter設為1000，其他模型參數為預設值"
   ]
  },
  {
   "cell_type": "code",
   "execution_count": 110,
   "metadata": {},
   "outputs": [],
   "source": [
    "from sklearn.linear_model import LogisticRegression\n",
    "from sklearn.metrics import f1_score\n",
    "\n",
    "f1_list = []\n",
    "# grid search\n",
    "for grid in grid_list:\n",
    "    lr = LogisticRegression(C=grid, max_iter=1000)\n",
    "    lr.fit(x_train, y_train)\n",
    "    y_pred = lr.predict(x_valid)\n",
    "    f1_list.append(f1_score(y_valid, y_pred))"
   ]
  },
  {
   "cell_type": "code",
   "execution_count": 115,
   "metadata": {},
   "outputs": [
    {
     "name": "stdout",
     "output_type": "stream",
     "text": [
      "max f1 score: 0.9046270066100094\n",
      "bestc: 0.47158416116442275\n"
     ]
    }
   ],
   "source": [
    "m = f1_list[0]\n",
    "max_id = 0\n",
    "for i in range(len(f1_list)):\n",
    "    if f1_list[i] > m:\n",
    "        m = f1_list[i]\n",
    "        max_id = i\n",
    "\n",
    "bestc = grid_list[max_id]\n",
    "print(f'max f1 score: {f1_list[max_id]}')\n",
    "print(f'bestc: {bestc}')"
   ]
  },
  {
   "cell_type": "code",
   "execution_count": 122,
   "metadata": {},
   "outputs": [
    {
     "name": "stdout",
     "output_type": "stream",
     "text": [
      "accuracy: 0.8787593984962406\n",
      "precision: 0.849609375\n",
      "recall: 0.893223819301848\n",
      "f1 score: 0.8708708708708708\n"
     ]
    }
   ],
   "source": [
    "from sklearn.metrics import accuracy_score, precision_score, recall_score, f1_score\n",
    "\n",
    "X_TRAIN = np.concatenate([x_train, x_valid], axis=0)\n",
    "Y_TRAIN = np.concatenate([y_train, y_valid])\n",
    "lr = LogisticRegression(C=bestc, max_iter=1000)\n",
    "lr.fit(X_TRAIN, Y_TRAIN)\n",
    "y_pred = lr.predict(x_test)\n",
    "\n",
    "print(f'accuracy: {accuracy_score(y_test, y_pred)}')\n",
    "print(f'precision: {precision_score(y_test, y_pred)}')\n",
    "print(f'recall: {recall_score(y_test, y_pred)}')\n",
    "print(f'f1 score: {f1_score(y_test, y_pred)}')\n"
   ]
  },
  {
   "cell_type": "code",
   "execution_count": 153,
   "metadata": {},
   "outputs": [
    {
     "name": "stdout",
     "output_type": "stream",
     "text": [
      "1. 妤: -3.1157841717601427\n",
      "2. 萱: -2.7228529423507917\n",
      "3. 婷: -2.699296239823123\n",
      "4. 翔: 2.5295658081504016\n",
      "5. 柔: -2.3479986450972126\n",
      "6. 蓁: -2.321022799787531\n",
      "7. 雅: -2.2366867637839105\n",
      "8. 慈: -2.2312179326314436\n",
      "9. 怡: -2.2078855672639537\n",
      "10. 晴: -2.2025153293817175\n",
      "11. 琳: -2.2007019827901764\n",
      "12. 蓉: -2.1933342461282703\n",
      "13. 涵: -2.1329838241049437\n",
      "14. 婕: -2.1213498602233827\n",
      "15. 潔: -2.1167633506579033\n",
      "16. 傑: 2.115977268709217\n",
      "17. 芸: -2.1005484790457105\n",
      "18. 翰: 2.0950994616725707\n",
      "19. 綺: -2.087273716889437\n",
      "20. 姿: -2.052977556015845\n"
     ]
    }
   ],
   "source": [
    "import itertools\n",
    "coef_dict = {}\n",
    "for i in range(len(list(lr.coef_[0]))):\n",
    "    coef_dict[i] = list(lr.coef_[0])[i]\n",
    "\n",
    "sort_coef = dict(sorted(coef_dict.items(), key=lambda item: abs(item[1]), reverse=True))\n",
    "sort_coef = dict(itertools.islice(sort_coef.items(), 20))\n",
    "\n",
    "rank = 1\n",
    "for k,v in sort_coef.items():\n",
    "    print(f'{rank}. {col_list[k]}: {v}')\n",
    "    rank += 1"
   ]
  },
  {
   "cell_type": "markdown",
   "metadata": {},
   "source": [
    "係數絕對值的係數為負代表性別傾向偏女，正數則代表較偏男性，而前20大中除了「翔、傑、翰」，其他多為較女性化的字。從前面模型的f1 score分析可得知預估準確率達八成以上，模型表現良好，係數絕對值前20的結果也十分符合直覺，大多是看起來就很偏女性化的字，而且都只有一個字，沒有兩個字的名字出現。"
   ]
  },
  {
   "cell_type": "markdown",
   "metadata": {},
   "source": [
    "#### Q1.3 (10%):\n",
    "使用`sklearn.ensemble.RandomForestClassifier()`建構Random Forest分類模型。利用Training與Validation調教Number of Tress (i.e., n_estimators)。Grid Search的小值為$5$，最大值是$1,000$，總共取10個點，使用等比級數間隔。取F-1 Score最大之n_estimators，印出此數值(best_nest)。將Training與Validation合併後，令n_estimators為best_nest，訓練最終模型，並報告Test Data的Accuracy, Precision, Recall, 與F-1 Score。另外列出最重要的20個特徵。討論Prediction Performance與重要特徵的合理性。"
   ]
  },
  {
   "cell_type": "code",
   "execution_count": 160,
   "metadata": {},
   "outputs": [
    {
     "data": {
      "text/plain": [
       "[5, 9, 16, 29, 52, 94, 170, 306, 550, 991]"
      ]
     },
     "execution_count": 160,
     "metadata": {},
     "output_type": "execute_result"
    }
   ],
   "source": [
    "# build list of grids\n",
    "# r^9 = 200 -> r ~= 2.33\n",
    "grid_list3 = []\n",
    "r = 5\n",
    "\n",
    "for i in range(10):\n",
    "    grid_list3.append(int(r))\n",
    "    r = r*1.8\n",
    "\n",
    "grid_list3"
   ]
  },
  {
   "cell_type": "code",
   "execution_count": 161,
   "metadata": {},
   "outputs": [],
   "source": [
    "from sklearn.ensemble import RandomForestClassifier\n",
    "from sklearn.metrics import f1_score\n",
    "\n",
    "f1_list3 = []\n",
    "# grid search\n",
    "for grid in grid_list3:\n",
    "    rf = RandomForestClassifier(n_estimators=grid)\n",
    "    rf.fit(x_train, y_train)\n",
    "    y_pred = rf.predict(x_valid)\n",
    "    f1_list3.append(f1_score(y_valid, y_pred))"
   ]
  },
  {
   "cell_type": "code",
   "execution_count": 164,
   "metadata": {},
   "outputs": [
    {
     "name": "stdout",
     "output_type": "stream",
     "text": [
      "max f1 score: 0.8692232055063913\n",
      "best_nest: 9\n"
     ]
    }
   ],
   "source": [
    "m = f1_list3[0]\n",
    "max_id = 0\n",
    "for i in range(len(f1_list3)):\n",
    "    if f1_list3[i] > m:\n",
    "        m = f1_list3[i]\n",
    "        max_id = i\n",
    "\n",
    "best_nest = grid_list3[max_id]\n",
    "print(f'max f1 score: {f1_list3[max_id]}')\n",
    "print(f'best_nest: {best_nest}')"
   ]
  },
  {
   "cell_type": "code",
   "execution_count": 165,
   "metadata": {},
   "outputs": [
    {
     "name": "stdout",
     "output_type": "stream",
     "text": [
      "accuracy: 0.8486842105263158\n",
      "precision: 0.8196078431372549\n",
      "recall: 0.8583162217659137\n",
      "f1 score: 0.8385155466399197\n"
     ]
    }
   ],
   "source": [
    "X_TRAIN = np.concatenate([x_train, x_valid], axis=0)\n",
    "Y_TRAIN = np.concatenate([y_train, y_valid])\n",
    "rf = RandomForestClassifier(n_estimators=best_nest)\n",
    "rf.fit(X_TRAIN, Y_TRAIN)\n",
    "y_pred = rf.predict(x_test)\n",
    "\n",
    "print(f'accuracy: {accuracy_score(y_test, y_pred)}')\n",
    "print(f'precision: {precision_score(y_test, y_pred)}')\n",
    "print(f'recall: {recall_score(y_test, y_pred)}')\n",
    "print(f'f1 score: {f1_score(y_test, y_pred)}')"
   ]
  },
  {
   "cell_type": "code",
   "execution_count": 171,
   "metadata": {},
   "outputs": [
    {
     "name": "stdout",
     "output_type": "stream",
     "text": [
      "1. 妤: 0.017757420647651078\n",
      "2. 萱: 0.014151885947401459\n",
      "3. 婷: 0.013816210158097968\n",
      "4. 翔: 0.013200941120929073\n",
      "5. 柏: 0.011705984396148833\n",
      "6. 怡: 0.010172565937524964\n",
      "7. 蓁: 0.009631971114019417\n",
      "8. 雅: 0.00947962022269435\n",
      "9. 哲: 0.009213187871711399\n",
      "10. 佳: 0.009063800031142643\n",
      "11. 芷: 0.008728143892411118\n",
      "12. 承: 0.008296077341813137\n",
      "13. 芸: 0.008272243177043427\n",
      "14. 宜: 0.008185902805737201\n",
      "15. 柔: 0.008013034747298566\n",
      "16. 晴: 0.007950410430051225\n",
      "17. 慈: 0.00784433200639297\n",
      "18. 瑄: 0.007654100110708111\n",
      "19. 庭: 0.007509421100963171\n",
      "20. 翰: 0.007289748816621627\n"
     ]
    }
   ],
   "source": [
    "coef_dict = {}\n",
    "for i in range(len(list(rf.feature_importances_))):\n",
    "    coef_dict[i] = list(rf.feature_importances_)[i]\n",
    "\n",
    "sort_coef = dict(sorted(coef_dict.items(), key=lambda item: abs(item[1]), reverse=True))\n",
    "sort_coef = dict(itertools.islice(sort_coef.items(), 20))\n",
    "\n",
    "rank = 1\n",
    "for k,v in sort_coef.items():\n",
    "    print(f'{rank}. {col_list[k]}: {v}')\n",
    "    rank += 1"
   ]
  },
  {
   "cell_type": "markdown",
   "metadata": {},
   "source": [
    "random forest分類器的feature_importances_能幫助我們了解每個特徵的重要性，撇除係數值，前四名的結果與Q1.2相同，前四名分別為「妤、萱、婷、翔」，而且大部分也是偏女性化的字上榜，但沒有正負號之分，所以無法看出對性別的影響方向。模型的f1 score大約為0.84，結合特徵重要性前20大來看，上榜的字都是直覺上容易判斷的性別的字，結果合理，模型表現良好。"
   ]
  },
  {
   "cell_type": "markdown",
   "metadata": {},
   "source": [
    "#### Q1.4 (10%):\n",
    "使用`sklearn.ensemble.GradientBoostingClassifier()`建構Gradient Boosting Decision Tree (GBDT)分類模型。利用Training與Validation調教learning_rate與n_estimators。考慮以下Learning Rate: 0.1, 0.5, 1。每一個Learning Rate設n_estimator為1,500並估計一個GBDT分類器，計算1,500個Stages下Validation F-1 Score值，繪圖，並找出讓F-1 Score最大的Stage與F-1 Score最大值。對所有Learning Rate重複同樣程序，找出最佳的Learning Rate (稱best_lr) 與其對應的Number of Stages(best_nstg)。將Training與Validation合併後，令learning_rate為best_lr, n_estimators為best_nstg，訓練最終模型，並報告Test Data的Accuracy, Precision, Recall, 與F-1 Score。另外列出最重要的20個特徵。討論Prediction Performance與重要特徵的合理性。"
   ]
  },
  {
   "cell_type": "code",
   "execution_count": 174,
   "metadata": {},
   "outputs": [
    {
     "data": {
      "text/plain": [
       "GradientBoostingClassifier(learning_rate=1, n_estimators=1500)"
      ]
     },
     "execution_count": 174,
     "metadata": {},
     "output_type": "execute_result"
    }
   ],
   "source": [
    "from sklearn.ensemble import GradientBoostingClassifier\n",
    "gb1 = GradientBoostingClassifier(learning_rate=0.1, n_estimators=1500)\n",
    "gb1.fit(x_train, y_train)\n",
    "\n",
    "gb2 = GradientBoostingClassifier(learning_rate=0.5, n_estimators=1500)\n",
    "gb2.fit(x_train, y_train)\n",
    "\n",
    "gb3 = GradientBoostingClassifier(learning_rate=1, n_estimators=1500)\n",
    "gb3.fit(x_train, y_train)"
   ]
  },
  {
   "cell_type": "markdown",
   "metadata": {},
   "source": [
    "Learning Rate = 0.1"
   ]
  },
  {
   "cell_type": "code",
   "execution_count": 182,
   "metadata": {},
   "outputs": [],
   "source": [
    "stage_list1 = []\n",
    "for pred in gb1.staged_predict(x_valid):\n",
    "    stage_list1.append(f1_score(y_valid, pred))"
   ]
  },
  {
   "cell_type": "code",
   "execution_count": 183,
   "metadata": {},
   "outputs": [
    {
     "data": {
      "image/png": "[encoded data removed]",
      "text/plain": [
       "<Figure size 432x288 with 1 Axes>"
      ]
     },
     "metadata": {
      "needs_background": "light"
     },
     "output_type": "display_data"
    }
   ],
   "source": [
    "# plot the curve \n",
    "import matplotlib.pyplot as plt\n",
    "plt.plot(stage_list1, color='red')\n",
    "plt.xlabel('Stage')\n",
    "plt.ylabel('F1 Score')\n",
    "plt.title('Learning Rate = 0.1')\n",
    "plt.show()"
   ]
  },
  {
   "cell_type": "code",
   "execution_count": 189,
   "metadata": {},
   "outputs": [
    {
     "name": "stdout",
     "output_type": "stream",
     "text": [
      "stage 1121: f1 score = 0.9050279329608938\n"
     ]
    }
   ],
   "source": [
    "mx = stage_list1[0]\n",
    "mx_id = 0\n",
    "\n",
    "for i in range(len(stage_list1)):\n",
    "    if stage_list1[i] > mx:\n",
    "        mx = stage_list1[i]\n",
    "        mx_id = i\n",
    "\n",
    "print(f'stage {mx_id+1}: f1 score = {stage_list1[mx_id]}')"
   ]
  },
  {
   "cell_type": "markdown",
   "metadata": {},
   "source": [
    "Learning Rate = 0.5"
   ]
  },
  {
   "cell_type": "code",
   "execution_count": 186,
   "metadata": {},
   "outputs": [],
   "source": [
    "stage_list2 = []\n",
    "for pred in gb2.staged_predict(x_valid):\n",
    "    stage_list2.append(f1_score(y_valid, pred))"
   ]
  },
  {
   "cell_type": "code",
   "execution_count": 187,
   "metadata": {},
   "outputs": [
    {
     "data": {
      "image/png": "[encoded data removed]",
      "text/plain": [
       "<Figure size 432x288 with 1 Axes>"
      ]
     },
     "metadata": {
      "needs_background": "light"
     },
     "output_type": "display_data"
    }
   ],
   "source": [
    "plt.plot(stage_list2, color='green')\n",
    "plt.xlabel('Stage')\n",
    "plt.ylabel('F1 Score')\n",
    "plt.title('Learning Rate = 0.5')\n",
    "plt.show()"
   ]
  },
  {
   "cell_type": "code",
   "execution_count": 190,
   "metadata": {},
   "outputs": [
    {
     "name": "stdout",
     "output_type": "stream",
     "text": [
      "stage 241: f1 score = 0.8980355472404116\n"
     ]
    }
   ],
   "source": [
    "mx = stage_list2[0]\n",
    "mx_id = 0\n",
    "\n",
    "for i in range(len(stage_list2)):\n",
    "    if stage_list2[i] > mx:\n",
    "        mx = stage_list2[i]\n",
    "        mx_id = i\n",
    "\n",
    "print(f'stage {mx_id+1}: f1 score = {stage_list2[mx_id]}')"
   ]
  },
  {
   "cell_type": "markdown",
   "metadata": {},
   "source": [
    "Learning Rate = 1"
   ]
  },
  {
   "cell_type": "code",
   "execution_count": 191,
   "metadata": {},
   "outputs": [],
   "source": [
    "stage_list3 = []\n",
    "for pred in gb3.staged_predict(x_valid):\n",
    "    stage_list3.append(f1_score(y_valid, pred))"
   ]
  },
  {
   "cell_type": "code",
   "execution_count": 192,
   "metadata": {},
   "outputs": [
    {
     "data": {
      "image/png": "[encoded data removed]",
      "text/plain": [
       "<Figure size 432x288 with 1 Axes>"
      ]
     },
     "metadata": {
      "needs_background": "light"
     },
     "output_type": "display_data"
    }
   ],
   "source": [
    "plt.plot(stage_list3, color='blue')\n",
    "plt.xlabel('Stage')\n",
    "plt.ylabel('F1 Score')\n",
    "plt.title('Learning Rate = 1')\n",
    "plt.show()"
   ]
  },
  {
   "cell_type": "code",
   "execution_count": 193,
   "metadata": {},
   "outputs": [
    {
     "name": "stdout",
     "output_type": "stream",
     "text": [
      "stage 137: f1 score = 0.8936567164179106\n"
     ]
    }
   ],
   "source": [
    "mx = stage_list3[0]\n",
    "mx_id = 0\n",
    "\n",
    "for i in range(len(stage_list3)):\n",
    "    if stage_list3[i] > mx:\n",
    "        mx = stage_list3[i]\n",
    "        mx_id = i\n",
    "\n",
    "print(f'stage {mx_id+1}: f1 score = {stage_list3[mx_id]}')"
   ]
  },
  {
   "cell_type": "code",
   "execution_count": 194,
   "metadata": {},
   "outputs": [
    {
     "name": "stdout",
     "output_type": "stream",
     "text": [
      "best_lr: 0.1, best_nstg: 1121\n"
     ]
    }
   ],
   "source": [
    "best_lr = 0.1\n",
    "best_nstg = 1121\n",
    "print(f'best_lr: {best_lr}, best_nstg: {best_nstg}')"
   ]
  },
  {
   "cell_type": "markdown",
   "metadata": {},
   "source": [
    "Train the final model"
   ]
  },
  {
   "cell_type": "code",
   "execution_count": 196,
   "metadata": {},
   "outputs": [
    {
     "name": "stdout",
     "output_type": "stream",
     "text": [
      "accuracy: 0.868421052631579\n",
      "precision: 0.8292220113851992\n",
      "recall: 0.8973305954825462\n",
      "f1 score: 0.8619329388560159\n"
     ]
    }
   ],
   "source": [
    "X_TRAIN = np.concatenate([x_train, x_valid], axis=0)\n",
    "Y_TRAIN = np.concatenate([y_train, y_valid])\n",
    "gbf = GradientBoostingClassifier(learning_rate=best_lr, n_estimators=best_nstg)\n",
    "gbf.fit(X_TRAIN, Y_TRAIN)\n",
    "y_pred = gbf.predict(x_test)\n",
    "\n",
    "print(f'accuracy: {accuracy_score(y_test, y_pred)}')\n",
    "print(f'precision: {precision_score(y_test, y_pred)}')\n",
    "print(f'recall: {recall_score(y_test, y_pred)}')\n",
    "print(f'f1 score: {f1_score(y_test, y_pred)}')"
   ]
  },
  {
   "cell_type": "code",
   "execution_count": 197,
   "metadata": {},
   "outputs": [
    {
     "name": "stdout",
     "output_type": "stream",
     "text": [
      "1. 妤: 0.02953220107033341\n",
      "2. 翔: 0.02262987904153678\n",
      "3. 萱: 0.019999867104929868\n",
      "4. 柏: 0.01950225870002072\n",
      "5. 婷: 0.01873040664238213\n",
      "6. 怡: 0.012769500909635035\n",
      "7. 哲: 0.012642153767291138\n",
      "8. 承: 0.01260211544517303\n",
      "9. 蓁: 0.012496603698711129\n",
      "10. 雅: 0.011837292079748813\n",
      "11. 晴: 0.011631832691963844\n",
      "12. 佳: 0.011575668696489566\n",
      "13. 柔: 0.01123981587556196\n",
      "14. 宜: 0.011192810710850778\n",
      "15. 涵: 0.010969407324246868\n",
      "16. 芸: 0.010946416222523745\n",
      "17. 芷: 0.010532987237164797\n",
      "18. 瑄: 0.010440840945165803\n",
      "19. 庭: 0.009997180322551492\n",
      "20. 慈: 0.009880646377003985\n"
     ]
    }
   ],
   "source": [
    "coef_dict = {}\n",
    "for i in range(len(list(gbf.feature_importances_))):\n",
    "    coef_dict[i] = list(gbf.feature_importances_)[i]\n",
    "\n",
    "sort_coef = dict(sorted(coef_dict.items(), key=lambda item: abs(item[1]), reverse=True))\n",
    "sort_coef = dict(itertools.islice(sort_coef.items(), 20))\n",
    "\n",
    "rank = 1\n",
    "for k,v in sort_coef.items():\n",
    "    print(f'{rank}. {col_list[k]}: {v}')\n",
    "    rank += 1"
   ]
  },
  {
   "cell_type": "markdown",
   "metadata": {},
   "source": [
    "與Q1.3相同，feature_importances_沒有正負號，無法看出特徵項對不同性別的影響程度，但我們一樣可從前20重要的特徵看到大部分都是偏女性化的字，而Q1.2和Q1.3一樣的前四名與Q1.4的不完全相同，前者為「妤、萱、婷、翔」，本小題的前四名則是「妤、翔、萱、柏」，「妤」一樣是第一名，「萱」跟「翔」同樣在前四名。本次模型f1 score為0.86，特徵係數前20大也同樣能夠很直覺地看出性別傾向，整體來說模型表現不錯，結果也很合理。"
   ]
  },
  {
   "cell_type": "markdown",
   "metadata": {},
   "source": [
    "#### Q1.5 (10%):\n",
    "取用前面所建構的Logistic Regression, Random Forest, 與Gradient Boosting Decision Tree, 組合(Stacking)成一個新的分類器。我們使用Logistic Regression without Penalty建構這個Stacking分類器。訓練資料為Stacking資料集。各分類器輸入的特徵為男生預測機率(注意: 不是分類結果)。列出Stacking分類器的係數，討論係數的意義，並計算這個Stacking分類器在Test資料集的預測能力。"
   ]
  },
  {
   "cell_type": "markdown",
   "metadata": {},
   "source": [
    "------\n",
    "### Solution\n",
    "1. 使用x_stack各自訓練三個base model，然後再用x_stack產生預測的機率值當做新的訓練資料。\n",
    "2. 使用新的訓練資料訓練meta model，接著將x_test分別為入訓練好的三個base model，得到新的測試資料集\n",
    "3. 預測新的測試資料集\n",
    "------\n",
    "請自行增加Cell並回答問題。"
   ]
  },
  {
   "cell_type": "markdown",
   "metadata": {},
   "source": [
    "reference: https://www.yanxishe.com/blogDetail/15467"
   ]
  },
  {
   "cell_type": "code",
   "execution_count": 275,
   "metadata": {},
   "outputs": [],
   "source": [
    "# Use stacking data to train 3 models (level 1)\n",
    "lr_stack = LogisticRegression(C=bestc, max_iter=1000)\n",
    "lr_stack.fit(x_stack, y_stack)\n",
    "lr_ypred_stack = lr_stack.predict_proba(x_stack)\n",
    "lr_ypred_test = lr_stack.predict_proba(x_test)\n",
    "\n",
    "rf_stack = RandomForestClassifier(n_estimators=best_nest)\n",
    "rf_stack.fit(x_stack, y_stack)\n",
    "rf_ypred_stack = rf_stack.predict_proba(x_stack)\n",
    "rf_ypred_test = rf_stack.predict_proba(x_test)\n",
    "\n",
    "gb_stack = GradientBoostingClassifier(learning_rate=best_lr, n_estimators=best_nstg)\n",
    "gb_stack.fit(x_stack, y_stack)\n",
    "gb_ypred_stack = gb_stack.predict_proba(x_stack)\n",
    "gb_ypred_test = gb_stack.predict_proba(x_test)"
   ]
  },
  {
   "cell_type": "code",
   "execution_count": 276,
   "metadata": {},
   "outputs": [
    {
     "data": {
      "text/plain": [
       "(1064, 3)"
      ]
     },
     "execution_count": 276,
     "metadata": {},
     "output_type": "execute_result"
    }
   ],
   "source": [
    "# generate training and test data for meta model\n",
    "x_meta_train = np.concatenate([lr_ypred_stack[:,1].reshape(x_stack.shape[0],1), rf_ypred_stack[:,1].reshape(x_stack.shape[0],1)], axis=1)\n",
    "x_meta_train = np.concatenate([x_meta_train, gb_ypred_stack[:,1].reshape(x_stack.shape[0],1)], axis=1)\n",
    "x_meta_test = np.concatenate([lr_ypred_test[:,1].reshape(x_test.shape[0],1), rf_ypred_test[:,1].reshape(x_test.shape[0],1)], axis=1)\n",
    "x_meta_test = np.concatenate([x_meta_test, gb_ypred_test[:,1].reshape(x_test.shape[0],1)], axis=1)\n",
    "x_meta_test.shape"
   ]
  },
  {
   "cell_type": "code",
   "execution_count": 277,
   "metadata": {},
   "outputs": [],
   "source": [
    "# train logistic regression without penalty (level 2)\n",
    "lr_meta = LogisticRegression(max_iter=1000, penalty='none')\n",
    "lr_meta.fit(x_meta_train, y_stack)\n",
    "meta_pred = lr_meta.predict(x_meta_test)"
   ]
  },
  {
   "cell_type": "code",
   "execution_count": 278,
   "metadata": {},
   "outputs": [
    {
     "name": "stdout",
     "output_type": "stream",
     "text": [
      "coef: [[-28.86367143  10.03542523  30.86275295]]\n",
      "accuracy: 0.8204887218045113\n",
      "precision: 0.8083333333333333\n",
      "recall: 0.7967145790554415\n",
      "f1 score: 0.8024819027921407\n"
     ]
    }
   ],
   "source": [
    "print(f'coef: {lr_meta.coef_}')\n",
    "print(f'accuracy: {accuracy_score(y_test, meta_pred)}')\n",
    "print(f'precision: {precision_score(y_test, meta_pred)}')\n",
    "print(f'recall: {recall_score(y_test, meta_pred)}')\n",
    "print(f'f1 score: {f1_score(y_test, meta_pred)}')"
   ]
  },
  {
   "cell_type": "markdown",
   "metadata": {},
   "source": [
    "最後stacking分類器的係數分別代表三種base model對預測結果的影響程度，第三個模型（Gradient Boosting Decision Tree）影響程度最大，而且會使預測結果偏向男性。"
   ]
  },
  {
   "cell_type": "markdown",
   "metadata": {},
   "source": [
    "## 第二題 [Data Visualization via Dimensionality Reduction]\n",
    "\n",
    "Data visualization is a useful technique that can help us understand the characteristics of a dataset. We are going to practice this skill using the  University Offer of Admission Dataset (UDOAD).  \n",
    "\n",
    "#### Dataset: University Department Offer of Admission Dataset (UDOAD; 大學推薦甄選資料集)\n",
    "\n",
    "Many high school students get admitted to universities through an application and screening process that requires each university department to offer admission to applicants first before students can choose where they want to go. Suppose we think of applicants as the customers of an academic department. In that case, the duplications of offered applicants from different departments can be used to understand the competitive relationships between academic departments. We are going to visualize this competition relationship using UDOAD. \n",
    "\n",
    "UDOAD was collected through a popular online offer searching service (https://freshman.tw/; site no longer operational) for the 2017 academic year. We collected the offers received by each applicant as well as the basic information for academic departments. This dataset contains two files\n",
    "* student_admission106.csv: the offers received by each student applicant. \n",
    "* univ_name106short1.csv: the basic information, such as the name and field of academic departments. \n",
    "\n",
    "Below is the first few records of these two files:"
   ]
  },
  {
   "cell_type": "code",
   "execution_count": 169,
   "metadata": {},
   "outputs": [
    {
     "name": "stdout",
     "output_type": "stream",
     "text": [
      "There are 60461 students and 1976 departments in total.\n",
      "offers received by students:\n"
     ]
    },
    {
     "data": {
      "text/html": [
       "<div>\n",
       "<style scoped>\n",
       "    .dataframe tbody tr th:only-of-type {\n",
       "        vertical-align: middle;\n",
       "    }\n",
       "\n",
       "    .dataframe tbody tr th {\n",
       "        vertical-align: top;\n",
       "    }\n",
       "\n",
       "    .dataframe thead th {\n",
       "        text-align: right;\n",
       "    }\n",
       "</style>\n",
       "<table border=\"1\" class=\"dataframe\">\n",
       "  <thead>\n",
       "    <tr style=\"text-align: right;\">\n",
       "      <th></th>\n",
       "      <th>school_id</th>\n",
       "      <th>department_id</th>\n",
       "      <th>student_id</th>\n",
       "      <th>student_name</th>\n",
       "      <th>state</th>\n",
       "      <th>location1</th>\n",
       "      <th>location2</th>\n",
       "    </tr>\n",
       "  </thead>\n",
       "  <tbody>\n",
       "    <tr>\n",
       "      <th>0</th>\n",
       "      <td>001</td>\n",
       "      <td>001012</td>\n",
       "      <td>10246842</td>\n",
       "      <td>黃士玹</td>\n",
       "      <td>正1</td>\n",
       "      <td>南部</td>\n",
       "      <td>台南考區</td>\n",
       "    </tr>\n",
       "    <tr>\n",
       "      <th>1</th>\n",
       "      <td>001</td>\n",
       "      <td>001012</td>\n",
       "      <td>10042237</td>\n",
       "      <td>黃冠婷</td>\n",
       "      <td>正2</td>\n",
       "      <td>北部</td>\n",
       "      <td>台北考區</td>\n",
       "    </tr>\n",
       "    <tr>\n",
       "      <th>2</th>\n",
       "      <td>001</td>\n",
       "      <td>001012</td>\n",
       "      <td>10008031</td>\n",
       "      <td>鍾大方</td>\n",
       "      <td>正3</td>\n",
       "      <td>北部</td>\n",
       "      <td>台北考區</td>\n",
       "    </tr>\n",
       "    <tr>\n",
       "      <th>3</th>\n",
       "      <td>001</td>\n",
       "      <td>001012</td>\n",
       "      <td>10201525</td>\n",
       "      <td>曾信豪</td>\n",
       "      <td>正4</td>\n",
       "      <td>中部</td>\n",
       "      <td>彰化考區</td>\n",
       "    </tr>\n",
       "    <tr>\n",
       "      <th>4</th>\n",
       "      <td>001</td>\n",
       "      <td>001012</td>\n",
       "      <td>10014615</td>\n",
       "      <td>陳品儒</td>\n",
       "      <td>正5</td>\n",
       "      <td>北部</td>\n",
       "      <td>台北考區</td>\n",
       "    </tr>\n",
       "    <tr>\n",
       "      <th>5</th>\n",
       "      <td>001</td>\n",
       "      <td>001012</td>\n",
       "      <td>10294018</td>\n",
       "      <td>侯思筠</td>\n",
       "      <td>正6</td>\n",
       "      <td>東部</td>\n",
       "      <td>宜蘭考區</td>\n",
       "    </tr>\n",
       "    <tr>\n",
       "      <th>6</th>\n",
       "      <td>001</td>\n",
       "      <td>001012</td>\n",
       "      <td>10022810</td>\n",
       "      <td>吳悅慈</td>\n",
       "      <td>正7</td>\n",
       "      <td>北部</td>\n",
       "      <td>台北考區</td>\n",
       "    </tr>\n",
       "    <tr>\n",
       "      <th>7</th>\n",
       "      <td>001</td>\n",
       "      <td>001012</td>\n",
       "      <td>10236223</td>\n",
       "      <td>陳俞潔</td>\n",
       "      <td>正8</td>\n",
       "      <td>南部</td>\n",
       "      <td>台南考區</td>\n",
       "    </tr>\n",
       "    <tr>\n",
       "      <th>8</th>\n",
       "      <td>001</td>\n",
       "      <td>001012</td>\n",
       "      <td>10025909</td>\n",
       "      <td>蕭宇廷</td>\n",
       "      <td>正9</td>\n",
       "      <td>北部</td>\n",
       "      <td>台北考區</td>\n",
       "    </tr>\n",
       "    <tr>\n",
       "      <th>9</th>\n",
       "      <td>001</td>\n",
       "      <td>001012</td>\n",
       "      <td>10123708</td>\n",
       "      <td>吳岱軒</td>\n",
       "      <td>正10</td>\n",
       "      <td>北部</td>\n",
       "      <td>中壢考區</td>\n",
       "    </tr>\n",
       "  </tbody>\n",
       "</table>\n",
       "</div>"
      ],
      "text/plain": [
       "  school_id department_id student_id student_name state location1 location2\n",
       "0       001        001012   10246842          黃士玹    正1        南部      台南考區\n",
       "1       001        001012   10042237          黃冠婷    正2        北部      台北考區\n",
       "2       001        001012   10008031          鍾大方    正3        北部      台北考區\n",
       "3       001        001012   10201525          曾信豪    正4        中部      彰化考區\n",
       "4       001        001012   10014615          陳品儒    正5        北部      台北考區\n",
       "5       001        001012   10294018          侯思筠    正6        東部      宜蘭考區\n",
       "6       001        001012   10022810          吳悅慈    正7        北部      台北考區\n",
       "7       001        001012   10236223          陳俞潔    正8        南部      台南考區\n",
       "8       001        001012   10025909          蕭宇廷    正9        北部      台北考區\n",
       "9       001        001012   10123708          吳岱軒   正10        北部      中壢考區"
      ]
     },
     "execution_count": 169,
     "metadata": {},
     "output_type": "execute_result"
    }
   ],
   "source": [
    "%matplotlib inline\n",
    "import matplotlib.pyplot as plt\n",
    "import numpy as np\n",
    "import pandas as pd\n",
    "\n",
    "stu_adm = pd.read_csv('ds/student_admission106.csv', encoding=\"utf-8\", dtype=str)\n",
    "uname = pd.read_csv('ds/univ_name106short1.csv', encoding=\"utf-8\", dtype=str)\n",
    "\n",
    "all_depid = stu_adm['department_id'].unique()\n",
    "all_stuid = stu_adm['student_id'].unique()\n",
    "\n",
    "ndepid = all_depid.shape[0]\n",
    "nstuid = all_stuid.shape[0]\n",
    "print(\"There are %d students and %d departments in total.\" % (nstuid, ndepid))\n",
    "\n",
    "print(\"offers received by students:\")\n",
    "stu_adm.head(10)"
   ]
  },
  {
   "cell_type": "markdown",
   "metadata": {},
   "source": [
    "The department_id can uniquely identify an academic department. We do not care about the ranking of admission here, and you should ignore the \"state\" column. We only care about the \"co-application\" relations in this dataset. You should use student_id to identify a student applicant uniquely. "
   ]
  },
  {
   "cell_type": "code",
   "execution_count": 170,
   "metadata": {},
   "outputs": [
    {
     "name": "stdout",
     "output_type": "stream",
     "text": [
      "academic department basic information:\n"
     ]
    },
    {
     "data": {
      "text/html": [
       "<div>\n",
       "<style scoped>\n",
       "    .dataframe tbody tr th:only-of-type {\n",
       "        vertical-align: middle;\n",
       "    }\n",
       "\n",
       "    .dataframe tbody tr th {\n",
       "        vertical-align: top;\n",
       "    }\n",
       "\n",
       "    .dataframe thead th {\n",
       "        text-align: right;\n",
       "    }\n",
       "</style>\n",
       "<table border=\"1\" class=\"dataframe\">\n",
       "  <thead>\n",
       "    <tr style=\"text-align: right;\">\n",
       "      <th></th>\n",
       "      <th>year</th>\n",
       "      <th>school_id</th>\n",
       "      <th>department_id</th>\n",
       "      <th>school_name</th>\n",
       "      <th>department_name</th>\n",
       "      <th>category_id</th>\n",
       "      <th>category_name</th>\n",
       "      <th>school_name_abbr</th>\n",
       "      <th>department_name_abbr</th>\n",
       "    </tr>\n",
       "  </thead>\n",
       "  <tbody>\n",
       "    <tr>\n",
       "      <th>0</th>\n",
       "      <td>106</td>\n",
       "      <td>006</td>\n",
       "      <td>006042</td>\n",
       "      <td>國立政治大學</td>\n",
       "      <td>教育學系</td>\n",
       "      <td>1</td>\n",
       "      <td>教育</td>\n",
       "      <td>政大</td>\n",
       "      <td>教育</td>\n",
       "    </tr>\n",
       "    <tr>\n",
       "      <th>1</th>\n",
       "      <td>106</td>\n",
       "      <td>006</td>\n",
       "      <td>006052</td>\n",
       "      <td>國立政治大學</td>\n",
       "      <td>教育學系(公費生)</td>\n",
       "      <td>1</td>\n",
       "      <td>教育</td>\n",
       "      <td>政大</td>\n",
       "      <td>教育(公)</td>\n",
       "    </tr>\n",
       "    <tr>\n",
       "      <th>2</th>\n",
       "      <td>106</td>\n",
       "      <td>006</td>\n",
       "      <td>006062</td>\n",
       "      <td>國立政治大學</td>\n",
       "      <td>教育學系(原住民公費生)</td>\n",
       "      <td>1</td>\n",
       "      <td>教育</td>\n",
       "      <td>政大</td>\n",
       "      <td>教育(原住民)</td>\n",
       "    </tr>\n",
       "    <tr>\n",
       "      <th>3</th>\n",
       "      <td>106</td>\n",
       "      <td>006</td>\n",
       "      <td>006022</td>\n",
       "      <td>國立政治大學</td>\n",
       "      <td>歷史學系</td>\n",
       "      <td>2</td>\n",
       "      <td>藝術及人文</td>\n",
       "      <td>政大</td>\n",
       "      <td>歷史</td>\n",
       "    </tr>\n",
       "    <tr>\n",
       "      <th>4</th>\n",
       "      <td>106</td>\n",
       "      <td>006</td>\n",
       "      <td>006152</td>\n",
       "      <td>國立政治大學</td>\n",
       "      <td>民族學系</td>\n",
       "      <td>2</td>\n",
       "      <td>藝術及人文</td>\n",
       "      <td>政大</td>\n",
       "      <td>民族學</td>\n",
       "    </tr>\n",
       "    <tr>\n",
       "      <th>5</th>\n",
       "      <td>106</td>\n",
       "      <td>006</td>\n",
       "      <td>006032</td>\n",
       "      <td>國立政治大學</td>\n",
       "      <td>哲學系</td>\n",
       "      <td>2</td>\n",
       "      <td>藝術及人文</td>\n",
       "      <td>政大</td>\n",
       "      <td>哲學</td>\n",
       "    </tr>\n",
       "    <tr>\n",
       "      <th>6</th>\n",
       "      <td>106</td>\n",
       "      <td>006</td>\n",
       "      <td>006262</td>\n",
       "      <td>國立政治大學</td>\n",
       "      <td>英國語文學系</td>\n",
       "      <td>2</td>\n",
       "      <td>藝術及人文</td>\n",
       "      <td>政大</td>\n",
       "      <td>英國語文</td>\n",
       "    </tr>\n",
       "    <tr>\n",
       "      <th>7</th>\n",
       "      <td>106</td>\n",
       "      <td>006</td>\n",
       "      <td>006292</td>\n",
       "      <td>國立政治大學</td>\n",
       "      <td>日本語文學系</td>\n",
       "      <td>2</td>\n",
       "      <td>藝術及人文</td>\n",
       "      <td>政大</td>\n",
       "      <td>日本語文</td>\n",
       "    </tr>\n",
       "    <tr>\n",
       "      <th>8</th>\n",
       "      <td>106</td>\n",
       "      <td>006</td>\n",
       "      <td>006272</td>\n",
       "      <td>國立政治大學</td>\n",
       "      <td>阿拉伯語文學系</td>\n",
       "      <td>2</td>\n",
       "      <td>藝術及人文</td>\n",
       "      <td>政大</td>\n",
       "      <td>阿拉伯語文</td>\n",
       "    </tr>\n",
       "    <tr>\n",
       "      <th>9</th>\n",
       "      <td>106</td>\n",
       "      <td>006</td>\n",
       "      <td>006302</td>\n",
       "      <td>國立政治大學</td>\n",
       "      <td>韓國語文學系</td>\n",
       "      <td>2</td>\n",
       "      <td>藝術及人文</td>\n",
       "      <td>政大</td>\n",
       "      <td>韓國語文</td>\n",
       "    </tr>\n",
       "  </tbody>\n",
       "</table>\n",
       "</div>"
      ],
      "text/plain": [
       "  year school_id department_id school_name department_name category_id  \\\n",
       "0  106       006        006042      國立政治大學            教育學系           1   \n",
       "1  106       006        006052      國立政治大學       教育學系(公費生)           1   \n",
       "2  106       006        006062      國立政治大學    教育學系(原住民公費生)           1   \n",
       "3  106       006        006022      國立政治大學            歷史學系           2   \n",
       "4  106       006        006152      國立政治大學            民族學系           2   \n",
       "5  106       006        006032      國立政治大學             哲學系           2   \n",
       "6  106       006        006262      國立政治大學          英國語文學系           2   \n",
       "7  106       006        006292      國立政治大學          日本語文學系           2   \n",
       "8  106       006        006272      國立政治大學         阿拉伯語文學系           2   \n",
       "9  106       006        006302      國立政治大學          韓國語文學系           2   \n",
       "\n",
       "  category_name school_name_abbr department_name_abbr  \n",
       "0            教育               政大                   教育  \n",
       "1            教育               政大                教育(公)  \n",
       "2            教育               政大              教育(原住民)  \n",
       "3         藝術及人文               政大                   歷史  \n",
       "4         藝術及人文               政大                  民族學  \n",
       "5         藝術及人文               政大                   哲學  \n",
       "6         藝術及人文               政大                 英國語文  \n",
       "7         藝術及人文               政大                 日本語文  \n",
       "8         藝術及人文               政大                阿拉伯語文  \n",
       "9         藝術及人文               政大                 韓國語文  "
      ]
     },
     "execution_count": 170,
     "metadata": {},
     "output_type": "execute_result"
    }
   ],
   "source": [
    "print(\"academic department basic information:\")\n",
    "uname.head(10)"
   ]
  },
  {
   "cell_type": "markdown",
   "metadata": {},
   "source": [
    "You can use this dataset to identify the name of a department_id. The school_name and department_name contain the \"full name\" of an academic department. To facilitate visualization, we also provide \"shorter names\" in school_name_abbr and department_name_abbr. The category_name is the field of an academic department. This field is essential in our visualization exercise since you should color each data point according to its category_name. "
   ]
  },
  {
   "cell_type": "markdown",
   "metadata": {},
   "source": [
    "#### Implementation Restrictions\n",
    "You are allowed to use any Python libraries in your solution. "
   ]
  },
  {
   "cell_type": "markdown",
   "metadata": {},
   "source": [
    "### Data Preparation\n",
    "Our focus is on the relationships between departments. To do this, we need to convert the raw data into a \"matrix\" representation. Each row represents an academic department, and each column represents a student applicant. The cell's value is one if a student applied for admission to the corresponding academic department, and 0 otherwise. \n",
    "\n",
    "To avoid potential numerical problems, we only include an academic department if it received ten or more applications. Moreover, we only include a student applicant if he or she applied for more than one academic department. \n",
    "\n",
    "Note that the two conditions should be satisfied \"as is\" in after preprocessing. For example, suppose a student applied for two departments in the original dataset, and one of the departments was removed. In that case, this student should be removed because the student only applied for one department in the processed dataset. \n",
    "\n"
   ]
  },
  {
   "cell_type": "code",
   "execution_count": 171,
   "metadata": {},
   "outputs": [
    {
     "name": "stdout",
     "output_type": "stream",
     "text": [
      "In raw data, there are 60461 students and 1976 departments in total.\n",
      "Number of department too small: 0\n",
      "Number of students applying only one department: 0\n"
     ]
    }
   ],
   "source": [
    "%matplotlib inline\n",
    "import numpy as np\n",
    "import pandas as pd\n",
    "\n",
    "stu_adm = pd.read_csv('ds/student_admission106.csv', encoding=\"utf-8\", dtype=str)\n",
    "uname = pd.read_csv('ds/univ_name106short1.csv', encoding=\"utf-8\", dtype=str)\n",
    "\n",
    "all_depid = stu_adm['department_id'].unique()\n",
    "all_stuid = stu_adm['student_id'].unique()\n",
    "\n",
    "ndepid = all_depid.shape[0]\n",
    "nstuid = all_stuid.shape[0]\n",
    "print(\"In raw data, there are %d students and %d departments in total.\" % (nstuid, ndepid))\n",
    "\n",
    "#construct the department-student matrix (i.e. array). \n",
    "dep_stu = np.zeros((ndepid, nstuid))\n",
    "rowname = all_depid.copy()\n",
    "\n",
    "depid_seq_map = dict()\n",
    "for i in range(ndepid):\n",
    "    depid_seq_map[all_depid[i]] = i\n",
    "\n",
    "stuid_seq_map = dict()\n",
    "for i in range(nstuid):\n",
    "    stuid_seq_map[all_stuid[i]] = i\n",
    "\n",
    "for cindex, row in stu_adm.iterrows():\n",
    "    #print(cindex, row)\n",
    "    dep_seq = depid_seq_map[row['department_id']]\n",
    "    stu_seq = stuid_seq_map[row['student_id']]\n",
    "    #print(dep_seq, stu_seq)\n",
    "    dep_stu[dep_seq, stu_seq] = 1\n",
    "\n",
    "#Remove very small departments.\n",
    "min_stu_per_dep = 10\n",
    "min_apply_dep_per_stu = 2\n",
    "\n",
    "#remove small departments and single-application students. \n",
    "dep_apply_sum = np.sum(dep_stu, axis = 1)\n",
    "keeprow = dep_apply_sum >= min_stu_per_dep\n",
    "rowname = rowname[keeprow]\n",
    "dep_stu2 = dep_stu[keeprow,:]\n",
    "stu_apply_sum = np.sum(dep_stu2, axis = 0)\n",
    "dep_stu2 = dep_stu2[:, stu_apply_sum >= min_apply_dep_per_stu]\n",
    "\n",
    "#another run of filtering\n",
    "dep_apply_sum = np.sum(dep_stu2, axis = 1)\n",
    "dep_stu2 = dep_stu2[dep_apply_sum >= min_stu_per_dep,:]\n",
    "rowname = rowname[dep_apply_sum >= min_stu_per_dep]\n",
    "stu_apply_sum = np.sum(dep_stu2, axis = 0)\n",
    "dep_stu2 = dep_stu2[:, stu_apply_sum >= min_apply_dep_per_stu]\n",
    "\n",
    "#third run of filtering\n",
    "dep_apply_sum = np.sum(dep_stu2, axis = 1)\n",
    "dep_stu2 = dep_stu2[dep_apply_sum >= min_stu_per_dep,:]\n",
    "rowname = rowname[dep_apply_sum >= min_stu_per_dep]\n",
    "\n",
    "stu_apply_sum = np.sum(dep_stu2, axis = 0)\n",
    "dep_stu2 = dep_stu2[:, stu_apply_sum >= min_apply_dep_per_stu]\n",
    "\n",
    "#check to make sure the two conditions are satisfied. \n",
    "dep_apply_sum = np.sum(dep_stu2, axis = 1)\n",
    "print(\"Number of department too small:\", np.sum(dep_apply_sum < min_stu_per_dep))\n",
    "stu_apply_sum = np.sum(dep_stu2, axis = 0)\n",
    "print(\"Number of students applying only one department:\", np.sum(stu_apply_sum <min_apply_dep_per_stu))\n",
    "\n",
    "#now both conditions are satisfied."
   ]
  },
  {
   "cell_type": "markdown",
   "metadata": {},
   "source": [
    "Report the number of academic departments and student applicants in the processed dataset: "
   ]
  },
  {
   "cell_type": "code",
   "execution_count": 172,
   "metadata": {},
   "outputs": [
    {
     "name": "stdout",
     "output_type": "stream",
     "text": [
      "In final dataset, there are 1917 academic departments and 47386 student applicants.\n"
     ]
    }
   ],
   "source": [
    "num_dep, num_stu = dep_stu2.shape\n",
    "print(\"In final dataset, there are\", num_dep, \"academic departments and\", num_stu, \"student applicants.\")"
   ]
  },
  {
   "cell_type": "markdown",
   "metadata": {},
   "source": [
    "Report the top ten departments that received the most applications and the number of applications they received:"
   ]
  },
  {
   "cell_type": "code",
   "execution_count": 173,
   "metadata": {},
   "outputs": [],
   "source": [
    "uname['depname'] = uname.school_name_abbr + uname.department_name_abbr\n",
    "uname2 = uname[['department_id', 'depname', 'category_name']].copy()\n",
    "#this is for later use, to color data points. \n",
    "category_id, category_levels = pd.factorize(uname2.category_name)\n",
    "#uname2['category_id'] = category_id / np.max(category_id)\n",
    "uname2['category_id'] = category_id\n",
    "\n",
    "#create a data frame for column name\n",
    "colname_df = pd.DataFrame({'department_id': rowname})\n",
    "colname_df = colname_df.merge(uname2, how = \"left\", on=\"department_id\")"
   ]
  },
  {
   "cell_type": "code",
   "execution_count": 174,
   "metadata": {},
   "outputs": [
    {
     "data": {
      "text/html": [
       "<div>\n",
       "<style scoped>\n",
       "    .dataframe tbody tr th:only-of-type {\n",
       "        vertical-align: middle;\n",
       "    }\n",
       "\n",
       "    .dataframe tbody tr th {\n",
       "        vertical-align: top;\n",
       "    }\n",
       "\n",
       "    .dataframe thead th {\n",
       "        text-align: right;\n",
       "    }\n",
       "</style>\n",
       "<table border=\"1\" class=\"dataframe\">\n",
       "  <thead>\n",
       "    <tr style=\"text-align: right;\">\n",
       "      <th></th>\n",
       "      <th>department_id</th>\n",
       "      <th>department_name</th>\n",
       "      <th>num_applicant</th>\n",
       "    </tr>\n",
       "  </thead>\n",
       "  <tbody>\n",
       "    <tr>\n",
       "      <th>0</th>\n",
       "      <td>008122</td>\n",
       "      <td>中原機械工程學</td>\n",
       "      <td>386.0</td>\n",
       "    </tr>\n",
       "    <tr>\n",
       "      <th>1</th>\n",
       "      <td>012052</td>\n",
       "      <td>中醫藥學</td>\n",
       "      <td>376.0</td>\n",
       "    </tr>\n",
       "    <tr>\n",
       "      <th>2</th>\n",
       "      <td>046032</td>\n",
       "      <td>銘傳會計（臺北）</td>\n",
       "      <td>367.0</td>\n",
       "    </tr>\n",
       "    <tr>\n",
       "      <th>3</th>\n",
       "      <td>004382</td>\n",
       "      <td>成大電機</td>\n",
       "      <td>357.0</td>\n",
       "    </tr>\n",
       "    <tr>\n",
       "      <th>4</th>\n",
       "      <td>005192</td>\n",
       "      <td>東吳企業管理</td>\n",
       "      <td>353.0</td>\n",
       "    </tr>\n",
       "    <tr>\n",
       "      <th>5</th>\n",
       "      <td>008112</td>\n",
       "      <td>中原土木</td>\n",
       "      <td>353.0</td>\n",
       "    </tr>\n",
       "    <tr>\n",
       "      <th>6</th>\n",
       "      <td>005182</td>\n",
       "      <td>東吳會計</td>\n",
       "      <td>351.0</td>\n",
       "    </tr>\n",
       "    <tr>\n",
       "      <th>7</th>\n",
       "      <td>015342</td>\n",
       "      <td>逢甲財金</td>\n",
       "      <td>340.0</td>\n",
       "    </tr>\n",
       "    <tr>\n",
       "      <th>8</th>\n",
       "      <td>045012</td>\n",
       "      <td>義守電機</td>\n",
       "      <td>339.0</td>\n",
       "    </tr>\n",
       "    <tr>\n",
       "      <th>9</th>\n",
       "      <td>046162</td>\n",
       "      <td>銘傳應用英語（桃園）</td>\n",
       "      <td>329.0</td>\n",
       "    </tr>\n",
       "  </tbody>\n",
       "</table>\n",
       "</div>"
      ],
      "text/plain": [
       "  department_id department_name  num_applicant\n",
       "0        008122         中原機械工程學          386.0\n",
       "1        012052            中醫藥學          376.0\n",
       "2        046032        銘傳會計（臺北）          367.0\n",
       "3        004382            成大電機          357.0\n",
       "4        005192          東吳企業管理          353.0\n",
       "5        008112            中原土木          353.0\n",
       "6        005182            東吳會計          351.0\n",
       "7        015342            逢甲財金          340.0\n",
       "8        045012            義守電機          339.0\n",
       "9        046162      銘傳應用英語（桃園）          329.0"
      ]
     },
     "execution_count": 174,
     "metadata": {},
     "output_type": "execute_result"
    }
   ],
   "source": [
    "topdepid = np.argsort(dep_apply_sum)[::-1]\n",
    "topn = 10\n",
    "topdep = pd.DataFrame({'department_id': rowname[topdepid[0:topn]], \n",
    "                       'department_name': colname_df.depname.values[topdepid[0:topn]],\n",
    "                       'num_applicant': dep_apply_sum[topdepid[0:topn]]\n",
    "                       }) \n",
    "topdep"
   ]
  },
  {
   "cell_type": "markdown",
   "metadata": {},
   "source": [
    "### Answer the following questions\n",
    "Visualize academic departments in the following questions. In all plots, you should color data points according to the academic department's category. Moreover, you should provide a legend or a picture that illustrates the mapping between colors and category names. Visualize the data using two-dimensional plots. Note that it is your responsibility to study the documentation of your choice libraries and make sure that the results are reasonable. \n",
    "* Q2.1 (10%): Visualize academic departments using the first eight principal components. Use your judgment to select multiple pairs of principal components to visualize. Discuss the visual patterns concerning department categories. \n",
    "* Q2.2 (10%): Visualize academic departments using multiple dimensional scaling. Consider both the metric and non-metric settings. Discuss the result. \n",
    "* Q2.3 (10%): Visualize academic departments using Locally Linear Embedding. Consider three variations: (1) Use 20 neighbors to construct the weight matrix; (2) Use 40 neighbors to construct the weight matrix; (3) Perform PCA transformation first, and use the first 100 principal components as the input to LLE (with 20 neighbors). Discuss the result. \n",
    "* Q2.4 (10%): Visualize academic departments using Kernel PCA. You should at least consider the RBF and Cosine kernel. It is your responsibility to select reasonably good kernel parameters. Discuss the result. \n",
    "* Q2.5 (10%): Visualize academic departments using t-SNE. You should consider at least the Euclidian, Cosine, and Jaccard metric. Set numpy random seed so that your results can be repeated. Discuss the result. \n",
    "* Q2.6 (10%) Select the most promising visualization method in the previous question and refine the result. You should color points by department category. Label each data point with its name so that we can quickly identify a data point on the picture. Moreover, you should try to reduce the problem caused by overlapping points and labels. Output an image that is large enough so that a user can easily identify a department and its neighbors. Jupyter Lab has limitations on the largest picture size. To overcome this problem, output the picture to a separate file and submit the file for grading. Your score depends on how useful, readable, and visually pleasing of your visualization results. "
   ]
  },
  {
   "cell_type": "markdown",
   "metadata": {},
   "source": [
    "---\n",
    "### Solution\n",
    "---\n",
    "\n",
    "Add cells below and answer the questions below."
   ]
  }
 ],
 "metadata": {
  "kernelspec": {
   "display_name": "Python 3.9.12 ('base')",
   "language": "python",
   "name": "python3"
  },
  "language_info": {
   "codemirror_mode": {
    "name": "ipython",
    "version": 3
   },
   "file_extension": ".py",
   "mimetype": "text/x-python",
   "name": "python",
   "nbconvert_exporter": "python",
   "pygments_lexer": "ipython3",
   "version": "3.9.12"
  },
  "vscode": {
   "interpreter": {
    "hash": "5cfa4b7dcd7864583d72e5eda12e513f8c53c522d90114d3c5fb0ab3f428a316"
   }
  }
 },
 "nbformat": 4,
 "nbformat_minor": 4
}
